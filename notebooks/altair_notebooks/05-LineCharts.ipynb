{
 "cells": [
  {
   "cell_type": "markdown",
   "metadata": {},
   "source": [
    "# Line Charts\n",
    "\n",
    "* [Simple line chart](#Simple-line-chart)\n",
    "    * [Data transform in Vega-Lite](#Data-transform-in-Vega-Lite)\n",
    "    * [Data transform in Pandas](#Data-transform-in-Pandas)\n",
    "    * [Log scale](#Log-scale)\n",
    "* [Grouped line chart](#Grouped-line-chart)\n",
    "* [Line chart with custom path](#Line-chart-with-custom-path)"
   ]
  },
  {
   "cell_type": "code",
   "execution_count": 1,
   "metadata": {},
   "outputs": [],
   "source": [
    "import altair as alt"
   ]
  },
  {
   "cell_type": "code",
   "execution_count": 3,
   "metadata": {},
   "outputs": [
    {
     "data": {
      "text/plain": [
       "RendererRegistry.enable('notebook')"
      ]
     },
     "execution_count": 3,
     "metadata": {},
     "output_type": "execute_result"
    }
   ],
   "source": [
    "# Uncomment/run this line to enable Altair in the classic notebook (not JupyterLab)\n",
    "alt.renderers.enable('notebook')"
   ]
  },
  {
   "cell_type": "code",
   "execution_count": 4,
   "metadata": {},
   "outputs": [],
   "source": [
    "from vega_datasets import data\n",
    "stocks = data.stocks()"
   ]
  },
  {
   "cell_type": "markdown",
   "metadata": {},
   "source": [
    "## Simple line chart"
   ]
  },
  {
   "cell_type": "markdown",
   "metadata": {},
   "source": [
    "### Data transform in Vega-Lite"
   ]
  },
  {
   "cell_type": "code",
   "execution_count": 5,
   "metadata": {},
   "outputs": [
    {
     "data": {
      "text/html": [
       "<div class=\"vega-embed\" id=\"fec21247-1d77-4eae-a104-8d77d3171ecb\"></div>\n",
       "\n",
       "<style>\n",
       ".vega-embed .error p {\n",
       "    color: firebrick;\n",
       "    font-size: 14px;\n",
       "}\n",
       "</style>\n"
      ]
     },
     "metadata": {
      "jupyter-vega": "#fec21247-1d77-4eae-a104-8d77d3171ecb"
     },
     "output_type": "display_data"
    },
    {
     "data": {
      "application/javascript": [
       "var spec = {\"config\": {\"view\": {\"width\": 400, \"height\": 300}}, \"data\": {\"values\": [{\"symbol\": \"MSFT\", \"date\": \"2000-01-01\", \"price\": 39.81}, {\"symbol\": \"MSFT\", \"date\": \"2000-02-01\", \"price\": 36.35}, {\"symbol\": \"MSFT\", \"date\": \"2000-03-01\", \"price\": 43.22}, {\"symbol\": \"MSFT\", \"date\": \"2000-04-01\", \"price\": 28.37}, {\"symbol\": \"MSFT\", \"date\": \"2000-05-01\", \"price\": 25.45}, {\"symbol\": \"MSFT\", \"date\": \"2000-06-01\", \"price\": 32.54}, {\"symbol\": \"MSFT\", \"date\": \"2000-07-01\", \"price\": 28.4}, {\"symbol\": \"MSFT\", \"date\": \"2000-08-01\", \"price\": 28.4}, {\"symbol\": \"MSFT\", \"date\": \"2000-09-01\", \"price\": 24.53}, {\"symbol\": \"MSFT\", \"date\": \"2000-10-01\", \"price\": 28.02}, {\"symbol\": \"MSFT\", \"date\": \"2000-11-01\", \"price\": 23.34}, {\"symbol\": \"MSFT\", \"date\": \"2000-12-01\", \"price\": 17.65}, {\"symbol\": \"MSFT\", \"date\": \"2001-01-01\", \"price\": 24.84}, {\"symbol\": \"MSFT\", \"date\": \"2001-02-01\", \"price\": 24.0}, {\"symbol\": \"MSFT\", \"date\": \"2001-03-01\", \"price\": 22.25}, {\"symbol\": \"MSFT\", \"date\": \"2001-04-01\", \"price\": 27.56}, {\"symbol\": \"MSFT\", \"date\": \"2001-05-01\", \"price\": 28.14}, {\"symbol\": \"MSFT\", \"date\": \"2001-06-01\", \"price\": 29.7}, {\"symbol\": \"MSFT\", \"date\": \"2001-07-01\", \"price\": 26.93}, {\"symbol\": \"MSFT\", \"date\": \"2001-08-01\", \"price\": 23.21}, {\"symbol\": \"MSFT\", \"date\": \"2001-09-01\", \"price\": 20.82}, {\"symbol\": \"MSFT\", \"date\": \"2001-10-01\", \"price\": 23.65}, {\"symbol\": \"MSFT\", \"date\": \"2001-11-01\", \"price\": 26.12}, {\"symbol\": \"MSFT\", \"date\": \"2001-12-01\", \"price\": 26.95}, {\"symbol\": \"MSFT\", \"date\": \"2002-01-01\", \"price\": 25.92}, {\"symbol\": \"MSFT\", \"date\": \"2002-02-01\", \"price\": 23.73}, {\"symbol\": \"MSFT\", \"date\": \"2002-03-01\", \"price\": 24.53}, {\"symbol\": \"MSFT\", \"date\": \"2002-04-01\", \"price\": 21.26}, {\"symbol\": \"MSFT\", \"date\": \"2002-05-01\", \"price\": 20.71}, {\"symbol\": \"MSFT\", \"date\": \"2002-06-01\", \"price\": 22.25}, {\"symbol\": \"MSFT\", \"date\": \"2002-07-01\", \"price\": 19.52}, {\"symbol\": \"MSFT\", \"date\": \"2002-08-01\", \"price\": 19.97}, {\"symbol\": \"MSFT\", \"date\": \"2002-09-01\", \"price\": 17.79}, {\"symbol\": \"MSFT\", \"date\": \"2002-10-01\", \"price\": 21.75}, {\"symbol\": \"MSFT\", \"date\": \"2002-11-01\", \"price\": 23.46}, {\"symbol\": \"MSFT\", \"date\": \"2002-12-01\", \"price\": 21.03}, {\"symbol\": \"MSFT\", \"date\": \"2003-01-01\", \"price\": 19.31}, {\"symbol\": \"MSFT\", \"date\": \"2003-02-01\", \"price\": 19.34}, {\"symbol\": \"MSFT\", \"date\": \"2003-03-01\", \"price\": 19.76}, {\"symbol\": \"MSFT\", \"date\": \"2003-04-01\", \"price\": 20.87}, {\"symbol\": \"MSFT\", \"date\": \"2003-05-01\", \"price\": 20.09}, {\"symbol\": \"MSFT\", \"date\": \"2003-06-01\", \"price\": 20.93}, {\"symbol\": \"MSFT\", \"date\": \"2003-07-01\", \"price\": 21.56}, {\"symbol\": \"MSFT\", \"date\": \"2003-08-01\", \"price\": 21.65}, {\"symbol\": \"MSFT\", \"date\": \"2003-09-01\", \"price\": 22.69}, {\"symbol\": \"MSFT\", \"date\": \"2003-10-01\", \"price\": 21.45}, {\"symbol\": \"MSFT\", \"date\": \"2003-11-01\", \"price\": 21.1}, {\"symbol\": \"MSFT\", \"date\": \"2003-12-01\", \"price\": 22.46}, {\"symbol\": \"MSFT\", \"date\": \"2004-01-01\", \"price\": 22.69}, {\"symbol\": \"MSFT\", \"date\": \"2004-02-01\", \"price\": 21.77}, {\"symbol\": \"MSFT\", \"date\": \"2004-03-01\", \"price\": 20.46}, {\"symbol\": \"MSFT\", \"date\": \"2004-04-01\", \"price\": 21.45}, {\"symbol\": \"MSFT\", \"date\": \"2004-05-01\", \"price\": 21.53}, {\"symbol\": \"MSFT\", \"date\": \"2004-06-01\", \"price\": 23.44}, {\"symbol\": \"MSFT\", \"date\": \"2004-07-01\", \"price\": 23.38}, {\"symbol\": \"MSFT\", \"date\": \"2004-08-01\", \"price\": 22.47}, {\"symbol\": \"MSFT\", \"date\": \"2004-09-01\", \"price\": 22.76}, {\"symbol\": \"MSFT\", \"date\": \"2004-10-01\", \"price\": 23.02}, {\"symbol\": \"MSFT\", \"date\": \"2004-11-01\", \"price\": 24.6}, {\"symbol\": \"MSFT\", \"date\": \"2004-12-01\", \"price\": 24.52}, {\"symbol\": \"MSFT\", \"date\": \"2005-01-01\", \"price\": 24.11}, {\"symbol\": \"MSFT\", \"date\": \"2005-02-01\", \"price\": 23.15}, {\"symbol\": \"MSFT\", \"date\": \"2005-03-01\", \"price\": 22.24}, {\"symbol\": \"MSFT\", \"date\": \"2005-04-01\", \"price\": 23.28}, {\"symbol\": \"MSFT\", \"date\": \"2005-05-01\", \"price\": 23.82}, {\"symbol\": \"MSFT\", \"date\": \"2005-06-01\", \"price\": 22.93}, {\"symbol\": \"MSFT\", \"date\": \"2005-07-01\", \"price\": 23.64}, {\"symbol\": \"MSFT\", \"date\": \"2005-08-01\", \"price\": 25.35}, {\"symbol\": \"MSFT\", \"date\": \"2005-09-01\", \"price\": 23.83}, {\"symbol\": \"MSFT\", \"date\": \"2005-10-01\", \"price\": 23.8}, {\"symbol\": \"MSFT\", \"date\": \"2005-11-01\", \"price\": 25.71}, {\"symbol\": \"MSFT\", \"date\": \"2005-12-01\", \"price\": 24.29}, {\"symbol\": \"MSFT\", \"date\": \"2006-01-01\", \"price\": 26.14}, {\"symbol\": \"MSFT\", \"date\": \"2006-02-01\", \"price\": 25.04}, {\"symbol\": \"MSFT\", \"date\": \"2006-03-01\", \"price\": 25.36}, {\"symbol\": \"MSFT\", \"date\": \"2006-04-01\", \"price\": 22.5}, {\"symbol\": \"MSFT\", \"date\": \"2006-05-01\", \"price\": 21.19}, {\"symbol\": \"MSFT\", \"date\": \"2006-06-01\", \"price\": 21.8}, {\"symbol\": \"MSFT\", \"date\": \"2006-07-01\", \"price\": 22.51}, {\"symbol\": \"MSFT\", \"date\": \"2006-08-01\", \"price\": 24.13}, {\"symbol\": \"MSFT\", \"date\": \"2006-09-01\", \"price\": 25.68}, {\"symbol\": \"MSFT\", \"date\": \"2006-10-01\", \"price\": 26.96}, {\"symbol\": \"MSFT\", \"date\": \"2006-11-01\", \"price\": 27.66}, {\"symbol\": \"MSFT\", \"date\": \"2006-12-01\", \"price\": 28.13}, {\"symbol\": \"MSFT\", \"date\": \"2007-01-01\", \"price\": 29.07}, {\"symbol\": \"MSFT\", \"date\": \"2007-02-01\", \"price\": 26.63}, {\"symbol\": \"MSFT\", \"date\": \"2007-03-01\", \"price\": 26.35}, {\"symbol\": \"MSFT\", \"date\": \"2007-04-01\", \"price\": 28.3}, {\"symbol\": \"MSFT\", \"date\": \"2007-05-01\", \"price\": 29.11}, {\"symbol\": \"MSFT\", \"date\": \"2007-06-01\", \"price\": 27.95}, {\"symbol\": \"MSFT\", \"date\": \"2007-07-01\", \"price\": 27.5}, {\"symbol\": \"MSFT\", \"date\": \"2007-08-01\", \"price\": 27.34}, {\"symbol\": \"MSFT\", \"date\": \"2007-09-01\", \"price\": 28.04}, {\"symbol\": \"MSFT\", \"date\": \"2007-10-01\", \"price\": 35.03}, {\"symbol\": \"MSFT\", \"date\": \"2007-11-01\", \"price\": 32.09}, {\"symbol\": \"MSFT\", \"date\": \"2007-12-01\", \"price\": 34.0}, {\"symbol\": \"MSFT\", \"date\": \"2008-01-01\", \"price\": 31.13}, {\"symbol\": \"MSFT\", \"date\": \"2008-02-01\", \"price\": 26.07}, {\"symbol\": \"MSFT\", \"date\": \"2008-03-01\", \"price\": 27.21}, {\"symbol\": \"MSFT\", \"date\": \"2008-04-01\", \"price\": 27.34}, {\"symbol\": \"MSFT\", \"date\": \"2008-05-01\", \"price\": 27.25}, {\"symbol\": \"MSFT\", \"date\": \"2008-06-01\", \"price\": 26.47}, {\"symbol\": \"MSFT\", \"date\": \"2008-07-01\", \"price\": 24.75}, {\"symbol\": \"MSFT\", \"date\": \"2008-08-01\", \"price\": 26.36}, {\"symbol\": \"MSFT\", \"date\": \"2008-09-01\", \"price\": 25.78}, {\"symbol\": \"MSFT\", \"date\": \"2008-10-01\", \"price\": 21.57}, {\"symbol\": \"MSFT\", \"date\": \"2008-11-01\", \"price\": 19.66}, {\"symbol\": \"MSFT\", \"date\": \"2008-12-01\", \"price\": 18.91}, {\"symbol\": \"MSFT\", \"date\": \"2009-01-01\", \"price\": 16.63}, {\"symbol\": \"MSFT\", \"date\": \"2009-02-01\", \"price\": 15.81}, {\"symbol\": \"MSFT\", \"date\": \"2009-03-01\", \"price\": 17.99}, {\"symbol\": \"MSFT\", \"date\": \"2009-04-01\", \"price\": 19.84}, {\"symbol\": \"MSFT\", \"date\": \"2009-05-01\", \"price\": 20.59}, {\"symbol\": \"MSFT\", \"date\": \"2009-06-01\", \"price\": 23.42}, {\"symbol\": \"MSFT\", \"date\": \"2009-07-01\", \"price\": 23.18}, {\"symbol\": \"MSFT\", \"date\": \"2009-08-01\", \"price\": 24.43}, {\"symbol\": \"MSFT\", \"date\": \"2009-09-01\", \"price\": 25.49}, {\"symbol\": \"MSFT\", \"date\": \"2009-10-01\", \"price\": 27.48}, {\"symbol\": \"MSFT\", \"date\": \"2009-11-01\", \"price\": 29.27}, {\"symbol\": \"MSFT\", \"date\": \"2009-12-01\", \"price\": 30.34}, {\"symbol\": \"MSFT\", \"date\": \"2010-01-01\", \"price\": 28.05}, {\"symbol\": \"MSFT\", \"date\": \"2010-02-01\", \"price\": 28.67}, {\"symbol\": \"MSFT\", \"date\": \"2010-03-01\", \"price\": 28.8}, {\"symbol\": \"AMZN\", \"date\": \"2000-01-01\", \"price\": 64.56}, {\"symbol\": \"AMZN\", \"date\": \"2000-02-01\", \"price\": 68.87}, {\"symbol\": \"AMZN\", \"date\": \"2000-03-01\", \"price\": 67.0}, {\"symbol\": \"AMZN\", \"date\": \"2000-04-01\", \"price\": 55.19}, {\"symbol\": \"AMZN\", \"date\": \"2000-05-01\", \"price\": 48.31}, {\"symbol\": \"AMZN\", \"date\": \"2000-06-01\", \"price\": 36.31}, {\"symbol\": \"AMZN\", \"date\": \"2000-07-01\", \"price\": 30.12}, {\"symbol\": \"AMZN\", \"date\": \"2000-08-01\", \"price\": 41.5}, {\"symbol\": \"AMZN\", \"date\": \"2000-09-01\", \"price\": 38.44}, {\"symbol\": \"AMZN\", \"date\": \"2000-10-01\", \"price\": 36.62}, {\"symbol\": \"AMZN\", \"date\": \"2000-11-01\", \"price\": 24.69}, {\"symbol\": \"AMZN\", \"date\": \"2000-12-01\", \"price\": 15.56}, {\"symbol\": \"AMZN\", \"date\": \"2001-01-01\", \"price\": 17.31}, {\"symbol\": \"AMZN\", \"date\": \"2001-02-01\", \"price\": 10.19}, {\"symbol\": \"AMZN\", \"date\": \"2001-03-01\", \"price\": 10.23}, {\"symbol\": \"AMZN\", \"date\": \"2001-04-01\", \"price\": 15.78}, {\"symbol\": \"AMZN\", \"date\": \"2001-05-01\", \"price\": 16.69}, {\"symbol\": \"AMZN\", \"date\": \"2001-06-01\", \"price\": 14.15}, {\"symbol\": \"AMZN\", \"date\": \"2001-07-01\", \"price\": 12.49}, {\"symbol\": \"AMZN\", \"date\": \"2001-08-01\", \"price\": 8.94}, {\"symbol\": \"AMZN\", \"date\": \"2001-09-01\", \"price\": 5.97}, {\"symbol\": \"AMZN\", \"date\": \"2001-10-01\", \"price\": 6.98}, {\"symbol\": \"AMZN\", \"date\": \"2001-11-01\", \"price\": 11.32}, {\"symbol\": \"AMZN\", \"date\": \"2001-12-01\", \"price\": 10.82}, {\"symbol\": \"AMZN\", \"date\": \"2002-01-01\", \"price\": 14.19}, {\"symbol\": \"AMZN\", \"date\": \"2002-02-01\", \"price\": 14.1}, {\"symbol\": \"AMZN\", \"date\": \"2002-03-01\", \"price\": 14.3}, {\"symbol\": \"AMZN\", \"date\": \"2002-04-01\", \"price\": 16.69}, {\"symbol\": \"AMZN\", \"date\": \"2002-05-01\", \"price\": 18.23}, {\"symbol\": \"AMZN\", \"date\": \"2002-06-01\", \"price\": 16.25}, {\"symbol\": \"AMZN\", \"date\": \"2002-07-01\", \"price\": 14.45}, {\"symbol\": \"AMZN\", \"date\": \"2002-08-01\", \"price\": 14.94}, {\"symbol\": \"AMZN\", \"date\": \"2002-09-01\", \"price\": 15.93}, {\"symbol\": \"AMZN\", \"date\": \"2002-10-01\", \"price\": 19.36}, {\"symbol\": \"AMZN\", \"date\": \"2002-11-01\", \"price\": 23.35}, {\"symbol\": \"AMZN\", \"date\": \"2002-12-01\", \"price\": 18.89}, {\"symbol\": \"AMZN\", \"date\": \"2003-01-01\", \"price\": 21.85}, {\"symbol\": \"AMZN\", \"date\": \"2003-02-01\", \"price\": 22.01}, {\"symbol\": \"AMZN\", \"date\": \"2003-03-01\", \"price\": 26.03}, {\"symbol\": \"AMZN\", \"date\": \"2003-04-01\", \"price\": 28.69}, {\"symbol\": \"AMZN\", \"date\": \"2003-05-01\", \"price\": 35.89}, {\"symbol\": \"AMZN\", \"date\": \"2003-06-01\", \"price\": 36.32}, {\"symbol\": \"AMZN\", \"date\": \"2003-07-01\", \"price\": 41.64}, {\"symbol\": \"AMZN\", \"date\": \"2003-08-01\", \"price\": 46.32}, {\"symbol\": \"AMZN\", \"date\": \"2003-09-01\", \"price\": 48.43}, {\"symbol\": \"AMZN\", \"date\": \"2003-10-01\", \"price\": 54.43}, {\"symbol\": \"AMZN\", \"date\": \"2003-11-01\", \"price\": 53.97}, {\"symbol\": \"AMZN\", \"date\": \"2003-12-01\", \"price\": 52.62}, {\"symbol\": \"AMZN\", \"date\": \"2004-01-01\", \"price\": 50.4}, {\"symbol\": \"AMZN\", \"date\": \"2004-02-01\", \"price\": 43.01}, {\"symbol\": \"AMZN\", \"date\": \"2004-03-01\", \"price\": 43.28}, {\"symbol\": \"AMZN\", \"date\": \"2004-04-01\", \"price\": 43.6}, {\"symbol\": \"AMZN\", \"date\": \"2004-05-01\", \"price\": 48.5}, {\"symbol\": \"AMZN\", \"date\": \"2004-06-01\", \"price\": 54.4}, {\"symbol\": \"AMZN\", \"date\": \"2004-07-01\", \"price\": 38.92}, {\"symbol\": \"AMZN\", \"date\": \"2004-08-01\", \"price\": 38.14}, {\"symbol\": \"AMZN\", \"date\": \"2004-09-01\", \"price\": 40.86}, {\"symbol\": \"AMZN\", \"date\": \"2004-10-01\", \"price\": 34.13}, {\"symbol\": \"AMZN\", \"date\": \"2004-11-01\", \"price\": 39.68}, {\"symbol\": \"AMZN\", \"date\": \"2004-12-01\", \"price\": 44.29}, {\"symbol\": \"AMZN\", \"date\": \"2005-01-01\", \"price\": 43.22}, {\"symbol\": \"AMZN\", \"date\": \"2005-02-01\", \"price\": 35.18}, {\"symbol\": \"AMZN\", \"date\": \"2005-03-01\", \"price\": 34.27}, {\"symbol\": \"AMZN\", \"date\": \"2005-04-01\", \"price\": 32.36}, {\"symbol\": \"AMZN\", \"date\": \"2005-05-01\", \"price\": 35.51}, {\"symbol\": \"AMZN\", \"date\": \"2005-06-01\", \"price\": 33.09}, {\"symbol\": \"AMZN\", \"date\": \"2005-07-01\", \"price\": 45.15}, {\"symbol\": \"AMZN\", \"date\": \"2005-08-01\", \"price\": 42.7}, {\"symbol\": \"AMZN\", \"date\": \"2005-09-01\", \"price\": 45.3}, {\"symbol\": \"AMZN\", \"date\": \"2005-10-01\", \"price\": 39.86}, {\"symbol\": \"AMZN\", \"date\": \"2005-11-01\", \"price\": 48.46}, {\"symbol\": \"AMZN\", \"date\": \"2005-12-01\", \"price\": 47.15}, {\"symbol\": \"AMZN\", \"date\": \"2006-01-01\", \"price\": 44.82}, {\"symbol\": \"AMZN\", \"date\": \"2006-02-01\", \"price\": 37.44}, {\"symbol\": \"AMZN\", \"date\": \"2006-03-01\", \"price\": 36.53}, {\"symbol\": \"AMZN\", \"date\": \"2006-04-01\", \"price\": 35.21}, {\"symbol\": \"AMZN\", \"date\": \"2006-05-01\", \"price\": 34.61}, {\"symbol\": \"AMZN\", \"date\": \"2006-06-01\", \"price\": 38.68}, {\"symbol\": \"AMZN\", \"date\": \"2006-07-01\", \"price\": 26.89}, {\"symbol\": \"AMZN\", \"date\": \"2006-08-01\", \"price\": 30.83}, {\"symbol\": \"AMZN\", \"date\": \"2006-09-01\", \"price\": 32.12}, {\"symbol\": \"AMZN\", \"date\": \"2006-10-01\", \"price\": 38.09}, {\"symbol\": \"AMZN\", \"date\": \"2006-11-01\", \"price\": 40.34}, {\"symbol\": \"AMZN\", \"date\": \"2006-12-01\", \"price\": 39.46}, {\"symbol\": \"AMZN\", \"date\": \"2007-01-01\", \"price\": 37.67}, {\"symbol\": \"AMZN\", \"date\": \"2007-02-01\", \"price\": 39.14}, {\"symbol\": \"AMZN\", \"date\": \"2007-03-01\", \"price\": 39.79}, {\"symbol\": \"AMZN\", \"date\": \"2007-04-01\", \"price\": 61.33}, {\"symbol\": \"AMZN\", \"date\": \"2007-05-01\", \"price\": 69.14}, {\"symbol\": \"AMZN\", \"date\": \"2007-06-01\", \"price\": 68.41}, {\"symbol\": \"AMZN\", \"date\": \"2007-07-01\", \"price\": 78.54}, {\"symbol\": \"AMZN\", \"date\": \"2007-08-01\", \"price\": 79.91}, {\"symbol\": \"AMZN\", \"date\": \"2007-09-01\", \"price\": 93.15}, {\"symbol\": \"AMZN\", \"date\": \"2007-10-01\", \"price\": 89.15}, {\"symbol\": \"AMZN\", \"date\": \"2007-11-01\", \"price\": 90.56}, {\"symbol\": \"AMZN\", \"date\": \"2007-12-01\", \"price\": 92.64}, {\"symbol\": \"AMZN\", \"date\": \"2008-01-01\", \"price\": 77.7}, {\"symbol\": \"AMZN\", \"date\": \"2008-02-01\", \"price\": 64.47}, {\"symbol\": \"AMZN\", \"date\": \"2008-03-01\", \"price\": 71.3}, {\"symbol\": \"AMZN\", \"date\": \"2008-04-01\", \"price\": 78.63}, {\"symbol\": \"AMZN\", \"date\": \"2008-05-01\", \"price\": 81.62}, {\"symbol\": \"AMZN\", \"date\": \"2008-06-01\", \"price\": 73.33}, {\"symbol\": \"AMZN\", \"date\": \"2008-07-01\", \"price\": 76.34}, {\"symbol\": \"AMZN\", \"date\": \"2008-08-01\", \"price\": 80.81}, {\"symbol\": \"AMZN\", \"date\": \"2008-09-01\", \"price\": 72.76}, {\"symbol\": \"AMZN\", \"date\": \"2008-10-01\", \"price\": 57.24}, {\"symbol\": \"AMZN\", \"date\": \"2008-11-01\", \"price\": 42.7}, {\"symbol\": \"AMZN\", \"date\": \"2008-12-01\", \"price\": 51.28}, {\"symbol\": \"AMZN\", \"date\": \"2009-01-01\", \"price\": 58.82}, {\"symbol\": \"AMZN\", \"date\": \"2009-02-01\", \"price\": 64.79}, {\"symbol\": \"AMZN\", \"date\": \"2009-03-01\", \"price\": 73.44}, {\"symbol\": \"AMZN\", \"date\": \"2009-04-01\", \"price\": 80.52}, {\"symbol\": \"AMZN\", \"date\": \"2009-05-01\", \"price\": 77.99}, {\"symbol\": \"AMZN\", \"date\": \"2009-06-01\", \"price\": 83.66}, {\"symbol\": \"AMZN\", \"date\": \"2009-07-01\", \"price\": 85.76}, {\"symbol\": \"AMZN\", \"date\": \"2009-08-01\", \"price\": 81.19}, {\"symbol\": \"AMZN\", \"date\": \"2009-09-01\", \"price\": 93.36}, {\"symbol\": \"AMZN\", \"date\": \"2009-10-01\", \"price\": 118.81}, {\"symbol\": \"AMZN\", \"date\": \"2009-11-01\", \"price\": 135.91}, {\"symbol\": \"AMZN\", \"date\": \"2009-12-01\", \"price\": 134.52}, {\"symbol\": \"AMZN\", \"date\": \"2010-01-01\", \"price\": 125.41}, {\"symbol\": \"AMZN\", \"date\": \"2010-02-01\", \"price\": 118.4}, {\"symbol\": \"AMZN\", \"date\": \"2010-03-01\", \"price\": 128.82}, {\"symbol\": \"IBM\", \"date\": \"2000-01-01\", \"price\": 100.52}, {\"symbol\": \"IBM\", \"date\": \"2000-02-01\", \"price\": 92.11}, {\"symbol\": \"IBM\", \"date\": \"2000-03-01\", \"price\": 106.11}, {\"symbol\": \"IBM\", \"date\": \"2000-04-01\", \"price\": 99.95}, {\"symbol\": \"IBM\", \"date\": \"2000-05-01\", \"price\": 96.31}, {\"symbol\": \"IBM\", \"date\": \"2000-06-01\", \"price\": 98.33}, {\"symbol\": \"IBM\", \"date\": \"2000-07-01\", \"price\": 100.74}, {\"symbol\": \"IBM\", \"date\": \"2000-08-01\", \"price\": 118.62}, {\"symbol\": \"IBM\", \"date\": \"2000-09-01\", \"price\": 101.19}, {\"symbol\": \"IBM\", \"date\": \"2000-10-01\", \"price\": 88.5}, {\"symbol\": \"IBM\", \"date\": \"2000-11-01\", \"price\": 84.12}, {\"symbol\": \"IBM\", \"date\": \"2000-12-01\", \"price\": 76.47}, {\"symbol\": \"IBM\", \"date\": \"2001-01-01\", \"price\": 100.76}, {\"symbol\": \"IBM\", \"date\": \"2001-02-01\", \"price\": 89.98}, {\"symbol\": \"IBM\", \"date\": \"2001-03-01\", \"price\": 86.63}, {\"symbol\": \"IBM\", \"date\": \"2001-04-01\", \"price\": 103.7}, {\"symbol\": \"IBM\", \"date\": \"2001-05-01\", \"price\": 100.82}, {\"symbol\": \"IBM\", \"date\": \"2001-06-01\", \"price\": 102.35}, {\"symbol\": \"IBM\", \"date\": \"2001-07-01\", \"price\": 94.87}, {\"symbol\": \"IBM\", \"date\": \"2001-08-01\", \"price\": 90.25}, {\"symbol\": \"IBM\", \"date\": \"2001-09-01\", \"price\": 82.82}, {\"symbol\": \"IBM\", \"date\": \"2001-10-01\", \"price\": 97.58}, {\"symbol\": \"IBM\", \"date\": \"2001-11-01\", \"price\": 104.5}, {\"symbol\": \"IBM\", \"date\": \"2001-12-01\", \"price\": 109.36}, {\"symbol\": \"IBM\", \"date\": \"2002-01-01\", \"price\": 97.54}, {\"symbol\": \"IBM\", \"date\": \"2002-02-01\", \"price\": 88.82}, {\"symbol\": \"IBM\", \"date\": \"2002-03-01\", \"price\": 94.15}, {\"symbol\": \"IBM\", \"date\": \"2002-04-01\", \"price\": 75.82}, {\"symbol\": \"IBM\", \"date\": \"2002-05-01\", \"price\": 72.97}, {\"symbol\": \"IBM\", \"date\": \"2002-06-01\", \"price\": 65.31}, {\"symbol\": \"IBM\", \"date\": \"2002-07-01\", \"price\": 63.86}, {\"symbol\": \"IBM\", \"date\": \"2002-08-01\", \"price\": 68.52}, {\"symbol\": \"IBM\", \"date\": \"2002-09-01\", \"price\": 53.01}, {\"symbol\": \"IBM\", \"date\": \"2002-10-01\", \"price\": 71.76}, {\"symbol\": \"IBM\", \"date\": \"2002-11-01\", \"price\": 79.16}, {\"symbol\": \"IBM\", \"date\": \"2002-12-01\", \"price\": 70.58}, {\"symbol\": \"IBM\", \"date\": \"2003-01-01\", \"price\": 71.22}, {\"symbol\": \"IBM\", \"date\": \"2003-02-01\", \"price\": 71.13}, {\"symbol\": \"IBM\", \"date\": \"2003-03-01\", \"price\": 71.57}, {\"symbol\": \"IBM\", \"date\": \"2003-04-01\", \"price\": 77.47}, {\"symbol\": \"IBM\", \"date\": \"2003-05-01\", \"price\": 80.48}, {\"symbol\": \"IBM\", \"date\": \"2003-06-01\", \"price\": 75.42}, {\"symbol\": \"IBM\", \"date\": \"2003-07-01\", \"price\": 74.28}, {\"symbol\": \"IBM\", \"date\": \"2003-08-01\", \"price\": 75.12}, {\"symbol\": \"IBM\", \"date\": \"2003-09-01\", \"price\": 80.91}, {\"symbol\": \"IBM\", \"date\": \"2003-10-01\", \"price\": 81.96}, {\"symbol\": \"IBM\", \"date\": \"2003-11-01\", \"price\": 83.08}, {\"symbol\": \"IBM\", \"date\": \"2003-12-01\", \"price\": 85.05}, {\"symbol\": \"IBM\", \"date\": \"2004-01-01\", \"price\": 91.06}, {\"symbol\": \"IBM\", \"date\": \"2004-02-01\", \"price\": 88.7}, {\"symbol\": \"IBM\", \"date\": \"2004-03-01\", \"price\": 84.41}, {\"symbol\": \"IBM\", \"date\": \"2004-04-01\", \"price\": 81.04}, {\"symbol\": \"IBM\", \"date\": \"2004-05-01\", \"price\": 81.59}, {\"symbol\": \"IBM\", \"date\": \"2004-06-01\", \"price\": 81.19}, {\"symbol\": \"IBM\", \"date\": \"2004-07-01\", \"price\": 80.19}, {\"symbol\": \"IBM\", \"date\": \"2004-08-01\", \"price\": 78.17}, {\"symbol\": \"IBM\", \"date\": \"2004-09-01\", \"price\": 79.13}, {\"symbol\": \"IBM\", \"date\": \"2004-10-01\", \"price\": 82.84}, {\"symbol\": \"IBM\", \"date\": \"2004-11-01\", \"price\": 87.15}, {\"symbol\": \"IBM\", \"date\": \"2004-12-01\", \"price\": 91.16}, {\"symbol\": \"IBM\", \"date\": \"2005-01-01\", \"price\": 86.39}, {\"symbol\": \"IBM\", \"date\": \"2005-02-01\", \"price\": 85.78}, {\"symbol\": \"IBM\", \"date\": \"2005-03-01\", \"price\": 84.66}, {\"symbol\": \"IBM\", \"date\": \"2005-04-01\", \"price\": 70.77}, {\"symbol\": \"IBM\", \"date\": \"2005-05-01\", \"price\": 70.18}, {\"symbol\": \"IBM\", \"date\": \"2005-06-01\", \"price\": 68.93}, {\"symbol\": \"IBM\", \"date\": \"2005-07-01\", \"price\": 77.53}, {\"symbol\": \"IBM\", \"date\": \"2005-08-01\", \"price\": 75.07}, {\"symbol\": \"IBM\", \"date\": \"2005-09-01\", \"price\": 74.7}, {\"symbol\": \"IBM\", \"date\": \"2005-10-01\", \"price\": 76.25}, {\"symbol\": \"IBM\", \"date\": \"2005-11-01\", \"price\": 82.98}, {\"symbol\": \"IBM\", \"date\": \"2005-12-01\", \"price\": 76.73}, {\"symbol\": \"IBM\", \"date\": \"2006-01-01\", \"price\": 75.89}, {\"symbol\": \"IBM\", \"date\": \"2006-02-01\", \"price\": 75.09}, {\"symbol\": \"IBM\", \"date\": \"2006-03-01\", \"price\": 77.17}, {\"symbol\": \"IBM\", \"date\": \"2006-04-01\", \"price\": 77.05}, {\"symbol\": \"IBM\", \"date\": \"2006-05-01\", \"price\": 75.04}, {\"symbol\": \"IBM\", \"date\": \"2006-06-01\", \"price\": 72.15}, {\"symbol\": \"IBM\", \"date\": \"2006-07-01\", \"price\": 72.7}, {\"symbol\": \"IBM\", \"date\": \"2006-08-01\", \"price\": 76.35}, {\"symbol\": \"IBM\", \"date\": \"2006-09-01\", \"price\": 77.26}, {\"symbol\": \"IBM\", \"date\": \"2006-10-01\", \"price\": 87.06}, {\"symbol\": \"IBM\", \"date\": \"2006-11-01\", \"price\": 86.95}, {\"symbol\": \"IBM\", \"date\": \"2006-12-01\", \"price\": 91.9}, {\"symbol\": \"IBM\", \"date\": \"2007-01-01\", \"price\": 93.79}, {\"symbol\": \"IBM\", \"date\": \"2007-02-01\", \"price\": 88.18}, {\"symbol\": \"IBM\", \"date\": \"2007-03-01\", \"price\": 89.44}, {\"symbol\": \"IBM\", \"date\": \"2007-04-01\", \"price\": 96.98}, {\"symbol\": \"IBM\", \"date\": \"2007-05-01\", \"price\": 101.54}, {\"symbol\": \"IBM\", \"date\": \"2007-06-01\", \"price\": 100.25}, {\"symbol\": \"IBM\", \"date\": \"2007-07-01\", \"price\": 105.4}, {\"symbol\": \"IBM\", \"date\": \"2007-08-01\", \"price\": 111.54}, {\"symbol\": \"IBM\", \"date\": \"2007-09-01\", \"price\": 112.6}, {\"symbol\": \"IBM\", \"date\": \"2007-10-01\", \"price\": 111.0}, {\"symbol\": \"IBM\", \"date\": \"2007-11-01\", \"price\": 100.9}, {\"symbol\": \"IBM\", \"date\": \"2007-12-01\", \"price\": 103.7}, {\"symbol\": \"IBM\", \"date\": \"2008-01-01\", \"price\": 102.75}, {\"symbol\": \"IBM\", \"date\": \"2008-02-01\", \"price\": 109.64}, {\"symbol\": \"IBM\", \"date\": \"2008-03-01\", \"price\": 110.87}, {\"symbol\": \"IBM\", \"date\": \"2008-04-01\", \"price\": 116.23}, {\"symbol\": \"IBM\", \"date\": \"2008-05-01\", \"price\": 125.14}, {\"symbol\": \"IBM\", \"date\": \"2008-06-01\", \"price\": 114.6}, {\"symbol\": \"IBM\", \"date\": \"2008-07-01\", \"price\": 123.74}, {\"symbol\": \"IBM\", \"date\": \"2008-08-01\", \"price\": 118.16}, {\"symbol\": \"IBM\", \"date\": \"2008-09-01\", \"price\": 113.53}, {\"symbol\": \"IBM\", \"date\": \"2008-10-01\", \"price\": 90.24}, {\"symbol\": \"IBM\", \"date\": \"2008-11-01\", \"price\": 79.65}, {\"symbol\": \"IBM\", \"date\": \"2008-12-01\", \"price\": 82.15}, {\"symbol\": \"IBM\", \"date\": \"2009-01-01\", \"price\": 89.46}, {\"symbol\": \"IBM\", \"date\": \"2009-02-01\", \"price\": 90.32}, {\"symbol\": \"IBM\", \"date\": \"2009-03-01\", \"price\": 95.09}, {\"symbol\": \"IBM\", \"date\": \"2009-04-01\", \"price\": 101.29}, {\"symbol\": \"IBM\", \"date\": \"2009-05-01\", \"price\": 104.85}, {\"symbol\": \"IBM\", \"date\": \"2009-06-01\", \"price\": 103.01}, {\"symbol\": \"IBM\", \"date\": \"2009-07-01\", \"price\": 116.34}, {\"symbol\": \"IBM\", \"date\": \"2009-08-01\", \"price\": 117.0}, {\"symbol\": \"IBM\", \"date\": \"2009-09-01\", \"price\": 118.55}, {\"symbol\": \"IBM\", \"date\": \"2009-10-01\", \"price\": 119.54}, {\"symbol\": \"IBM\", \"date\": \"2009-11-01\", \"price\": 125.79}, {\"symbol\": \"IBM\", \"date\": \"2009-12-01\", \"price\": 130.32}, {\"symbol\": \"IBM\", \"date\": \"2010-01-01\", \"price\": 121.85}, {\"symbol\": \"IBM\", \"date\": \"2010-02-01\", \"price\": 127.16}, {\"symbol\": \"IBM\", \"date\": \"2010-03-01\", \"price\": 125.55}, {\"symbol\": \"GOOG\", \"date\": \"2004-08-01\", \"price\": 102.37}, {\"symbol\": \"GOOG\", \"date\": \"2004-09-01\", \"price\": 129.6}, {\"symbol\": \"GOOG\", \"date\": \"2004-10-01\", \"price\": 190.64}, {\"symbol\": \"GOOG\", \"date\": \"2004-11-01\", \"price\": 181.98}, {\"symbol\": \"GOOG\", \"date\": \"2004-12-01\", \"price\": 192.79}, {\"symbol\": \"GOOG\", \"date\": \"2005-01-01\", \"price\": 195.62}, {\"symbol\": \"GOOG\", \"date\": \"2005-02-01\", \"price\": 187.99}, {\"symbol\": \"GOOG\", \"date\": \"2005-03-01\", \"price\": 180.51}, {\"symbol\": \"GOOG\", \"date\": \"2005-04-01\", \"price\": 220.0}, {\"symbol\": \"GOOG\", \"date\": \"2005-05-01\", \"price\": 277.27}, {\"symbol\": \"GOOG\", \"date\": \"2005-06-01\", \"price\": 294.15}, {\"symbol\": \"GOOG\", \"date\": \"2005-07-01\", \"price\": 287.76}, {\"symbol\": \"GOOG\", \"date\": \"2005-08-01\", \"price\": 286.0}, {\"symbol\": \"GOOG\", \"date\": \"2005-09-01\", \"price\": 316.46}, {\"symbol\": \"GOOG\", \"date\": \"2005-10-01\", \"price\": 372.14}, {\"symbol\": \"GOOG\", \"date\": \"2005-11-01\", \"price\": 404.91}, {\"symbol\": \"GOOG\", \"date\": \"2005-12-01\", \"price\": 414.86}, {\"symbol\": \"GOOG\", \"date\": \"2006-01-01\", \"price\": 432.66}, {\"symbol\": \"GOOG\", \"date\": \"2006-02-01\", \"price\": 362.62}, {\"symbol\": \"GOOG\", \"date\": \"2006-03-01\", \"price\": 390.0}, {\"symbol\": \"GOOG\", \"date\": \"2006-04-01\", \"price\": 417.94}, {\"symbol\": \"GOOG\", \"date\": \"2006-05-01\", \"price\": 371.82}, {\"symbol\": \"GOOG\", \"date\": \"2006-06-01\", \"price\": 419.33}, {\"symbol\": \"GOOG\", \"date\": \"2006-07-01\", \"price\": 386.6}, {\"symbol\": \"GOOG\", \"date\": \"2006-08-01\", \"price\": 378.53}, {\"symbol\": \"GOOG\", \"date\": \"2006-09-01\", \"price\": 401.9}, {\"symbol\": \"GOOG\", \"date\": \"2006-10-01\", \"price\": 476.39}, {\"symbol\": \"GOOG\", \"date\": \"2006-11-01\", \"price\": 484.81}, {\"symbol\": \"GOOG\", \"date\": \"2006-12-01\", \"price\": 460.48}, {\"symbol\": \"GOOG\", \"date\": \"2007-01-01\", \"price\": 501.5}, {\"symbol\": \"GOOG\", \"date\": \"2007-02-01\", \"price\": 449.45}, {\"symbol\": \"GOOG\", \"date\": \"2007-03-01\", \"price\": 458.16}, {\"symbol\": \"GOOG\", \"date\": \"2007-04-01\", \"price\": 471.38}, {\"symbol\": \"GOOG\", \"date\": \"2007-05-01\", \"price\": 497.91}, {\"symbol\": \"GOOG\", \"date\": \"2007-06-01\", \"price\": 522.7}, {\"symbol\": \"GOOG\", \"date\": \"2007-07-01\", \"price\": 510.0}, {\"symbol\": \"GOOG\", \"date\": \"2007-08-01\", \"price\": 515.25}, {\"symbol\": \"GOOG\", \"date\": \"2007-09-01\", \"price\": 567.27}, {\"symbol\": \"GOOG\", \"date\": \"2007-10-01\", \"price\": 707.0}, {\"symbol\": \"GOOG\", \"date\": \"2007-11-01\", \"price\": 693.0}, {\"symbol\": \"GOOG\", \"date\": \"2007-12-01\", \"price\": 691.48}, {\"symbol\": \"GOOG\", \"date\": \"2008-01-01\", \"price\": 564.3}, {\"symbol\": \"GOOG\", \"date\": \"2008-02-01\", \"price\": 471.18}, {\"symbol\": \"GOOG\", \"date\": \"2008-03-01\", \"price\": 440.47}, {\"symbol\": \"GOOG\", \"date\": \"2008-04-01\", \"price\": 574.29}, {\"symbol\": \"GOOG\", \"date\": \"2008-05-01\", \"price\": 585.8}, {\"symbol\": \"GOOG\", \"date\": \"2008-06-01\", \"price\": 526.42}, {\"symbol\": \"GOOG\", \"date\": \"2008-07-01\", \"price\": 473.75}, {\"symbol\": \"GOOG\", \"date\": \"2008-08-01\", \"price\": 463.29}, {\"symbol\": \"GOOG\", \"date\": \"2008-09-01\", \"price\": 400.52}, {\"symbol\": \"GOOG\", \"date\": \"2008-10-01\", \"price\": 359.36}, {\"symbol\": \"GOOG\", \"date\": \"2008-11-01\", \"price\": 292.96}, {\"symbol\": \"GOOG\", \"date\": \"2008-12-01\", \"price\": 307.65}, {\"symbol\": \"GOOG\", \"date\": \"2009-01-01\", \"price\": 338.53}, {\"symbol\": \"GOOG\", \"date\": \"2009-02-01\", \"price\": 337.99}, {\"symbol\": \"GOOG\", \"date\": \"2009-03-01\", \"price\": 348.06}, {\"symbol\": \"GOOG\", \"date\": \"2009-04-01\", \"price\": 395.97}, {\"symbol\": \"GOOG\", \"date\": \"2009-05-01\", \"price\": 417.23}, {\"symbol\": \"GOOG\", \"date\": \"2009-06-01\", \"price\": 421.59}, {\"symbol\": \"GOOG\", \"date\": \"2009-07-01\", \"price\": 443.05}, {\"symbol\": \"GOOG\", \"date\": \"2009-08-01\", \"price\": 461.67}, {\"symbol\": \"GOOG\", \"date\": \"2009-09-01\", \"price\": 495.85}, {\"symbol\": \"GOOG\", \"date\": \"2009-10-01\", \"price\": 536.12}, {\"symbol\": \"GOOG\", \"date\": \"2009-11-01\", \"price\": 583.0}, {\"symbol\": \"GOOG\", \"date\": \"2009-12-01\", \"price\": 619.98}, {\"symbol\": \"GOOG\", \"date\": \"2010-01-01\", \"price\": 529.94}, {\"symbol\": \"GOOG\", \"date\": \"2010-02-01\", \"price\": 526.8}, {\"symbol\": \"GOOG\", \"date\": \"2010-03-01\", \"price\": 560.19}, {\"symbol\": \"AAPL\", \"date\": \"2000-01-01\", \"price\": 25.94}, {\"symbol\": \"AAPL\", \"date\": \"2000-02-01\", \"price\": 28.66}, {\"symbol\": \"AAPL\", \"date\": \"2000-03-01\", \"price\": 33.95}, {\"symbol\": \"AAPL\", \"date\": \"2000-04-01\", \"price\": 31.01}, {\"symbol\": \"AAPL\", \"date\": \"2000-05-01\", \"price\": 21.0}, {\"symbol\": \"AAPL\", \"date\": \"2000-06-01\", \"price\": 26.19}, {\"symbol\": \"AAPL\", \"date\": \"2000-07-01\", \"price\": 25.41}, {\"symbol\": \"AAPL\", \"date\": \"2000-08-01\", \"price\": 30.47}, {\"symbol\": \"AAPL\", \"date\": \"2000-09-01\", \"price\": 12.88}, {\"symbol\": \"AAPL\", \"date\": \"2000-10-01\", \"price\": 9.78}, {\"symbol\": \"AAPL\", \"date\": \"2000-11-01\", \"price\": 8.25}, {\"symbol\": \"AAPL\", \"date\": \"2000-12-01\", \"price\": 7.44}, {\"symbol\": \"AAPL\", \"date\": \"2001-01-01\", \"price\": 10.81}, {\"symbol\": \"AAPL\", \"date\": \"2001-02-01\", \"price\": 9.12}, {\"symbol\": \"AAPL\", \"date\": \"2001-03-01\", \"price\": 11.03}, {\"symbol\": \"AAPL\", \"date\": \"2001-04-01\", \"price\": 12.74}, {\"symbol\": \"AAPL\", \"date\": \"2001-05-01\", \"price\": 9.98}, {\"symbol\": \"AAPL\", \"date\": \"2001-06-01\", \"price\": 11.62}, {\"symbol\": \"AAPL\", \"date\": \"2001-07-01\", \"price\": 9.4}, {\"symbol\": \"AAPL\", \"date\": \"2001-08-01\", \"price\": 9.27}, {\"symbol\": \"AAPL\", \"date\": \"2001-09-01\", \"price\": 7.76}, {\"symbol\": \"AAPL\", \"date\": \"2001-10-01\", \"price\": 8.78}, {\"symbol\": \"AAPL\", \"date\": \"2001-11-01\", \"price\": 10.65}, {\"symbol\": \"AAPL\", \"date\": \"2001-12-01\", \"price\": 10.95}, {\"symbol\": \"AAPL\", \"date\": \"2002-01-01\", \"price\": 12.36}, {\"symbol\": \"AAPL\", \"date\": \"2002-02-01\", \"price\": 10.85}, {\"symbol\": \"AAPL\", \"date\": \"2002-03-01\", \"price\": 11.84}, {\"symbol\": \"AAPL\", \"date\": \"2002-04-01\", \"price\": 12.14}, {\"symbol\": \"AAPL\", \"date\": \"2002-05-01\", \"price\": 11.65}, {\"symbol\": \"AAPL\", \"date\": \"2002-06-01\", \"price\": 8.86}, {\"symbol\": \"AAPL\", \"date\": \"2002-07-01\", \"price\": 7.63}, {\"symbol\": \"AAPL\", \"date\": \"2002-08-01\", \"price\": 7.38}, {\"symbol\": \"AAPL\", \"date\": \"2002-09-01\", \"price\": 7.25}, {\"symbol\": \"AAPL\", \"date\": \"2002-10-01\", \"price\": 8.03}, {\"symbol\": \"AAPL\", \"date\": \"2002-11-01\", \"price\": 7.75}, {\"symbol\": \"AAPL\", \"date\": \"2002-12-01\", \"price\": 7.16}, {\"symbol\": \"AAPL\", \"date\": \"2003-01-01\", \"price\": 7.18}, {\"symbol\": \"AAPL\", \"date\": \"2003-02-01\", \"price\": 7.51}, {\"symbol\": \"AAPL\", \"date\": \"2003-03-01\", \"price\": 7.07}, {\"symbol\": \"AAPL\", \"date\": \"2003-04-01\", \"price\": 7.11}, {\"symbol\": \"AAPL\", \"date\": \"2003-05-01\", \"price\": 8.98}, {\"symbol\": \"AAPL\", \"date\": \"2003-06-01\", \"price\": 9.53}, {\"symbol\": \"AAPL\", \"date\": \"2003-07-01\", \"price\": 10.54}, {\"symbol\": \"AAPL\", \"date\": \"2003-08-01\", \"price\": 11.31}, {\"symbol\": \"AAPL\", \"date\": \"2003-09-01\", \"price\": 10.36}, {\"symbol\": \"AAPL\", \"date\": \"2003-10-01\", \"price\": 11.44}, {\"symbol\": \"AAPL\", \"date\": \"2003-11-01\", \"price\": 10.45}, {\"symbol\": \"AAPL\", \"date\": \"2003-12-01\", \"price\": 10.69}, {\"symbol\": \"AAPL\", \"date\": \"2004-01-01\", \"price\": 11.28}, {\"symbol\": \"AAPL\", \"date\": \"2004-02-01\", \"price\": 11.96}, {\"symbol\": \"AAPL\", \"date\": \"2004-03-01\", \"price\": 13.52}, {\"symbol\": \"AAPL\", \"date\": \"2004-04-01\", \"price\": 12.89}, {\"symbol\": \"AAPL\", \"date\": \"2004-05-01\", \"price\": 14.03}, {\"symbol\": \"AAPL\", \"date\": \"2004-06-01\", \"price\": 16.27}, {\"symbol\": \"AAPL\", \"date\": \"2004-07-01\", \"price\": 16.17}, {\"symbol\": \"AAPL\", \"date\": \"2004-08-01\", \"price\": 17.25}, {\"symbol\": \"AAPL\", \"date\": \"2004-09-01\", \"price\": 19.38}, {\"symbol\": \"AAPL\", \"date\": \"2004-10-01\", \"price\": 26.2}, {\"symbol\": \"AAPL\", \"date\": \"2004-11-01\", \"price\": 33.53}, {\"symbol\": \"AAPL\", \"date\": \"2004-12-01\", \"price\": 32.2}, {\"symbol\": \"AAPL\", \"date\": \"2005-01-01\", \"price\": 38.45}, {\"symbol\": \"AAPL\", \"date\": \"2005-02-01\", \"price\": 44.86}, {\"symbol\": \"AAPL\", \"date\": \"2005-03-01\", \"price\": 41.67}, {\"symbol\": \"AAPL\", \"date\": \"2005-04-01\", \"price\": 36.06}, {\"symbol\": \"AAPL\", \"date\": \"2005-05-01\", \"price\": 39.76}, {\"symbol\": \"AAPL\", \"date\": \"2005-06-01\", \"price\": 36.81}, {\"symbol\": \"AAPL\", \"date\": \"2005-07-01\", \"price\": 42.65}, {\"symbol\": \"AAPL\", \"date\": \"2005-08-01\", \"price\": 46.89}, {\"symbol\": \"AAPL\", \"date\": \"2005-09-01\", \"price\": 53.61}, {\"symbol\": \"AAPL\", \"date\": \"2005-10-01\", \"price\": 57.59}, {\"symbol\": \"AAPL\", \"date\": \"2005-11-01\", \"price\": 67.82}, {\"symbol\": \"AAPL\", \"date\": \"2005-12-01\", \"price\": 71.89}, {\"symbol\": \"AAPL\", \"date\": \"2006-01-01\", \"price\": 75.51}, {\"symbol\": \"AAPL\", \"date\": \"2006-02-01\", \"price\": 68.49}, {\"symbol\": \"AAPL\", \"date\": \"2006-03-01\", \"price\": 62.72}, {\"symbol\": \"AAPL\", \"date\": \"2006-04-01\", \"price\": 70.39}, {\"symbol\": \"AAPL\", \"date\": \"2006-05-01\", \"price\": 59.77}, {\"symbol\": \"AAPL\", \"date\": \"2006-06-01\", \"price\": 57.27}, {\"symbol\": \"AAPL\", \"date\": \"2006-07-01\", \"price\": 67.96}, {\"symbol\": \"AAPL\", \"date\": \"2006-08-01\", \"price\": 67.85}, {\"symbol\": \"AAPL\", \"date\": \"2006-09-01\", \"price\": 76.98}, {\"symbol\": \"AAPL\", \"date\": \"2006-10-01\", \"price\": 81.08}, {\"symbol\": \"AAPL\", \"date\": \"2006-11-01\", \"price\": 91.66}, {\"symbol\": \"AAPL\", \"date\": \"2006-12-01\", \"price\": 84.84}, {\"symbol\": \"AAPL\", \"date\": \"2007-01-01\", \"price\": 85.73}, {\"symbol\": \"AAPL\", \"date\": \"2007-02-01\", \"price\": 84.61}, {\"symbol\": \"AAPL\", \"date\": \"2007-03-01\", \"price\": 92.91}, {\"symbol\": \"AAPL\", \"date\": \"2007-04-01\", \"price\": 99.8}, {\"symbol\": \"AAPL\", \"date\": \"2007-05-01\", \"price\": 121.19}, {\"symbol\": \"AAPL\", \"date\": \"2007-06-01\", \"price\": 122.04}, {\"symbol\": \"AAPL\", \"date\": \"2007-07-01\", \"price\": 131.76}, {\"symbol\": \"AAPL\", \"date\": \"2007-08-01\", \"price\": 138.48}, {\"symbol\": \"AAPL\", \"date\": \"2007-09-01\", \"price\": 153.47}, {\"symbol\": \"AAPL\", \"date\": \"2007-10-01\", \"price\": 189.95}, {\"symbol\": \"AAPL\", \"date\": \"2007-11-01\", \"price\": 182.22}, {\"symbol\": \"AAPL\", \"date\": \"2007-12-01\", \"price\": 198.08}, {\"symbol\": \"AAPL\", \"date\": \"2008-01-01\", \"price\": 135.36}, {\"symbol\": \"AAPL\", \"date\": \"2008-02-01\", \"price\": 125.02}, {\"symbol\": \"AAPL\", \"date\": \"2008-03-01\", \"price\": 143.5}, {\"symbol\": \"AAPL\", \"date\": \"2008-04-01\", \"price\": 173.95}, {\"symbol\": \"AAPL\", \"date\": \"2008-05-01\", \"price\": 188.75}, {\"symbol\": \"AAPL\", \"date\": \"2008-06-01\", \"price\": 167.44}, {\"symbol\": \"AAPL\", \"date\": \"2008-07-01\", \"price\": 158.95}, {\"symbol\": \"AAPL\", \"date\": \"2008-08-01\", \"price\": 169.53}, {\"symbol\": \"AAPL\", \"date\": \"2008-09-01\", \"price\": 113.66}, {\"symbol\": \"AAPL\", \"date\": \"2008-10-01\", \"price\": 107.59}, {\"symbol\": \"AAPL\", \"date\": \"2008-11-01\", \"price\": 92.67}, {\"symbol\": \"AAPL\", \"date\": \"2008-12-01\", \"price\": 85.35}, {\"symbol\": \"AAPL\", \"date\": \"2009-01-01\", \"price\": 90.13}, {\"symbol\": \"AAPL\", \"date\": \"2009-02-01\", \"price\": 89.31}, {\"symbol\": \"AAPL\", \"date\": \"2009-03-01\", \"price\": 105.12}, {\"symbol\": \"AAPL\", \"date\": \"2009-04-01\", \"price\": 125.83}, {\"symbol\": \"AAPL\", \"date\": \"2009-05-01\", \"price\": 135.81}, {\"symbol\": \"AAPL\", \"date\": \"2009-06-01\", \"price\": 142.43}, {\"symbol\": \"AAPL\", \"date\": \"2009-07-01\", \"price\": 163.39}, {\"symbol\": \"AAPL\", \"date\": \"2009-08-01\", \"price\": 168.21}, {\"symbol\": \"AAPL\", \"date\": \"2009-09-01\", \"price\": 185.35}, {\"symbol\": \"AAPL\", \"date\": \"2009-10-01\", \"price\": 188.5}, {\"symbol\": \"AAPL\", \"date\": \"2009-11-01\", \"price\": 199.91}, {\"symbol\": \"AAPL\", \"date\": \"2009-12-01\", \"price\": 210.73}, {\"symbol\": \"AAPL\", \"date\": \"2010-01-01\", \"price\": 192.06}, {\"symbol\": \"AAPL\", \"date\": \"2010-02-01\", \"price\": 204.62}, {\"symbol\": \"AAPL\", \"date\": \"2010-03-01\", \"price\": 223.02}]}, \"mark\": \"line\", \"encoding\": {\"x\": {\"type\": \"temporal\", \"field\": \"date\"}, \"y\": {\"type\": \"quantitative\", \"field\": \"price\"}}, \"transform\": [{\"filter\": \"datum.symbol == 'GOOG'\"}], \"$schema\": \"https://vega.github.io/schema/vega-lite/v2.4.3.json\"};\n",
       "var opt = {};\n",
       "var selector = \"#fec21247-1d77-4eae-a104-8d77d3171ecb\";\n",
       "var type = \"vega-lite\";\n",
       "\n",
       "var output_area = this;\n",
       "\n",
       "require(['nbextensions/jupyter-vega/index'], function(vega) {\n",
       "  vega.render(selector, spec, type, opt, output_area);\n",
       "}, function (err) {\n",
       "  if (err.requireType !== 'scripterror') {\n",
       "    throw(err);\n",
       "  }\n",
       "});\n"
      ]
     },
     "metadata": {
      "jupyter-vega": "#fec21247-1d77-4eae-a104-8d77d3171ecb"
     },
     "output_type": "display_data"
    },
    {
     "data": {
      "text/plain": []
     },
     "execution_count": 5,
     "metadata": {},
     "output_type": "execute_result"
    },
    {
     "data": {
      "image/png": "[encoded data removed]"
     },
     "metadata": {
      "jupyter-vega": "#fec21247-1d77-4eae-a104-8d77d3171ecb"
     },
     "output_type": "display_data"
    }
   ],
   "source": [
    "alt.Chart(stocks).mark_line().encode(\n",
    "    x='date:T',\n",
    "    y='price:Q'\n",
    ").transform_filter(\"datum.symbol == 'GOOG'\")"
   ]
  },
  {
   "cell_type": "markdown",
   "metadata": {},
   "source": [
    "### Data transform in Pandas"
   ]
  },
  {
   "cell_type": "code",
   "execution_count": 5,
   "metadata": {
    "scrolled": false
   },
   "outputs": [
    {
     "data": {
      "application/vnd.vegalite.v2+json": {
       "$schema": "https://vega.github.io/schema/vega-lite/v2.json",
       "config": {
        "view": {
         "height": 300,
         "width": 400
        }
       },
       "data": {
        "values": [
         {
          "date": "2004-08-01",
          "price": 102.37,
          "symbol": "GOOG"
         },
         {
          "date": "2004-09-01",
          "price": 129.6,
          "symbol": "GOOG"
         },
         {
          "date": "2004-10-01",
          "price": 190.64,
          "symbol": "GOOG"
         },
         {
          "date": "2004-11-01",
          "price": 181.98,
          "symbol": "GOOG"
         },
         {
          "date": "2004-12-01",
          "price": 192.79,
          "symbol": "GOOG"
         },
         {
          "date": "2005-01-01",
          "price": 195.62,
          "symbol": "GOOG"
         },
         {
          "date": "2005-02-01",
          "price": 187.99,
          "symbol": "GOOG"
         },
         {
          "date": "2005-03-01",
          "price": 180.51,
          "symbol": "GOOG"
         },
         {
          "date": "2005-04-01",
          "price": 220,
          "symbol": "GOOG"
         },
         {
          "date": "2005-05-01",
          "price": 277.27,
          "symbol": "GOOG"
         },
         {
          "date": "2005-06-01",
          "price": 294.15,
          "symbol": "GOOG"
         },
         {
          "date": "2005-07-01",
          "price": 287.76,
          "symbol": "GOOG"
         },
         {
          "date": "2005-08-01",
          "price": 286,
          "symbol": "GOOG"
         },
         {
          "date": "2005-09-01",
          "price": 316.46,
          "symbol": "GOOG"
         },
         {
          "date": "2005-10-01",
          "price": 372.14,
          "symbol": "GOOG"
         },
         {
          "date": "2005-11-01",
          "price": 404.91,
          "symbol": "GOOG"
         },
         {
          "date": "2005-12-01",
          "price": 414.86,
          "symbol": "GOOG"
         },
         {
          "date": "2006-01-01",
          "price": 432.66,
          "symbol": "GOOG"
         },
         {
          "date": "2006-02-01",
          "price": 362.62,
          "symbol": "GOOG"
         },
         {
          "date": "2006-03-01",
          "price": 390,
          "symbol": "GOOG"
         },
         {
          "date": "2006-04-01",
          "price": 417.94,
          "symbol": "GOOG"
         },
         {
          "date": "2006-05-01",
          "price": 371.82,
          "symbol": "GOOG"
         },
         {
          "date": "2006-06-01",
          "price": 419.33,
          "symbol": "GOOG"
         },
         {
          "date": "2006-07-01",
          "price": 386.6,
          "symbol": "GOOG"
         },
         {
          "date": "2006-08-01",
          "price": 378.53,
          "symbol": "GOOG"
         },
         {
          "date": "2006-09-01",
          "price": 401.9,
          "symbol": "GOOG"
         },
         {
          "date": "2006-10-01",
          "price": 476.39,
          "symbol": "GOOG"
         },
         {
          "date": "2006-11-01",
          "price": 484.81,
          "symbol": "GOOG"
         },
         {
          "date": "2006-12-01",
          "price": 460.48,
          "symbol": "GOOG"
         },
         {
          "date": "2007-01-01",
          "price": 501.5,
          "symbol": "GOOG"
         },
         {
          "date": "2007-02-01",
          "price": 449.45,
          "symbol": "GOOG"
         },
         {
          "date": "2007-03-01",
          "price": 458.16,
          "symbol": "GOOG"
         },
         {
          "date": "2007-04-01",
          "price": 471.38,
          "symbol": "GOOG"
         },
         {
          "date": "2007-05-01",
          "price": 497.91,
          "symbol": "GOOG"
         },
         {
          "date": "2007-06-01",
          "price": 522.7,
          "symbol": "GOOG"
         },
         {
          "date": "2007-07-01",
          "price": 510,
          "symbol": "GOOG"
         },
         {
          "date": "2007-08-01",
          "price": 515.25,
          "symbol": "GOOG"
         },
         {
          "date": "2007-09-01",
          "price": 567.27,
          "symbol": "GOOG"
         },
         {
          "date": "2007-10-01",
          "price": 707,
          "symbol": "GOOG"
         },
         {
          "date": "2007-11-01",
          "price": 693,
          "symbol": "GOOG"
         },
         {
          "date": "2007-12-01",
          "price": 691.48,
          "symbol": "GOOG"
         },
         {
          "date": "2008-01-01",
          "price": 564.3,
          "symbol": "GOOG"
         },
         {
          "date": "2008-02-01",
          "price": 471.18,
          "symbol": "GOOG"
         },
         {
          "date": "2008-03-01",
          "price": 440.47,
          "symbol": "GOOG"
         },
         {
          "date": "2008-04-01",
          "price": 574.29,
          "symbol": "GOOG"
         },
         {
          "date": "2008-05-01",
          "price": 585.8,
          "symbol": "GOOG"
         },
         {
          "date": "2008-06-01",
          "price": 526.42,
          "symbol": "GOOG"
         },
         {
          "date": "2008-07-01",
          "price": 473.75,
          "symbol": "GOOG"
         },
         {
          "date": "2008-08-01",
          "price": 463.29,
          "symbol": "GOOG"
         },
         {
          "date": "2008-09-01",
          "price": 400.52,
          "symbol": "GOOG"
         },
         {
          "date": "2008-10-01",
          "price": 359.36,
          "symbol": "GOOG"
         },
         {
          "date": "2008-11-01",
          "price": 292.96,
          "symbol": "GOOG"
         },
         {
          "date": "2008-12-01",
          "price": 307.65,
          "symbol": "GOOG"
         },
         {
          "date": "2009-01-01",
          "price": 338.53,
          "symbol": "GOOG"
         },
         {
          "date": "2009-02-01",
          "price": 337.99,
          "symbol": "GOOG"
         },
         {
          "date": "2009-03-01",
          "price": 348.06,
          "symbol": "GOOG"
         },
         {
          "date": "2009-04-01",
          "price": 395.97,
          "symbol": "GOOG"
         },
         {
          "date": "2009-05-01",
          "price": 417.23,
          "symbol": "GOOG"
         },
         {
          "date": "2009-06-01",
          "price": 421.59,
          "symbol": "GOOG"
         },
         {
          "date": "2009-07-01",
          "price": 443.05,
          "symbol": "GOOG"
         },
         {
          "date": "2009-08-01",
          "price": 461.67,
          "symbol": "GOOG"
         },
         {
          "date": "2009-09-01",
          "price": 495.85,
          "symbol": "GOOG"
         },
         {
          "date": "2009-10-01",
          "price": 536.12,
          "symbol": "GOOG"
         },
         {
          "date": "2009-11-01",
          "price": 583,
          "symbol": "GOOG"
         },
         {
          "date": "2009-12-01",
          "price": 619.98,
          "symbol": "GOOG"
         },
         {
          "date": "2010-01-01",
          "price": 529.94,
          "symbol": "GOOG"
         },
         {
          "date": "2010-02-01",
          "price": 526.8,
          "symbol": "GOOG"
         },
         {
          "date": "2010-03-01",
          "price": 560.19,
          "symbol": "GOOG"
         }
        ]
       },
       "encoding": {
        "x": {
         "field": "date",
         "type": "temporal"
        },
        "y": {
         "field": "price",
         "type": "quantitative"
        }
       },
       "mark": "line"
      },
      "text/plain": [
       "<VegaLite 2 object>"
      ]
     },
     "execution_count": 5,
     "metadata": {},
     "output_type": "execute_result"
    }
   ],
   "source": [
    "GOOG = stocks.query('symbol == \"GOOG\"')\n",
    "\n",
    "alt.Chart(GOOG).mark_line().encode(\n",
    "    x='date:T',\n",
    "    y='price:Q'\n",
    ")"
   ]
  },
  {
   "cell_type": "markdown",
   "metadata": {},
   "source": [
    "### Log scale"
   ]
  },
  {
   "cell_type": "code",
   "execution_count": 6,
   "metadata": {
    "scrolled": true
   },
   "outputs": [
    {
     "data": {
      "application/vnd.vegalite.v2+json": {
       "$schema": "https://vega.github.io/schema/vega-lite/v2.json",
       "config": {
        "view": {
         "height": 300,
         "width": 400
        }
       },
       "data": {
        "values": [
         {
          "date": "2004-08-01",
          "price": 102.37,
          "symbol": "GOOG"
         },
         {
          "date": "2004-09-01",
          "price": 129.6,
          "symbol": "GOOG"
         },
         {
          "date": "2004-10-01",
          "price": 190.64,
          "symbol": "GOOG"
         },
         {
          "date": "2004-11-01",
          "price": 181.98,
          "symbol": "GOOG"
         },
         {
          "date": "2004-12-01",
          "price": 192.79,
          "symbol": "GOOG"
         },
         {
          "date": "2005-01-01",
          "price": 195.62,
          "symbol": "GOOG"
         },
         {
          "date": "2005-02-01",
          "price": 187.99,
          "symbol": "GOOG"
         },
         {
          "date": "2005-03-01",
          "price": 180.51,
          "symbol": "GOOG"
         },
         {
          "date": "2005-04-01",
          "price": 220,
          "symbol": "GOOG"
         },
         {
          "date": "2005-05-01",
          "price": 277.27,
          "symbol": "GOOG"
         },
         {
          "date": "2005-06-01",
          "price": 294.15,
          "symbol": "GOOG"
         },
         {
          "date": "2005-07-01",
          "price": 287.76,
          "symbol": "GOOG"
         },
         {
          "date": "2005-08-01",
          "price": 286,
          "symbol": "GOOG"
         },
         {
          "date": "2005-09-01",
          "price": 316.46,
          "symbol": "GOOG"
         },
         {
          "date": "2005-10-01",
          "price": 372.14,
          "symbol": "GOOG"
         },
         {
          "date": "2005-11-01",
          "price": 404.91,
          "symbol": "GOOG"
         },
         {
          "date": "2005-12-01",
          "price": 414.86,
          "symbol": "GOOG"
         },
         {
          "date": "2006-01-01",
          "price": 432.66,
          "symbol": "GOOG"
         },
         {
          "date": "2006-02-01",
          "price": 362.62,
          "symbol": "GOOG"
         },
         {
          "date": "2006-03-01",
          "price": 390,
          "symbol": "GOOG"
         },
         {
          "date": "2006-04-01",
          "price": 417.94,
          "symbol": "GOOG"
         },
         {
          "date": "2006-05-01",
          "price": 371.82,
          "symbol": "GOOG"
         },
         {
          "date": "2006-06-01",
          "price": 419.33,
          "symbol": "GOOG"
         },
         {
          "date": "2006-07-01",
          "price": 386.6,
          "symbol": "GOOG"
         },
         {
          "date": "2006-08-01",
          "price": 378.53,
          "symbol": "GOOG"
         },
         {
          "date": "2006-09-01",
          "price": 401.9,
          "symbol": "GOOG"
         },
         {
          "date": "2006-10-01",
          "price": 476.39,
          "symbol": "GOOG"
         },
         {
          "date": "2006-11-01",
          "price": 484.81,
          "symbol": "GOOG"
         },
         {
          "date": "2006-12-01",
          "price": 460.48,
          "symbol": "GOOG"
         },
         {
          "date": "2007-01-01",
          "price": 501.5,
          "symbol": "GOOG"
         },
         {
          "date": "2007-02-01",
          "price": 449.45,
          "symbol": "GOOG"
         },
         {
          "date": "2007-03-01",
          "price": 458.16,
          "symbol": "GOOG"
         },
         {
          "date": "2007-04-01",
          "price": 471.38,
          "symbol": "GOOG"
         },
         {
          "date": "2007-05-01",
          "price": 497.91,
          "symbol": "GOOG"
         },
         {
          "date": "2007-06-01",
          "price": 522.7,
          "symbol": "GOOG"
         },
         {
          "date": "2007-07-01",
          "price": 510,
          "symbol": "GOOG"
         },
         {
          "date": "2007-08-01",
          "price": 515.25,
          "symbol": "GOOG"
         },
         {
          "date": "2007-09-01",
          "price": 567.27,
          "symbol": "GOOG"
         },
         {
          "date": "2007-10-01",
          "price": 707,
          "symbol": "GOOG"
         },
         {
          "date": "2007-11-01",
          "price": 693,
          "symbol": "GOOG"
         },
         {
          "date": "2007-12-01",
          "price": 691.48,
          "symbol": "GOOG"
         },
         {
          "date": "2008-01-01",
          "price": 564.3,
          "symbol": "GOOG"
         },
         {
          "date": "2008-02-01",
          "price": 471.18,
          "symbol": "GOOG"
         },
         {
          "date": "2008-03-01",
          "price": 440.47,
          "symbol": "GOOG"
         },
         {
          "date": "2008-04-01",
          "price": 574.29,
          "symbol": "GOOG"
         },
         {
          "date": "2008-05-01",
          "price": 585.8,
          "symbol": "GOOG"
         },
         {
          "date": "2008-06-01",
          "price": 526.42,
          "symbol": "GOOG"
         },
         {
          "date": "2008-07-01",
          "price": 473.75,
          "symbol": "GOOG"
         },
         {
          "date": "2008-08-01",
          "price": 463.29,
          "symbol": "GOOG"
         },
         {
          "date": "2008-09-01",
          "price": 400.52,
          "symbol": "GOOG"
         },
         {
          "date": "2008-10-01",
          "price": 359.36,
          "symbol": "GOOG"
         },
         {
          "date": "2008-11-01",
          "price": 292.96,
          "symbol": "GOOG"
         },
         {
          "date": "2008-12-01",
          "price": 307.65,
          "symbol": "GOOG"
         },
         {
          "date": "2009-01-01",
          "price": 338.53,
          "symbol": "GOOG"
         },
         {
          "date": "2009-02-01",
          "price": 337.99,
          "symbol": "GOOG"
         },
         {
          "date": "2009-03-01",
          "price": 348.06,
          "symbol": "GOOG"
         },
         {
          "date": "2009-04-01",
          "price": 395.97,
          "symbol": "GOOG"
         },
         {
          "date": "2009-05-01",
          "price": 417.23,
          "symbol": "GOOG"
         },
         {
          "date": "2009-06-01",
          "price": 421.59,
          "symbol": "GOOG"
         },
         {
          "date": "2009-07-01",
          "price": 443.05,
          "symbol": "GOOG"
         },
         {
          "date": "2009-08-01",
          "price": 461.67,
          "symbol": "GOOG"
         },
         {
          "date": "2009-09-01",
          "price": 495.85,
          "symbol": "GOOG"
         },
         {
          "date": "2009-10-01",
          "price": 536.12,
          "symbol": "GOOG"
         },
         {
          "date": "2009-11-01",
          "price": 583,
          "symbol": "GOOG"
         },
         {
          "date": "2009-12-01",
          "price": 619.98,
          "symbol": "GOOG"
         },
         {
          "date": "2010-01-01",
          "price": 529.94,
          "symbol": "GOOG"
         },
         {
          "date": "2010-02-01",
          "price": 526.8,
          "symbol": "GOOG"
         },
         {
          "date": "2010-03-01",
          "price": 560.19,
          "symbol": "GOOG"
         }
        ]
       },
       "encoding": {
        "x": {
         "field": "date",
         "type": "temporal"
        },
        "y": {
         "field": "price",
         "scale": {
          "type": "log"
         },
         "type": "quantitative"
        }
       },
       "mark": "line"
      },
      "text/plain": [
       "<VegaLite 2 object>"
      ]
     },
     "execution_count": 6,
     "metadata": {},
     "output_type": "execute_result"
    }
   ],
   "source": [
    "alt.Chart(GOOG).mark_line().encode(\n",
    "    y=alt.Y('price:Q', scale=alt.Scale(type='log')),\n",
    "    x='date:T',\n",
    ")"
   ]
  },
  {
   "cell_type": "markdown",
   "metadata": {},
   "source": [
    "## Grouped line chart"
   ]
  },
  {
   "cell_type": "code",
   "execution_count": 6,
   "metadata": {
    "scrolled": false
   },
   "outputs": [
    {
     "data": {
      "text/html": [
       "<div class=\"vega-embed\" id=\"303401df-f6f0-44d9-9aa7-9ac73457ebcb\"></div>\n",
       "\n",
       "<style>\n",
       ".vega-embed .error p {\n",
       "    color: firebrick;\n",
       "    font-size: 14px;\n",
       "}\n",
       "</style>\n"
      ]
     },
     "metadata": {
      "jupyter-vega": "#303401df-f6f0-44d9-9aa7-9ac73457ebcb"
     },
     "output_type": "display_data"
    },
    {
     "data": {
      "application/javascript": [
       "var spec = {\"config\": {\"view\": {\"width\": 400, \"height\": 300}}, \"data\": {\"values\": [{\"symbol\": \"MSFT\", \"date\": \"2000-01-01\", \"price\": 39.81}, {\"symbol\": \"MSFT\", \"date\": \"2000-02-01\", \"price\": 36.35}, {\"symbol\": \"MSFT\", \"date\": \"2000-03-01\", \"price\": 43.22}, {\"symbol\": \"MSFT\", \"date\": \"2000-04-01\", \"price\": 28.37}, {\"symbol\": \"MSFT\", \"date\": \"2000-05-01\", \"price\": 25.45}, {\"symbol\": \"MSFT\", \"date\": \"2000-06-01\", \"price\": 32.54}, {\"symbol\": \"MSFT\", \"date\": \"2000-07-01\", \"price\": 28.4}, {\"symbol\": \"MSFT\", \"date\": \"2000-08-01\", \"price\": 28.4}, {\"symbol\": \"MSFT\", \"date\": \"2000-09-01\", \"price\": 24.53}, {\"symbol\": \"MSFT\", \"date\": \"2000-10-01\", \"price\": 28.02}, {\"symbol\": \"MSFT\", \"date\": \"2000-11-01\", \"price\": 23.34}, {\"symbol\": \"MSFT\", \"date\": \"2000-12-01\", \"price\": 17.65}, {\"symbol\": \"MSFT\", \"date\": \"2001-01-01\", \"price\": 24.84}, {\"symbol\": \"MSFT\", \"date\": \"2001-02-01\", \"price\": 24.0}, {\"symbol\": \"MSFT\", \"date\": \"2001-03-01\", \"price\": 22.25}, {\"symbol\": \"MSFT\", \"date\": \"2001-04-01\", \"price\": 27.56}, {\"symbol\": \"MSFT\", \"date\": \"2001-05-01\", \"price\": 28.14}, {\"symbol\": \"MSFT\", \"date\": \"2001-06-01\", \"price\": 29.7}, {\"symbol\": \"MSFT\", \"date\": \"2001-07-01\", \"price\": 26.93}, {\"symbol\": \"MSFT\", \"date\": \"2001-08-01\", \"price\": 23.21}, {\"symbol\": \"MSFT\", \"date\": \"2001-09-01\", \"price\": 20.82}, {\"symbol\": \"MSFT\", \"date\": \"2001-10-01\", \"price\": 23.65}, {\"symbol\": \"MSFT\", \"date\": \"2001-11-01\", \"price\": 26.12}, {\"symbol\": \"MSFT\", \"date\": \"2001-12-01\", \"price\": 26.95}, {\"symbol\": \"MSFT\", \"date\": \"2002-01-01\", \"price\": 25.92}, {\"symbol\": \"MSFT\", \"date\": \"2002-02-01\", \"price\": 23.73}, {\"symbol\": \"MSFT\", \"date\": \"2002-03-01\", \"price\": 24.53}, {\"symbol\": \"MSFT\", \"date\": \"2002-04-01\", \"price\": 21.26}, {\"symbol\": \"MSFT\", \"date\": \"2002-05-01\", \"price\": 20.71}, {\"symbol\": \"MSFT\", \"date\": \"2002-06-01\", \"price\": 22.25}, {\"symbol\": \"MSFT\", \"date\": \"2002-07-01\", \"price\": 19.52}, {\"symbol\": \"MSFT\", \"date\": \"2002-08-01\", \"price\": 19.97}, {\"symbol\": \"MSFT\", \"date\": \"2002-09-01\", \"price\": 17.79}, {\"symbol\": \"MSFT\", \"date\": \"2002-10-01\", \"price\": 21.75}, {\"symbol\": \"MSFT\", \"date\": \"2002-11-01\", \"price\": 23.46}, {\"symbol\": \"MSFT\", \"date\": \"2002-12-01\", \"price\": 21.03}, {\"symbol\": \"MSFT\", \"date\": \"2003-01-01\", \"price\": 19.31}, {\"symbol\": \"MSFT\", \"date\": \"2003-02-01\", \"price\": 19.34}, {\"symbol\": \"MSFT\", \"date\": \"2003-03-01\", \"price\": 19.76}, {\"symbol\": \"MSFT\", \"date\": \"2003-04-01\", \"price\": 20.87}, {\"symbol\": \"MSFT\", \"date\": \"2003-05-01\", \"price\": 20.09}, {\"symbol\": \"MSFT\", \"date\": \"2003-06-01\", \"price\": 20.93}, {\"symbol\": \"MSFT\", \"date\": \"2003-07-01\", \"price\": 21.56}, {\"symbol\": \"MSFT\", \"date\": \"2003-08-01\", \"price\": 21.65}, {\"symbol\": \"MSFT\", \"date\": \"2003-09-01\", \"price\": 22.69}, {\"symbol\": \"MSFT\", \"date\": \"2003-10-01\", \"price\": 21.45}, {\"symbol\": \"MSFT\", \"date\": \"2003-11-01\", \"price\": 21.1}, {\"symbol\": \"MSFT\", \"date\": \"2003-12-01\", \"price\": 22.46}, {\"symbol\": \"MSFT\", \"date\": \"2004-01-01\", \"price\": 22.69}, {\"symbol\": \"MSFT\", \"date\": \"2004-02-01\", \"price\": 21.77}, {\"symbol\": \"MSFT\", \"date\": \"2004-03-01\", \"price\": 20.46}, {\"symbol\": \"MSFT\", \"date\": \"2004-04-01\", \"price\": 21.45}, {\"symbol\": \"MSFT\", \"date\": \"2004-05-01\", \"price\": 21.53}, {\"symbol\": \"MSFT\", \"date\": \"2004-06-01\", \"price\": 23.44}, {\"symbol\": \"MSFT\", \"date\": \"2004-07-01\", \"price\": 23.38}, {\"symbol\": \"MSFT\", \"date\": \"2004-08-01\", \"price\": 22.47}, {\"symbol\": \"MSFT\", \"date\": \"2004-09-01\", \"price\": 22.76}, {\"symbol\": \"MSFT\", \"date\": \"2004-10-01\", \"price\": 23.02}, {\"symbol\": \"MSFT\", \"date\": \"2004-11-01\", \"price\": 24.6}, {\"symbol\": \"MSFT\", \"date\": \"2004-12-01\", \"price\": 24.52}, {\"symbol\": \"MSFT\", \"date\": \"2005-01-01\", \"price\": 24.11}, {\"symbol\": \"MSFT\", \"date\": \"2005-02-01\", \"price\": 23.15}, {\"symbol\": \"MSFT\", \"date\": \"2005-03-01\", \"price\": 22.24}, {\"symbol\": \"MSFT\", \"date\": \"2005-04-01\", \"price\": 23.28}, {\"symbol\": \"MSFT\", \"date\": \"2005-05-01\", \"price\": 23.82}, {\"symbol\": \"MSFT\", \"date\": \"2005-06-01\", \"price\": 22.93}, {\"symbol\": \"MSFT\", \"date\": \"2005-07-01\", \"price\": 23.64}, {\"symbol\": \"MSFT\", \"date\": \"2005-08-01\", \"price\": 25.35}, {\"symbol\": \"MSFT\", \"date\": \"2005-09-01\", \"price\": 23.83}, {\"symbol\": \"MSFT\", \"date\": \"2005-10-01\", \"price\": 23.8}, {\"symbol\": \"MSFT\", \"date\": \"2005-11-01\", \"price\": 25.71}, {\"symbol\": \"MSFT\", \"date\": \"2005-12-01\", \"price\": 24.29}, {\"symbol\": \"MSFT\", \"date\": \"2006-01-01\", \"price\": 26.14}, {\"symbol\": \"MSFT\", \"date\": \"2006-02-01\", \"price\": 25.04}, {\"symbol\": \"MSFT\", \"date\": \"2006-03-01\", \"price\": 25.36}, {\"symbol\": \"MSFT\", \"date\": \"2006-04-01\", \"price\": 22.5}, {\"symbol\": \"MSFT\", \"date\": \"2006-05-01\", \"price\": 21.19}, {\"symbol\": \"MSFT\", \"date\": \"2006-06-01\", \"price\": 21.8}, {\"symbol\": \"MSFT\", \"date\": \"2006-07-01\", \"price\": 22.51}, {\"symbol\": \"MSFT\", \"date\": \"2006-08-01\", \"price\": 24.13}, {\"symbol\": \"MSFT\", \"date\": \"2006-09-01\", \"price\": 25.68}, {\"symbol\": \"MSFT\", \"date\": \"2006-10-01\", \"price\": 26.96}, {\"symbol\": \"MSFT\", \"date\": \"2006-11-01\", \"price\": 27.66}, {\"symbol\": \"MSFT\", \"date\": \"2006-12-01\", \"price\": 28.13}, {\"symbol\": \"MSFT\", \"date\": \"2007-01-01\", \"price\": 29.07}, {\"symbol\": \"MSFT\", \"date\": \"2007-02-01\", \"price\": 26.63}, {\"symbol\": \"MSFT\", \"date\": \"2007-03-01\", \"price\": 26.35}, {\"symbol\": \"MSFT\", \"date\": \"2007-04-01\", \"price\": 28.3}, {\"symbol\": \"MSFT\", \"date\": \"2007-05-01\", \"price\": 29.11}, {\"symbol\": \"MSFT\", \"date\": \"2007-06-01\", \"price\": 27.95}, {\"symbol\": \"MSFT\", \"date\": \"2007-07-01\", \"price\": 27.5}, {\"symbol\": \"MSFT\", \"date\": \"2007-08-01\", \"price\": 27.34}, {\"symbol\": \"MSFT\", \"date\": \"2007-09-01\", \"price\": 28.04}, {\"symbol\": \"MSFT\", \"date\": \"2007-10-01\", \"price\": 35.03}, {\"symbol\": \"MSFT\", \"date\": \"2007-11-01\", \"price\": 32.09}, {\"symbol\": \"MSFT\", \"date\": \"2007-12-01\", \"price\": 34.0}, {\"symbol\": \"MSFT\", \"date\": \"2008-01-01\", \"price\": 31.13}, {\"symbol\": \"MSFT\", \"date\": \"2008-02-01\", \"price\": 26.07}, {\"symbol\": \"MSFT\", \"date\": \"2008-03-01\", \"price\": 27.21}, {\"symbol\": \"MSFT\", \"date\": \"2008-04-01\", \"price\": 27.34}, {\"symbol\": \"MSFT\", \"date\": \"2008-05-01\", \"price\": 27.25}, {\"symbol\": \"MSFT\", \"date\": \"2008-06-01\", \"price\": 26.47}, {\"symbol\": \"MSFT\", \"date\": \"2008-07-01\", \"price\": 24.75}, {\"symbol\": \"MSFT\", \"date\": \"2008-08-01\", \"price\": 26.36}, {\"symbol\": \"MSFT\", \"date\": \"2008-09-01\", \"price\": 25.78}, {\"symbol\": \"MSFT\", \"date\": \"2008-10-01\", \"price\": 21.57}, {\"symbol\": \"MSFT\", \"date\": \"2008-11-01\", \"price\": 19.66}, {\"symbol\": \"MSFT\", \"date\": \"2008-12-01\", \"price\": 18.91}, {\"symbol\": \"MSFT\", \"date\": \"2009-01-01\", \"price\": 16.63}, {\"symbol\": \"MSFT\", \"date\": \"2009-02-01\", \"price\": 15.81}, {\"symbol\": \"MSFT\", \"date\": \"2009-03-01\", \"price\": 17.99}, {\"symbol\": \"MSFT\", \"date\": \"2009-04-01\", \"price\": 19.84}, {\"symbol\": \"MSFT\", \"date\": \"2009-05-01\", \"price\": 20.59}, {\"symbol\": \"MSFT\", \"date\": \"2009-06-01\", \"price\": 23.42}, {\"symbol\": \"MSFT\", \"date\": \"2009-07-01\", \"price\": 23.18}, {\"symbol\": \"MSFT\", \"date\": \"2009-08-01\", \"price\": 24.43}, {\"symbol\": \"MSFT\", \"date\": \"2009-09-01\", \"price\": 25.49}, {\"symbol\": \"MSFT\", \"date\": \"2009-10-01\", \"price\": 27.48}, {\"symbol\": \"MSFT\", \"date\": \"2009-11-01\", \"price\": 29.27}, {\"symbol\": \"MSFT\", \"date\": \"2009-12-01\", \"price\": 30.34}, {\"symbol\": \"MSFT\", \"date\": \"2010-01-01\", \"price\": 28.05}, {\"symbol\": \"MSFT\", \"date\": \"2010-02-01\", \"price\": 28.67}, {\"symbol\": \"MSFT\", \"date\": \"2010-03-01\", \"price\": 28.8}, {\"symbol\": \"AMZN\", \"date\": \"2000-01-01\", \"price\": 64.56}, {\"symbol\": \"AMZN\", \"date\": \"2000-02-01\", \"price\": 68.87}, {\"symbol\": \"AMZN\", \"date\": \"2000-03-01\", \"price\": 67.0}, {\"symbol\": \"AMZN\", \"date\": \"2000-04-01\", \"price\": 55.19}, {\"symbol\": \"AMZN\", \"date\": \"2000-05-01\", \"price\": 48.31}, {\"symbol\": \"AMZN\", \"date\": \"2000-06-01\", \"price\": 36.31}, {\"symbol\": \"AMZN\", \"date\": \"2000-07-01\", \"price\": 30.12}, {\"symbol\": \"AMZN\", \"date\": \"2000-08-01\", \"price\": 41.5}, {\"symbol\": \"AMZN\", \"date\": \"2000-09-01\", \"price\": 38.44}, {\"symbol\": \"AMZN\", \"date\": \"2000-10-01\", \"price\": 36.62}, {\"symbol\": \"AMZN\", \"date\": \"2000-11-01\", \"price\": 24.69}, {\"symbol\": \"AMZN\", \"date\": \"2000-12-01\", \"price\": 15.56}, {\"symbol\": \"AMZN\", \"date\": \"2001-01-01\", \"price\": 17.31}, {\"symbol\": \"AMZN\", \"date\": \"2001-02-01\", \"price\": 10.19}, {\"symbol\": \"AMZN\", \"date\": \"2001-03-01\", \"price\": 10.23}, {\"symbol\": \"AMZN\", \"date\": \"2001-04-01\", \"price\": 15.78}, {\"symbol\": \"AMZN\", \"date\": \"2001-05-01\", \"price\": 16.69}, {\"symbol\": \"AMZN\", \"date\": \"2001-06-01\", \"price\": 14.15}, {\"symbol\": \"AMZN\", \"date\": \"2001-07-01\", \"price\": 12.49}, {\"symbol\": \"AMZN\", \"date\": \"2001-08-01\", \"price\": 8.94}, {\"symbol\": \"AMZN\", \"date\": \"2001-09-01\", \"price\": 5.97}, {\"symbol\": \"AMZN\", \"date\": \"2001-10-01\", \"price\": 6.98}, {\"symbol\": \"AMZN\", \"date\": \"2001-11-01\", \"price\": 11.32}, {\"symbol\": \"AMZN\", \"date\": \"2001-12-01\", \"price\": 10.82}, {\"symbol\": \"AMZN\", \"date\": \"2002-01-01\", \"price\": 14.19}, {\"symbol\": \"AMZN\", \"date\": \"2002-02-01\", \"price\": 14.1}, {\"symbol\": \"AMZN\", \"date\": \"2002-03-01\", \"price\": 14.3}, {\"symbol\": \"AMZN\", \"date\": \"2002-04-01\", \"price\": 16.69}, {\"symbol\": \"AMZN\", \"date\": \"2002-05-01\", \"price\": 18.23}, {\"symbol\": \"AMZN\", \"date\": \"2002-06-01\", \"price\": 16.25}, {\"symbol\": \"AMZN\", \"date\": \"2002-07-01\", \"price\": 14.45}, {\"symbol\": \"AMZN\", \"date\": \"2002-08-01\", \"price\": 14.94}, {\"symbol\": \"AMZN\", \"date\": \"2002-09-01\", \"price\": 15.93}, {\"symbol\": \"AMZN\", \"date\": \"2002-10-01\", \"price\": 19.36}, {\"symbol\": \"AMZN\", \"date\": \"2002-11-01\", \"price\": 23.35}, {\"symbol\": \"AMZN\", \"date\": \"2002-12-01\", \"price\": 18.89}, {\"symbol\": \"AMZN\", \"date\": \"2003-01-01\", \"price\": 21.85}, {\"symbol\": \"AMZN\", \"date\": \"2003-02-01\", \"price\": 22.01}, {\"symbol\": \"AMZN\", \"date\": \"2003-03-01\", \"price\": 26.03}, {\"symbol\": \"AMZN\", \"date\": \"2003-04-01\", \"price\": 28.69}, {\"symbol\": \"AMZN\", \"date\": \"2003-05-01\", \"price\": 35.89}, {\"symbol\": \"AMZN\", \"date\": \"2003-06-01\", \"price\": 36.32}, {\"symbol\": \"AMZN\", \"date\": \"2003-07-01\", \"price\": 41.64}, {\"symbol\": \"AMZN\", \"date\": \"2003-08-01\", \"price\": 46.32}, {\"symbol\": \"AMZN\", \"date\": \"2003-09-01\", \"price\": 48.43}, {\"symbol\": \"AMZN\", \"date\": \"2003-10-01\", \"price\": 54.43}, {\"symbol\": \"AMZN\", \"date\": \"2003-11-01\", \"price\": 53.97}, {\"symbol\": \"AMZN\", \"date\": \"2003-12-01\", \"price\": 52.62}, {\"symbol\": \"AMZN\", \"date\": \"2004-01-01\", \"price\": 50.4}, {\"symbol\": \"AMZN\", \"date\": \"2004-02-01\", \"price\": 43.01}, {\"symbol\": \"AMZN\", \"date\": \"2004-03-01\", \"price\": 43.28}, {\"symbol\": \"AMZN\", \"date\": \"2004-04-01\", \"price\": 43.6}, {\"symbol\": \"AMZN\", \"date\": \"2004-05-01\", \"price\": 48.5}, {\"symbol\": \"AMZN\", \"date\": \"2004-06-01\", \"price\": 54.4}, {\"symbol\": \"AMZN\", \"date\": \"2004-07-01\", \"price\": 38.92}, {\"symbol\": \"AMZN\", \"date\": \"2004-08-01\", \"price\": 38.14}, {\"symbol\": \"AMZN\", \"date\": \"2004-09-01\", \"price\": 40.86}, {\"symbol\": \"AMZN\", \"date\": \"2004-10-01\", \"price\": 34.13}, {\"symbol\": \"AMZN\", \"date\": \"2004-11-01\", \"price\": 39.68}, {\"symbol\": \"AMZN\", \"date\": \"2004-12-01\", \"price\": 44.29}, {\"symbol\": \"AMZN\", \"date\": \"2005-01-01\", \"price\": 43.22}, {\"symbol\": \"AMZN\", \"date\": \"2005-02-01\", \"price\": 35.18}, {\"symbol\": \"AMZN\", \"date\": \"2005-03-01\", \"price\": 34.27}, {\"symbol\": \"AMZN\", \"date\": \"2005-04-01\", \"price\": 32.36}, {\"symbol\": \"AMZN\", \"date\": \"2005-05-01\", \"price\": 35.51}, {\"symbol\": \"AMZN\", \"date\": \"2005-06-01\", \"price\": 33.09}, {\"symbol\": \"AMZN\", \"date\": \"2005-07-01\", \"price\": 45.15}, {\"symbol\": \"AMZN\", \"date\": \"2005-08-01\", \"price\": 42.7}, {\"symbol\": \"AMZN\", \"date\": \"2005-09-01\", \"price\": 45.3}, {\"symbol\": \"AMZN\", \"date\": \"2005-10-01\", \"price\": 39.86}, {\"symbol\": \"AMZN\", \"date\": \"2005-11-01\", \"price\": 48.46}, {\"symbol\": \"AMZN\", \"date\": \"2005-12-01\", \"price\": 47.15}, {\"symbol\": \"AMZN\", \"date\": \"2006-01-01\", \"price\": 44.82}, {\"symbol\": \"AMZN\", \"date\": \"2006-02-01\", \"price\": 37.44}, {\"symbol\": \"AMZN\", \"date\": \"2006-03-01\", \"price\": 36.53}, {\"symbol\": \"AMZN\", \"date\": \"2006-04-01\", \"price\": 35.21}, {\"symbol\": \"AMZN\", \"date\": \"2006-05-01\", \"price\": 34.61}, {\"symbol\": \"AMZN\", \"date\": \"2006-06-01\", \"price\": 38.68}, {\"symbol\": \"AMZN\", \"date\": \"2006-07-01\", \"price\": 26.89}, {\"symbol\": \"AMZN\", \"date\": \"2006-08-01\", \"price\": 30.83}, {\"symbol\": \"AMZN\", \"date\": \"2006-09-01\", \"price\": 32.12}, {\"symbol\": \"AMZN\", \"date\": \"2006-10-01\", \"price\": 38.09}, {\"symbol\": \"AMZN\", \"date\": \"2006-11-01\", \"price\": 40.34}, {\"symbol\": \"AMZN\", \"date\": \"2006-12-01\", \"price\": 39.46}, {\"symbol\": \"AMZN\", \"date\": \"2007-01-01\", \"price\": 37.67}, {\"symbol\": \"AMZN\", \"date\": \"2007-02-01\", \"price\": 39.14}, {\"symbol\": \"AMZN\", \"date\": \"2007-03-01\", \"price\": 39.79}, {\"symbol\": \"AMZN\", \"date\": \"2007-04-01\", \"price\": 61.33}, {\"symbol\": \"AMZN\", \"date\": \"2007-05-01\", \"price\": 69.14}, {\"symbol\": \"AMZN\", \"date\": \"2007-06-01\", \"price\": 68.41}, {\"symbol\": \"AMZN\", \"date\": \"2007-07-01\", \"price\": 78.54}, {\"symbol\": \"AMZN\", \"date\": \"2007-08-01\", \"price\": 79.91}, {\"symbol\": \"AMZN\", \"date\": \"2007-09-01\", \"price\": 93.15}, {\"symbol\": \"AMZN\", \"date\": \"2007-10-01\", \"price\": 89.15}, {\"symbol\": \"AMZN\", \"date\": \"2007-11-01\", \"price\": 90.56}, {\"symbol\": \"AMZN\", \"date\": \"2007-12-01\", \"price\": 92.64}, {\"symbol\": \"AMZN\", \"date\": \"2008-01-01\", \"price\": 77.7}, {\"symbol\": \"AMZN\", \"date\": \"2008-02-01\", \"price\": 64.47}, {\"symbol\": \"AMZN\", \"date\": \"2008-03-01\", \"price\": 71.3}, {\"symbol\": \"AMZN\", \"date\": \"2008-04-01\", \"price\": 78.63}, {\"symbol\": \"AMZN\", \"date\": \"2008-05-01\", \"price\": 81.62}, {\"symbol\": \"AMZN\", \"date\": \"2008-06-01\", \"price\": 73.33}, {\"symbol\": \"AMZN\", \"date\": \"2008-07-01\", \"price\": 76.34}, {\"symbol\": \"AMZN\", \"date\": \"2008-08-01\", \"price\": 80.81}, {\"symbol\": \"AMZN\", \"date\": \"2008-09-01\", \"price\": 72.76}, {\"symbol\": \"AMZN\", \"date\": \"2008-10-01\", \"price\": 57.24}, {\"symbol\": \"AMZN\", \"date\": \"2008-11-01\", \"price\": 42.7}, {\"symbol\": \"AMZN\", \"date\": \"2008-12-01\", \"price\": 51.28}, {\"symbol\": \"AMZN\", \"date\": \"2009-01-01\", \"price\": 58.82}, {\"symbol\": \"AMZN\", \"date\": \"2009-02-01\", \"price\": 64.79}, {\"symbol\": \"AMZN\", \"date\": \"2009-03-01\", \"price\": 73.44}, {\"symbol\": \"AMZN\", \"date\": \"2009-04-01\", \"price\": 80.52}, {\"symbol\": \"AMZN\", \"date\": \"2009-05-01\", \"price\": 77.99}, {\"symbol\": \"AMZN\", \"date\": \"2009-06-01\", \"price\": 83.66}, {\"symbol\": \"AMZN\", \"date\": \"2009-07-01\", \"price\": 85.76}, {\"symbol\": \"AMZN\", \"date\": \"2009-08-01\", \"price\": 81.19}, {\"symbol\": \"AMZN\", \"date\": \"2009-09-01\", \"price\": 93.36}, {\"symbol\": \"AMZN\", \"date\": \"2009-10-01\", \"price\": 118.81}, {\"symbol\": \"AMZN\", \"date\": \"2009-11-01\", \"price\": 135.91}, {\"symbol\": \"AMZN\", \"date\": \"2009-12-01\", \"price\": 134.52}, {\"symbol\": \"AMZN\", \"date\": \"2010-01-01\", \"price\": 125.41}, {\"symbol\": \"AMZN\", \"date\": \"2010-02-01\", \"price\": 118.4}, {\"symbol\": \"AMZN\", \"date\": \"2010-03-01\", \"price\": 128.82}, {\"symbol\": \"IBM\", \"date\": \"2000-01-01\", \"price\": 100.52}, {\"symbol\": \"IBM\", \"date\": \"2000-02-01\", \"price\": 92.11}, {\"symbol\": \"IBM\", \"date\": \"2000-03-01\", \"price\": 106.11}, {\"symbol\": \"IBM\", \"date\": \"2000-04-01\", \"price\": 99.95}, {\"symbol\": \"IBM\", \"date\": \"2000-05-01\", \"price\": 96.31}, {\"symbol\": \"IBM\", \"date\": \"2000-06-01\", \"price\": 98.33}, {\"symbol\": \"IBM\", \"date\": \"2000-07-01\", \"price\": 100.74}, {\"symbol\": \"IBM\", \"date\": \"2000-08-01\", \"price\": 118.62}, {\"symbol\": \"IBM\", \"date\": \"2000-09-01\", \"price\": 101.19}, {\"symbol\": \"IBM\", \"date\": \"2000-10-01\", \"price\": 88.5}, {\"symbol\": \"IBM\", \"date\": \"2000-11-01\", \"price\": 84.12}, {\"symbol\": \"IBM\", \"date\": \"2000-12-01\", \"price\": 76.47}, {\"symbol\": \"IBM\", \"date\": \"2001-01-01\", \"price\": 100.76}, {\"symbol\": \"IBM\", \"date\": \"2001-02-01\", \"price\": 89.98}, {\"symbol\": \"IBM\", \"date\": \"2001-03-01\", \"price\": 86.63}, {\"symbol\": \"IBM\", \"date\": \"2001-04-01\", \"price\": 103.7}, {\"symbol\": \"IBM\", \"date\": \"2001-05-01\", \"price\": 100.82}, {\"symbol\": \"IBM\", \"date\": \"2001-06-01\", \"price\": 102.35}, {\"symbol\": \"IBM\", \"date\": \"2001-07-01\", \"price\": 94.87}, {\"symbol\": \"IBM\", \"date\": \"2001-08-01\", \"price\": 90.25}, {\"symbol\": \"IBM\", \"date\": \"2001-09-01\", \"price\": 82.82}, {\"symbol\": \"IBM\", \"date\": \"2001-10-01\", \"price\": 97.58}, {\"symbol\": \"IBM\", \"date\": \"2001-11-01\", \"price\": 104.5}, {\"symbol\": \"IBM\", \"date\": \"2001-12-01\", \"price\": 109.36}, {\"symbol\": \"IBM\", \"date\": \"2002-01-01\", \"price\": 97.54}, {\"symbol\": \"IBM\", \"date\": \"2002-02-01\", \"price\": 88.82}, {\"symbol\": \"IBM\", \"date\": \"2002-03-01\", \"price\": 94.15}, {\"symbol\": \"IBM\", \"date\": \"2002-04-01\", \"price\": 75.82}, {\"symbol\": \"IBM\", \"date\": \"2002-05-01\", \"price\": 72.97}, {\"symbol\": \"IBM\", \"date\": \"2002-06-01\", \"price\": 65.31}, {\"symbol\": \"IBM\", \"date\": \"2002-07-01\", \"price\": 63.86}, {\"symbol\": \"IBM\", \"date\": \"2002-08-01\", \"price\": 68.52}, {\"symbol\": \"IBM\", \"date\": \"2002-09-01\", \"price\": 53.01}, {\"symbol\": \"IBM\", \"date\": \"2002-10-01\", \"price\": 71.76}, {\"symbol\": \"IBM\", \"date\": \"2002-11-01\", \"price\": 79.16}, {\"symbol\": \"IBM\", \"date\": \"2002-12-01\", \"price\": 70.58}, {\"symbol\": \"IBM\", \"date\": \"2003-01-01\", \"price\": 71.22}, {\"symbol\": \"IBM\", \"date\": \"2003-02-01\", \"price\": 71.13}, {\"symbol\": \"IBM\", \"date\": \"2003-03-01\", \"price\": 71.57}, {\"symbol\": \"IBM\", \"date\": \"2003-04-01\", \"price\": 77.47}, {\"symbol\": \"IBM\", \"date\": \"2003-05-01\", \"price\": 80.48}, {\"symbol\": \"IBM\", \"date\": \"2003-06-01\", \"price\": 75.42}, {\"symbol\": \"IBM\", \"date\": \"2003-07-01\", \"price\": 74.28}, {\"symbol\": \"IBM\", \"date\": \"2003-08-01\", \"price\": 75.12}, {\"symbol\": \"IBM\", \"date\": \"2003-09-01\", \"price\": 80.91}, {\"symbol\": \"IBM\", \"date\": \"2003-10-01\", \"price\": 81.96}, {\"symbol\": \"IBM\", \"date\": \"2003-11-01\", \"price\": 83.08}, {\"symbol\": \"IBM\", \"date\": \"2003-12-01\", \"price\": 85.05}, {\"symbol\": \"IBM\", \"date\": \"2004-01-01\", \"price\": 91.06}, {\"symbol\": \"IBM\", \"date\": \"2004-02-01\", \"price\": 88.7}, {\"symbol\": \"IBM\", \"date\": \"2004-03-01\", \"price\": 84.41}, {\"symbol\": \"IBM\", \"date\": \"2004-04-01\", \"price\": 81.04}, {\"symbol\": \"IBM\", \"date\": \"2004-05-01\", \"price\": 81.59}, {\"symbol\": \"IBM\", \"date\": \"2004-06-01\", \"price\": 81.19}, {\"symbol\": \"IBM\", \"date\": \"2004-07-01\", \"price\": 80.19}, {\"symbol\": \"IBM\", \"date\": \"2004-08-01\", \"price\": 78.17}, {\"symbol\": \"IBM\", \"date\": \"2004-09-01\", \"price\": 79.13}, {\"symbol\": \"IBM\", \"date\": \"2004-10-01\", \"price\": 82.84}, {\"symbol\": \"IBM\", \"date\": \"2004-11-01\", \"price\": 87.15}, {\"symbol\": \"IBM\", \"date\": \"2004-12-01\", \"price\": 91.16}, {\"symbol\": \"IBM\", \"date\": \"2005-01-01\", \"price\": 86.39}, {\"symbol\": \"IBM\", \"date\": \"2005-02-01\", \"price\": 85.78}, {\"symbol\": \"IBM\", \"date\": \"2005-03-01\", \"price\": 84.66}, {\"symbol\": \"IBM\", \"date\": \"2005-04-01\", \"price\": 70.77}, {\"symbol\": \"IBM\", \"date\": \"2005-05-01\", \"price\": 70.18}, {\"symbol\": \"IBM\", \"date\": \"2005-06-01\", \"price\": 68.93}, {\"symbol\": \"IBM\", \"date\": \"2005-07-01\", \"price\": 77.53}, {\"symbol\": \"IBM\", \"date\": \"2005-08-01\", \"price\": 75.07}, {\"symbol\": \"IBM\", \"date\": \"2005-09-01\", \"price\": 74.7}, {\"symbol\": \"IBM\", \"date\": \"2005-10-01\", \"price\": 76.25}, {\"symbol\": \"IBM\", \"date\": \"2005-11-01\", \"price\": 82.98}, {\"symbol\": \"IBM\", \"date\": \"2005-12-01\", \"price\": 76.73}, {\"symbol\": \"IBM\", \"date\": \"2006-01-01\", \"price\": 75.89}, {\"symbol\": \"IBM\", \"date\": \"2006-02-01\", \"price\": 75.09}, {\"symbol\": \"IBM\", \"date\": \"2006-03-01\", \"price\": 77.17}, {\"symbol\": \"IBM\", \"date\": \"2006-04-01\", \"price\": 77.05}, {\"symbol\": \"IBM\", \"date\": \"2006-05-01\", \"price\": 75.04}, {\"symbol\": \"IBM\", \"date\": \"2006-06-01\", \"price\": 72.15}, {\"symbol\": \"IBM\", \"date\": \"2006-07-01\", \"price\": 72.7}, {\"symbol\": \"IBM\", \"date\": \"2006-08-01\", \"price\": 76.35}, {\"symbol\": \"IBM\", \"date\": \"2006-09-01\", \"price\": 77.26}, {\"symbol\": \"IBM\", \"date\": \"2006-10-01\", \"price\": 87.06}, {\"symbol\": \"IBM\", \"date\": \"2006-11-01\", \"price\": 86.95}, {\"symbol\": \"IBM\", \"date\": \"2006-12-01\", \"price\": 91.9}, {\"symbol\": \"IBM\", \"date\": \"2007-01-01\", \"price\": 93.79}, {\"symbol\": \"IBM\", \"date\": \"2007-02-01\", \"price\": 88.18}, {\"symbol\": \"IBM\", \"date\": \"2007-03-01\", \"price\": 89.44}, {\"symbol\": \"IBM\", \"date\": \"2007-04-01\", \"price\": 96.98}, {\"symbol\": \"IBM\", \"date\": \"2007-05-01\", \"price\": 101.54}, {\"symbol\": \"IBM\", \"date\": \"2007-06-01\", \"price\": 100.25}, {\"symbol\": \"IBM\", \"date\": \"2007-07-01\", \"price\": 105.4}, {\"symbol\": \"IBM\", \"date\": \"2007-08-01\", \"price\": 111.54}, {\"symbol\": \"IBM\", \"date\": \"2007-09-01\", \"price\": 112.6}, {\"symbol\": \"IBM\", \"date\": \"2007-10-01\", \"price\": 111.0}, {\"symbol\": \"IBM\", \"date\": \"2007-11-01\", \"price\": 100.9}, {\"symbol\": \"IBM\", \"date\": \"2007-12-01\", \"price\": 103.7}, {\"symbol\": \"IBM\", \"date\": \"2008-01-01\", \"price\": 102.75}, {\"symbol\": \"IBM\", \"date\": \"2008-02-01\", \"price\": 109.64}, {\"symbol\": \"IBM\", \"date\": \"2008-03-01\", \"price\": 110.87}, {\"symbol\": \"IBM\", \"date\": \"2008-04-01\", \"price\": 116.23}, {\"symbol\": \"IBM\", \"date\": \"2008-05-01\", \"price\": 125.14}, {\"symbol\": \"IBM\", \"date\": \"2008-06-01\", \"price\": 114.6}, {\"symbol\": \"IBM\", \"date\": \"2008-07-01\", \"price\": 123.74}, {\"symbol\": \"IBM\", \"date\": \"2008-08-01\", \"price\": 118.16}, {\"symbol\": \"IBM\", \"date\": \"2008-09-01\", \"price\": 113.53}, {\"symbol\": \"IBM\", \"date\": \"2008-10-01\", \"price\": 90.24}, {\"symbol\": \"IBM\", \"date\": \"2008-11-01\", \"price\": 79.65}, {\"symbol\": \"IBM\", \"date\": \"2008-12-01\", \"price\": 82.15}, {\"symbol\": \"IBM\", \"date\": \"2009-01-01\", \"price\": 89.46}, {\"symbol\": \"IBM\", \"date\": \"2009-02-01\", \"price\": 90.32}, {\"symbol\": \"IBM\", \"date\": \"2009-03-01\", \"price\": 95.09}, {\"symbol\": \"IBM\", \"date\": \"2009-04-01\", \"price\": 101.29}, {\"symbol\": \"IBM\", \"date\": \"2009-05-01\", \"price\": 104.85}, {\"symbol\": \"IBM\", \"date\": \"2009-06-01\", \"price\": 103.01}, {\"symbol\": \"IBM\", \"date\": \"2009-07-01\", \"price\": 116.34}, {\"symbol\": \"IBM\", \"date\": \"2009-08-01\", \"price\": 117.0}, {\"symbol\": \"IBM\", \"date\": \"2009-09-01\", \"price\": 118.55}, {\"symbol\": \"IBM\", \"date\": \"2009-10-01\", \"price\": 119.54}, {\"symbol\": \"IBM\", \"date\": \"2009-11-01\", \"price\": 125.79}, {\"symbol\": \"IBM\", \"date\": \"2009-12-01\", \"price\": 130.32}, {\"symbol\": \"IBM\", \"date\": \"2010-01-01\", \"price\": 121.85}, {\"symbol\": \"IBM\", \"date\": \"2010-02-01\", \"price\": 127.16}, {\"symbol\": \"IBM\", \"date\": \"2010-03-01\", \"price\": 125.55}, {\"symbol\": \"GOOG\", \"date\": \"2004-08-01\", \"price\": 102.37}, {\"symbol\": \"GOOG\", \"date\": \"2004-09-01\", \"price\": 129.6}, {\"symbol\": \"GOOG\", \"date\": \"2004-10-01\", \"price\": 190.64}, {\"symbol\": \"GOOG\", \"date\": \"2004-11-01\", \"price\": 181.98}, {\"symbol\": \"GOOG\", \"date\": \"2004-12-01\", \"price\": 192.79}, {\"symbol\": \"GOOG\", \"date\": \"2005-01-01\", \"price\": 195.62}, {\"symbol\": \"GOOG\", \"date\": \"2005-02-01\", \"price\": 187.99}, {\"symbol\": \"GOOG\", \"date\": \"2005-03-01\", \"price\": 180.51}, {\"symbol\": \"GOOG\", \"date\": \"2005-04-01\", \"price\": 220.0}, {\"symbol\": \"GOOG\", \"date\": \"2005-05-01\", \"price\": 277.27}, {\"symbol\": \"GOOG\", \"date\": \"2005-06-01\", \"price\": 294.15}, {\"symbol\": \"GOOG\", \"date\": \"2005-07-01\", \"price\": 287.76}, {\"symbol\": \"GOOG\", \"date\": \"2005-08-01\", \"price\": 286.0}, {\"symbol\": \"GOOG\", \"date\": \"2005-09-01\", \"price\": 316.46}, {\"symbol\": \"GOOG\", \"date\": \"2005-10-01\", \"price\": 372.14}, {\"symbol\": \"GOOG\", \"date\": \"2005-11-01\", \"price\": 404.91}, {\"symbol\": \"GOOG\", \"date\": \"2005-12-01\", \"price\": 414.86}, {\"symbol\": \"GOOG\", \"date\": \"2006-01-01\", \"price\": 432.66}, {\"symbol\": \"GOOG\", \"date\": \"2006-02-01\", \"price\": 362.62}, {\"symbol\": \"GOOG\", \"date\": \"2006-03-01\", \"price\": 390.0}, {\"symbol\": \"GOOG\", \"date\": \"2006-04-01\", \"price\": 417.94}, {\"symbol\": \"GOOG\", \"date\": \"2006-05-01\", \"price\": 371.82}, {\"symbol\": \"GOOG\", \"date\": \"2006-06-01\", \"price\": 419.33}, {\"symbol\": \"GOOG\", \"date\": \"2006-07-01\", \"price\": 386.6}, {\"symbol\": \"GOOG\", \"date\": \"2006-08-01\", \"price\": 378.53}, {\"symbol\": \"GOOG\", \"date\": \"2006-09-01\", \"price\": 401.9}, {\"symbol\": \"GOOG\", \"date\": \"2006-10-01\", \"price\": 476.39}, {\"symbol\": \"GOOG\", \"date\": \"2006-11-01\", \"price\": 484.81}, {\"symbol\": \"GOOG\", \"date\": \"2006-12-01\", \"price\": 460.48}, {\"symbol\": \"GOOG\", \"date\": \"2007-01-01\", \"price\": 501.5}, {\"symbol\": \"GOOG\", \"date\": \"2007-02-01\", \"price\": 449.45}, {\"symbol\": \"GOOG\", \"date\": \"2007-03-01\", \"price\": 458.16}, {\"symbol\": \"GOOG\", \"date\": \"2007-04-01\", \"price\": 471.38}, {\"symbol\": \"GOOG\", \"date\": \"2007-05-01\", \"price\": 497.91}, {\"symbol\": \"GOOG\", \"date\": \"2007-06-01\", \"price\": 522.7}, {\"symbol\": \"GOOG\", \"date\": \"2007-07-01\", \"price\": 510.0}, {\"symbol\": \"GOOG\", \"date\": \"2007-08-01\", \"price\": 515.25}, {\"symbol\": \"GOOG\", \"date\": \"2007-09-01\", \"price\": 567.27}, {\"symbol\": \"GOOG\", \"date\": \"2007-10-01\", \"price\": 707.0}, {\"symbol\": \"GOOG\", \"date\": \"2007-11-01\", \"price\": 693.0}, {\"symbol\": \"GOOG\", \"date\": \"2007-12-01\", \"price\": 691.48}, {\"symbol\": \"GOOG\", \"date\": \"2008-01-01\", \"price\": 564.3}, {\"symbol\": \"GOOG\", \"date\": \"2008-02-01\", \"price\": 471.18}, {\"symbol\": \"GOOG\", \"date\": \"2008-03-01\", \"price\": 440.47}, {\"symbol\": \"GOOG\", \"date\": \"2008-04-01\", \"price\": 574.29}, {\"symbol\": \"GOOG\", \"date\": \"2008-05-01\", \"price\": 585.8}, {\"symbol\": \"GOOG\", \"date\": \"2008-06-01\", \"price\": 526.42}, {\"symbol\": \"GOOG\", \"date\": \"2008-07-01\", \"price\": 473.75}, {\"symbol\": \"GOOG\", \"date\": \"2008-08-01\", \"price\": 463.29}, {\"symbol\": \"GOOG\", \"date\": \"2008-09-01\", \"price\": 400.52}, {\"symbol\": \"GOOG\", \"date\": \"2008-10-01\", \"price\": 359.36}, {\"symbol\": \"GOOG\", \"date\": \"2008-11-01\", \"price\": 292.96}, {\"symbol\": \"GOOG\", \"date\": \"2008-12-01\", \"price\": 307.65}, {\"symbol\": \"GOOG\", \"date\": \"2009-01-01\", \"price\": 338.53}, {\"symbol\": \"GOOG\", \"date\": \"2009-02-01\", \"price\": 337.99}, {\"symbol\": \"GOOG\", \"date\": \"2009-03-01\", \"price\": 348.06}, {\"symbol\": \"GOOG\", \"date\": \"2009-04-01\", \"price\": 395.97}, {\"symbol\": \"GOOG\", \"date\": \"2009-05-01\", \"price\": 417.23}, {\"symbol\": \"GOOG\", \"date\": \"2009-06-01\", \"price\": 421.59}, {\"symbol\": \"GOOG\", \"date\": \"2009-07-01\", \"price\": 443.05}, {\"symbol\": \"GOOG\", \"date\": \"2009-08-01\", \"price\": 461.67}, {\"symbol\": \"GOOG\", \"date\": \"2009-09-01\", \"price\": 495.85}, {\"symbol\": \"GOOG\", \"date\": \"2009-10-01\", \"price\": 536.12}, {\"symbol\": \"GOOG\", \"date\": \"2009-11-01\", \"price\": 583.0}, {\"symbol\": \"GOOG\", \"date\": \"2009-12-01\", \"price\": 619.98}, {\"symbol\": \"GOOG\", \"date\": \"2010-01-01\", \"price\": 529.94}, {\"symbol\": \"GOOG\", \"date\": \"2010-02-01\", \"price\": 526.8}, {\"symbol\": \"GOOG\", \"date\": \"2010-03-01\", \"price\": 560.19}, {\"symbol\": \"AAPL\", \"date\": \"2000-01-01\", \"price\": 25.94}, {\"symbol\": \"AAPL\", \"date\": \"2000-02-01\", \"price\": 28.66}, {\"symbol\": \"AAPL\", \"date\": \"2000-03-01\", \"price\": 33.95}, {\"symbol\": \"AAPL\", \"date\": \"2000-04-01\", \"price\": 31.01}, {\"symbol\": \"AAPL\", \"date\": \"2000-05-01\", \"price\": 21.0}, {\"symbol\": \"AAPL\", \"date\": \"2000-06-01\", \"price\": 26.19}, {\"symbol\": \"AAPL\", \"date\": \"2000-07-01\", \"price\": 25.41}, {\"symbol\": \"AAPL\", \"date\": \"2000-08-01\", \"price\": 30.47}, {\"symbol\": \"AAPL\", \"date\": \"2000-09-01\", \"price\": 12.88}, {\"symbol\": \"AAPL\", \"date\": \"2000-10-01\", \"price\": 9.78}, {\"symbol\": \"AAPL\", \"date\": \"2000-11-01\", \"price\": 8.25}, {\"symbol\": \"AAPL\", \"date\": \"2000-12-01\", \"price\": 7.44}, {\"symbol\": \"AAPL\", \"date\": \"2001-01-01\", \"price\": 10.81}, {\"symbol\": \"AAPL\", \"date\": \"2001-02-01\", \"price\": 9.12}, {\"symbol\": \"AAPL\", \"date\": \"2001-03-01\", \"price\": 11.03}, {\"symbol\": \"AAPL\", \"date\": \"2001-04-01\", \"price\": 12.74}, {\"symbol\": \"AAPL\", \"date\": \"2001-05-01\", \"price\": 9.98}, {\"symbol\": \"AAPL\", \"date\": \"2001-06-01\", \"price\": 11.62}, {\"symbol\": \"AAPL\", \"date\": \"2001-07-01\", \"price\": 9.4}, {\"symbol\": \"AAPL\", \"date\": \"2001-08-01\", \"price\": 9.27}, {\"symbol\": \"AAPL\", \"date\": \"2001-09-01\", \"price\": 7.76}, {\"symbol\": \"AAPL\", \"date\": \"2001-10-01\", \"price\": 8.78}, {\"symbol\": \"AAPL\", \"date\": \"2001-11-01\", \"price\": 10.65}, {\"symbol\": \"AAPL\", \"date\": \"2001-12-01\", \"price\": 10.95}, {\"symbol\": \"AAPL\", \"date\": \"2002-01-01\", \"price\": 12.36}, {\"symbol\": \"AAPL\", \"date\": \"2002-02-01\", \"price\": 10.85}, {\"symbol\": \"AAPL\", \"date\": \"2002-03-01\", \"price\": 11.84}, {\"symbol\": \"AAPL\", \"date\": \"2002-04-01\", \"price\": 12.14}, {\"symbol\": \"AAPL\", \"date\": \"2002-05-01\", \"price\": 11.65}, {\"symbol\": \"AAPL\", \"date\": \"2002-06-01\", \"price\": 8.86}, {\"symbol\": \"AAPL\", \"date\": \"2002-07-01\", \"price\": 7.63}, {\"symbol\": \"AAPL\", \"date\": \"2002-08-01\", \"price\": 7.38}, {\"symbol\": \"AAPL\", \"date\": \"2002-09-01\", \"price\": 7.25}, {\"symbol\": \"AAPL\", \"date\": \"2002-10-01\", \"price\": 8.03}, {\"symbol\": \"AAPL\", \"date\": \"2002-11-01\", \"price\": 7.75}, {\"symbol\": \"AAPL\", \"date\": \"2002-12-01\", \"price\": 7.16}, {\"symbol\": \"AAPL\", \"date\": \"2003-01-01\", \"price\": 7.18}, {\"symbol\": \"AAPL\", \"date\": \"2003-02-01\", \"price\": 7.51}, {\"symbol\": \"AAPL\", \"date\": \"2003-03-01\", \"price\": 7.07}, {\"symbol\": \"AAPL\", \"date\": \"2003-04-01\", \"price\": 7.11}, {\"symbol\": \"AAPL\", \"date\": \"2003-05-01\", \"price\": 8.98}, {\"symbol\": \"AAPL\", \"date\": \"2003-06-01\", \"price\": 9.53}, {\"symbol\": \"AAPL\", \"date\": \"2003-07-01\", \"price\": 10.54}, {\"symbol\": \"AAPL\", \"date\": \"2003-08-01\", \"price\": 11.31}, {\"symbol\": \"AAPL\", \"date\": \"2003-09-01\", \"price\": 10.36}, {\"symbol\": \"AAPL\", \"date\": \"2003-10-01\", \"price\": 11.44}, {\"symbol\": \"AAPL\", \"date\": \"2003-11-01\", \"price\": 10.45}, {\"symbol\": \"AAPL\", \"date\": \"2003-12-01\", \"price\": 10.69}, {\"symbol\": \"AAPL\", \"date\": \"2004-01-01\", \"price\": 11.28}, {\"symbol\": \"AAPL\", \"date\": \"2004-02-01\", \"price\": 11.96}, {\"symbol\": \"AAPL\", \"date\": \"2004-03-01\", \"price\": 13.52}, {\"symbol\": \"AAPL\", \"date\": \"2004-04-01\", \"price\": 12.89}, {\"symbol\": \"AAPL\", \"date\": \"2004-05-01\", \"price\": 14.03}, {\"symbol\": \"AAPL\", \"date\": \"2004-06-01\", \"price\": 16.27}, {\"symbol\": \"AAPL\", \"date\": \"2004-07-01\", \"price\": 16.17}, {\"symbol\": \"AAPL\", \"date\": \"2004-08-01\", \"price\": 17.25}, {\"symbol\": \"AAPL\", \"date\": \"2004-09-01\", \"price\": 19.38}, {\"symbol\": \"AAPL\", \"date\": \"2004-10-01\", \"price\": 26.2}, {\"symbol\": \"AAPL\", \"date\": \"2004-11-01\", \"price\": 33.53}, {\"symbol\": \"AAPL\", \"date\": \"2004-12-01\", \"price\": 32.2}, {\"symbol\": \"AAPL\", \"date\": \"2005-01-01\", \"price\": 38.45}, {\"symbol\": \"AAPL\", \"date\": \"2005-02-01\", \"price\": 44.86}, {\"symbol\": \"AAPL\", \"date\": \"2005-03-01\", \"price\": 41.67}, {\"symbol\": \"AAPL\", \"date\": \"2005-04-01\", \"price\": 36.06}, {\"symbol\": \"AAPL\", \"date\": \"2005-05-01\", \"price\": 39.76}, {\"symbol\": \"AAPL\", \"date\": \"2005-06-01\", \"price\": 36.81}, {\"symbol\": \"AAPL\", \"date\": \"2005-07-01\", \"price\": 42.65}, {\"symbol\": \"AAPL\", \"date\": \"2005-08-01\", \"price\": 46.89}, {\"symbol\": \"AAPL\", \"date\": \"2005-09-01\", \"price\": 53.61}, {\"symbol\": \"AAPL\", \"date\": \"2005-10-01\", \"price\": 57.59}, {\"symbol\": \"AAPL\", \"date\": \"2005-11-01\", \"price\": 67.82}, {\"symbol\": \"AAPL\", \"date\": \"2005-12-01\", \"price\": 71.89}, {\"symbol\": \"AAPL\", \"date\": \"2006-01-01\", \"price\": 75.51}, {\"symbol\": \"AAPL\", \"date\": \"2006-02-01\", \"price\": 68.49}, {\"symbol\": \"AAPL\", \"date\": \"2006-03-01\", \"price\": 62.72}, {\"symbol\": \"AAPL\", \"date\": \"2006-04-01\", \"price\": 70.39}, {\"symbol\": \"AAPL\", \"date\": \"2006-05-01\", \"price\": 59.77}, {\"symbol\": \"AAPL\", \"date\": \"2006-06-01\", \"price\": 57.27}, {\"symbol\": \"AAPL\", \"date\": \"2006-07-01\", \"price\": 67.96}, {\"symbol\": \"AAPL\", \"date\": \"2006-08-01\", \"price\": 67.85}, {\"symbol\": \"AAPL\", \"date\": \"2006-09-01\", \"price\": 76.98}, {\"symbol\": \"AAPL\", \"date\": \"2006-10-01\", \"price\": 81.08}, {\"symbol\": \"AAPL\", \"date\": \"2006-11-01\", \"price\": 91.66}, {\"symbol\": \"AAPL\", \"date\": \"2006-12-01\", \"price\": 84.84}, {\"symbol\": \"AAPL\", \"date\": \"2007-01-01\", \"price\": 85.73}, {\"symbol\": \"AAPL\", \"date\": \"2007-02-01\", \"price\": 84.61}, {\"symbol\": \"AAPL\", \"date\": \"2007-03-01\", \"price\": 92.91}, {\"symbol\": \"AAPL\", \"date\": \"2007-04-01\", \"price\": 99.8}, {\"symbol\": \"AAPL\", \"date\": \"2007-05-01\", \"price\": 121.19}, {\"symbol\": \"AAPL\", \"date\": \"2007-06-01\", \"price\": 122.04}, {\"symbol\": \"AAPL\", \"date\": \"2007-07-01\", \"price\": 131.76}, {\"symbol\": \"AAPL\", \"date\": \"2007-08-01\", \"price\": 138.48}, {\"symbol\": \"AAPL\", \"date\": \"2007-09-01\", \"price\": 153.47}, {\"symbol\": \"AAPL\", \"date\": \"2007-10-01\", \"price\": 189.95}, {\"symbol\": \"AAPL\", \"date\": \"2007-11-01\", \"price\": 182.22}, {\"symbol\": \"AAPL\", \"date\": \"2007-12-01\", \"price\": 198.08}, {\"symbol\": \"AAPL\", \"date\": \"2008-01-01\", \"price\": 135.36}, {\"symbol\": \"AAPL\", \"date\": \"2008-02-01\", \"price\": 125.02}, {\"symbol\": \"AAPL\", \"date\": \"2008-03-01\", \"price\": 143.5}, {\"symbol\": \"AAPL\", \"date\": \"2008-04-01\", \"price\": 173.95}, {\"symbol\": \"AAPL\", \"date\": \"2008-05-01\", \"price\": 188.75}, {\"symbol\": \"AAPL\", \"date\": \"2008-06-01\", \"price\": 167.44}, {\"symbol\": \"AAPL\", \"date\": \"2008-07-01\", \"price\": 158.95}, {\"symbol\": \"AAPL\", \"date\": \"2008-08-01\", \"price\": 169.53}, {\"symbol\": \"AAPL\", \"date\": \"2008-09-01\", \"price\": 113.66}, {\"symbol\": \"AAPL\", \"date\": \"2008-10-01\", \"price\": 107.59}, {\"symbol\": \"AAPL\", \"date\": \"2008-11-01\", \"price\": 92.67}, {\"symbol\": \"AAPL\", \"date\": \"2008-12-01\", \"price\": 85.35}, {\"symbol\": \"AAPL\", \"date\": \"2009-01-01\", \"price\": 90.13}, {\"symbol\": \"AAPL\", \"date\": \"2009-02-01\", \"price\": 89.31}, {\"symbol\": \"AAPL\", \"date\": \"2009-03-01\", \"price\": 105.12}, {\"symbol\": \"AAPL\", \"date\": \"2009-04-01\", \"price\": 125.83}, {\"symbol\": \"AAPL\", \"date\": \"2009-05-01\", \"price\": 135.81}, {\"symbol\": \"AAPL\", \"date\": \"2009-06-01\", \"price\": 142.43}, {\"symbol\": \"AAPL\", \"date\": \"2009-07-01\", \"price\": 163.39}, {\"symbol\": \"AAPL\", \"date\": \"2009-08-01\", \"price\": 168.21}, {\"symbol\": \"AAPL\", \"date\": \"2009-09-01\", \"price\": 185.35}, {\"symbol\": \"AAPL\", \"date\": \"2009-10-01\", \"price\": 188.5}, {\"symbol\": \"AAPL\", \"date\": \"2009-11-01\", \"price\": 199.91}, {\"symbol\": \"AAPL\", \"date\": \"2009-12-01\", \"price\": 210.73}, {\"symbol\": \"AAPL\", \"date\": \"2010-01-01\", \"price\": 192.06}, {\"symbol\": \"AAPL\", \"date\": \"2010-02-01\", \"price\": 204.62}, {\"symbol\": \"AAPL\", \"date\": \"2010-03-01\", \"price\": 223.02}]}, \"mark\": \"line\", \"encoding\": {\"color\": {\"type\": \"nominal\", \"field\": \"symbol\"}, \"x\": {\"type\": \"temporal\", \"field\": \"date\"}, \"y\": {\"type\": \"quantitative\", \"field\": \"price\"}}, \"$schema\": \"https://vega.github.io/schema/vega-lite/v2.4.3.json\"};\n",
       "var opt = {};\n",
       "var selector = \"#303401df-f6f0-44d9-9aa7-9ac73457ebcb\";\n",
       "var type = \"vega-lite\";\n",
       "\n",
       "var output_area = this;\n",
       "\n",
       "require(['nbextensions/jupyter-vega/index'], function(vega) {\n",
       "  vega.render(selector, spec, type, opt, output_area);\n",
       "}, function (err) {\n",
       "  if (err.requireType !== 'scripterror') {\n",
       "    throw(err);\n",
       "  }\n",
       "});\n"
      ]
     },
     "metadata": {
      "jupyter-vega": "#303401df-f6f0-44d9-9aa7-9ac73457ebcb"
     },
     "output_type": "display_data"
    },
    {
     "data": {
      "text/plain": []
     },
     "execution_count": 6,
     "metadata": {},
     "output_type": "execute_result"
    },
    {
     "data": {
      "image/png": "[encoded data removed]"
     },
     "metadata": {
      "jupyter-vega": "#303401df-f6f0-44d9-9aa7-9ac73457ebcb"
     },
     "output_type": "display_data"
    }
   ],
   "source": [
    "alt.Chart(stocks).mark_line().encode(\n",
    "    x='date:T',\n",
    "    y='price',\n",
    "    color='symbol',\n",
    ")"
   ]
  },
  {
   "cell_type": "markdown",
   "metadata": {},
   "source": [
    "## Line chart with custom path"
   ]
  },
  {
   "cell_type": "code",
   "execution_count": 8,
   "metadata": {},
   "outputs": [
    {
     "data": {
      "application/vnd.vegalite.v2+json": {
       "$schema": "https://vega.github.io/schema/vega-lite/v2.json",
       "config": {
        "view": {
         "height": 300,
         "width": 400
        }
       },
       "data": {
        "values": [
         {
          "gas": 2.38,
          "miles": 3675,
          "side": "left",
          "year": 1956
         },
         {
          "gas": 2.4,
          "miles": 3706,
          "side": "right",
          "year": 1957
         },
         {
          "gas": 2.26,
          "miles": 3766,
          "side": "bottom",
          "year": 1958
         },
         {
          "gas": 2.31,
          "miles": 3905,
          "side": "top",
          "year": 1959
         },
         {
          "gas": 2.27,
          "miles": 3935,
          "side": "right",
          "year": 1960
         },
         {
          "gas": 2.25,
          "miles": 3977,
          "side": "bottom",
          "year": 1961
         },
         {
          "gas": 2.22,
          "miles": 4085,
          "side": "right",
          "year": 1962
         },
         {
          "gas": 2.12,
          "miles": 4218,
          "side": "bottom",
          "year": 1963
         },
         {
          "gas": 2.11,
          "miles": 4369,
          "side": "bottom",
          "year": 1964
         },
         {
          "gas": 2.14,
          "miles": 4538,
          "side": "bottom",
          "year": 1965
         },
         {
          "gas": 2.14,
          "miles": 4676,
          "side": "top",
          "year": 1966
         },
         {
          "gas": 2.14,
          "miles": 4827,
          "side": "bottom",
          "year": 1967
         },
         {
          "gas": 2.13,
          "miles": 5038,
          "side": "right",
          "year": 1968
         },
         {
          "gas": 2.07,
          "miles": 5207,
          "side": "right",
          "year": 1969
         },
         {
          "gas": 2.01,
          "miles": 5376,
          "side": "right",
          "year": 1970
         },
         {
          "gas": 1.9300000000000002,
          "miles": 5617,
          "side": "bottom",
          "year": 1971
         },
         {
          "gas": 1.87,
          "miles": 5973,
          "side": "bottom",
          "year": 1972
         },
         {
          "gas": 1.9,
          "miles": 6154,
          "side": "right",
          "year": 1973
         },
         {
          "gas": 2.34,
          "miles": 5943,
          "side": "left",
          "year": 1974
         },
         {
          "gas": 2.31,
          "miles": 6111,
          "side": "bottom",
          "year": 1975
         },
         {
          "gas": 2.32,
          "miles": 6389,
          "side": "bottom",
          "year": 1976
         },
         {
          "gas": 2.36,
          "miles": 6630,
          "side": "top",
          "year": 1977
         },
         {
          "gas": 2.23,
          "miles": 6883,
          "side": "bottom",
          "year": 1978
         },
         {
          "gas": 2.68,
          "miles": 6744,
          "side": "left",
          "year": 1979
         },
         {
          "gas": 3.3,
          "miles": 6672,
          "side": "left",
          "year": 1980
         },
         {
          "gas": 3.3,
          "miles": 6732,
          "side": "right",
          "year": 1981
         },
         {
          "gas": 2.92,
          "miles": 6835,
          "side": "right",
          "year": 1982
         },
         {
          "gas": 2.66,
          "miles": 6943,
          "side": "right",
          "year": 1983
         },
         {
          "gas": 2.48,
          "miles": 7130,
          "side": "right",
          "year": 1984
         },
         {
          "gas": 2.36,
          "miles": 7323,
          "side": "right",
          "year": 1985
         },
         {
          "gas": 1.76,
          "miles": 7558,
          "side": "left",
          "year": 1986
         },
         {
          "gas": 1.76,
          "miles": 7770,
          "side": "top",
          "year": 1987
         },
         {
          "gas": 1.6800000000000002,
          "miles": 8089,
          "side": "bottom",
          "year": 1988
         },
         {
          "gas": 1.75,
          "miles": 8397,
          "side": "left",
          "year": 1989
         },
         {
          "gas": 1.88,
          "miles": 8529,
          "side": "top",
          "year": 1990
         },
         {
          "gas": 1.78,
          "miles": 8535,
          "side": "right",
          "year": 1991
         },
         {
          "gas": 1.69,
          "miles": 8662,
          "side": "right",
          "year": 1992
         },
         {
          "gas": 1.6,
          "miles": 8855,
          "side": "left",
          "year": 1993
         },
         {
          "gas": 1.5899999999999999,
          "miles": 8909,
          "side": "bottom",
          "year": 1994
         },
         {
          "gas": 1.6,
          "miles": 9150,
          "side": "bottom",
          "year": 1995
         },
         {
          "gas": 1.67,
          "miles": 9192,
          "side": "top",
          "year": 1996
         },
         {
          "gas": 1.65,
          "miles": 9416,
          "side": "right",
          "year": 1997
         },
         {
          "gas": 1.3900000000000001,
          "miles": 9590,
          "side": "bottom",
          "year": 1998
         },
         {
          "gas": 1.5,
          "miles": 9687,
          "side": "right",
          "year": 1999
         },
         {
          "gas": 1.8900000000000001,
          "miles": 9717,
          "side": "top",
          "year": 2000
         },
         {
          "gas": 1.77,
          "miles": 9699,
          "side": "left",
          "year": 2001
         },
         {
          "gas": 1.6400000000000001,
          "miles": 9814,
          "side": "bottom",
          "year": 2002
         },
         {
          "gas": 1.8599999999999999,
          "miles": 9868,
          "side": "right",
          "year": 2003
         },
         {
          "gas": 2.14,
          "miles": 9994,
          "side": "left",
          "year": 2004
         },
         {
          "gas": 2.5300000000000002,
          "miles": 10067,
          "side": "left",
          "year": 2005
         },
         {
          "gas": 2.79,
          "miles": 10037,
          "side": "right",
          "year": 2006
         },
         {
          "gas": 2.95,
          "miles": 10025,
          "side": "right",
          "year": 2007
         },
         {
          "gas": 3.31,
          "miles": 9880,
          "side": "left",
          "year": 2008
         },
         {
          "gas": 2.38,
          "miles": 9657,
          "side": "bottom",
          "year": 2009
         },
         {
          "gas": 2.61,
          "miles": 9596,
          "side": "left",
          "year": 2010
         }
        ]
       },
       "encoding": {
        "order": {
         "field": "year",
         "type": "temporal"
        },
        "x": {
         "field": "miles",
         "scale": {
          "zero": false
         },
         "type": "quantitative"
        },
        "y": {
         "field": "gas",
         "scale": {
          "zero": false
         },
         "type": "quantitative"
        }
       },
       "mark": "line"
      },
      "text/plain": [
       "<VegaLite 2 object>"
      ]
     },
     "execution_count": 8,
     "metadata": {},
     "output_type": "execute_result"
    }
   ],
   "source": [
    "driving = data.driving()\n",
    "\n",
    "alt.Chart(driving).mark_line().encode(\n",
    "    alt.X('miles', scale=alt.Scale(zero=False)),\n",
    "    alt.Y('gas', scale=alt.Scale(zero=False)),\n",
    "    order='year:T',\n",
    ")"
   ]
  },
  {
   "cell_type": "markdown",
   "metadata": {},
   "source": [
    "## Layer points and lines with custom path"
   ]
  },
  {
   "cell_type": "code",
   "execution_count": 9,
   "metadata": {},
   "outputs": [
    {
     "data": {
      "application/vnd.vegalite.v2+json": {
       "$schema": "https://vega.github.io/schema/vega-lite/v2.json",
       "config": {
        "view": {
         "height": 300,
         "width": 400
        }
       },
       "layer": [
        {
         "data": {
          "values": [
           {
            "gas": 2.38,
            "miles": 3675,
            "side": "left",
            "year": 1956
           },
           {
            "gas": 2.4,
            "miles": 3706,
            "side": "right",
            "year": 1957
           },
           {
            "gas": 2.26,
            "miles": 3766,
            "side": "bottom",
            "year": 1958
           },
           {
            "gas": 2.31,
            "miles": 3905,
            "side": "top",
            "year": 1959
           },
           {
            "gas": 2.27,
            "miles": 3935,
            "side": "right",
            "year": 1960
           },
           {
            "gas": 2.25,
            "miles": 3977,
            "side": "bottom",
            "year": 1961
           },
           {
            "gas": 2.22,
            "miles": 4085,
            "side": "right",
            "year": 1962
           },
           {
            "gas": 2.12,
            "miles": 4218,
            "side": "bottom",
            "year": 1963
           },
           {
            "gas": 2.11,
            "miles": 4369,
            "side": "bottom",
            "year": 1964
           },
           {
            "gas": 2.14,
            "miles": 4538,
            "side": "bottom",
            "year": 1965
           },
           {
            "gas": 2.14,
            "miles": 4676,
            "side": "top",
            "year": 1966
           },
           {
            "gas": 2.14,
            "miles": 4827,
            "side": "bottom",
            "year": 1967
           },
           {
            "gas": 2.13,
            "miles": 5038,
            "side": "right",
            "year": 1968
           },
           {
            "gas": 2.07,
            "miles": 5207,
            "side": "right",
            "year": 1969
           },
           {
            "gas": 2.01,
            "miles": 5376,
            "side": "right",
            "year": 1970
           },
           {
            "gas": 1.9300000000000002,
            "miles": 5617,
            "side": "bottom",
            "year": 1971
           },
           {
            "gas": 1.87,
            "miles": 5973,
            "side": "bottom",
            "year": 1972
           },
           {
            "gas": 1.9,
            "miles": 6154,
            "side": "right",
            "year": 1973
           },
           {
            "gas": 2.34,
            "miles": 5943,
            "side": "left",
            "year": 1974
           },
           {
            "gas": 2.31,
            "miles": 6111,
            "side": "bottom",
            "year": 1975
           },
           {
            "gas": 2.32,
            "miles": 6389,
            "side": "bottom",
            "year": 1976
           },
           {
            "gas": 2.36,
            "miles": 6630,
            "side": "top",
            "year": 1977
           },
           {
            "gas": 2.23,
            "miles": 6883,
            "side": "bottom",
            "year": 1978
           },
           {
            "gas": 2.68,
            "miles": 6744,
            "side": "left",
            "year": 1979
           },
           {
            "gas": 3.3,
            "miles": 6672,
            "side": "left",
            "year": 1980
           },
           {
            "gas": 3.3,
            "miles": 6732,
            "side": "right",
            "year": 1981
           },
           {
            "gas": 2.92,
            "miles": 6835,
            "side": "right",
            "year": 1982
           },
           {
            "gas": 2.66,
            "miles": 6943,
            "side": "right",
            "year": 1983
           },
           {
            "gas": 2.48,
            "miles": 7130,
            "side": "right",
            "year": 1984
           },
           {
            "gas": 2.36,
            "miles": 7323,
            "side": "right",
            "year": 1985
           },
           {
            "gas": 1.76,
            "miles": 7558,
            "side": "left",
            "year": 1986
           },
           {
            "gas": 1.76,
            "miles": 7770,
            "side": "top",
            "year": 1987
           },
           {
            "gas": 1.6800000000000002,
            "miles": 8089,
            "side": "bottom",
            "year": 1988
           },
           {
            "gas": 1.75,
            "miles": 8397,
            "side": "left",
            "year": 1989
           },
           {
            "gas": 1.88,
            "miles": 8529,
            "side": "top",
            "year": 1990
           },
           {
            "gas": 1.78,
            "miles": 8535,
            "side": "right",
            "year": 1991
           },
           {
            "gas": 1.69,
            "miles": 8662,
            "side": "right",
            "year": 1992
           },
           {
            "gas": 1.6,
            "miles": 8855,
            "side": "left",
            "year": 1993
           },
           {
            "gas": 1.5899999999999999,
            "miles": 8909,
            "side": "bottom",
            "year": 1994
           },
           {
            "gas": 1.6,
            "miles": 9150,
            "side": "bottom",
            "year": 1995
           },
           {
            "gas": 1.67,
            "miles": 9192,
            "side": "top",
            "year": 1996
           },
           {
            "gas": 1.65,
            "miles": 9416,
            "side": "right",
            "year": 1997
           },
           {
            "gas": 1.3900000000000001,
            "miles": 9590,
            "side": "bottom",
            "year": 1998
           },
           {
            "gas": 1.5,
            "miles": 9687,
            "side": "right",
            "year": 1999
           },
           {
            "gas": 1.8900000000000001,
            "miles": 9717,
            "side": "top",
            "year": 2000
           },
           {
            "gas": 1.77,
            "miles": 9699,
            "side": "left",
            "year": 2001
           },
           {
            "gas": 1.6400000000000001,
            "miles": 9814,
            "side": "bottom",
            "year": 2002
           },
           {
            "gas": 1.8599999999999999,
            "miles": 9868,
            "side": "right",
            "year": 2003
           },
           {
            "gas": 2.14,
            "miles": 9994,
            "side": "left",
            "year": 2004
           },
           {
            "gas": 2.5300000000000002,
            "miles": 10067,
            "side": "left",
            "year": 2005
           },
           {
            "gas": 2.79,
            "miles": 10037,
            "side": "right",
            "year": 2006
           },
           {
            "gas": 2.95,
            "miles": 10025,
            "side": "right",
            "year": 2007
           },
           {
            "gas": 3.31,
            "miles": 9880,
            "side": "left",
            "year": 2008
           },
           {
            "gas": 2.38,
            "miles": 9657,
            "side": "bottom",
            "year": 2009
           },
           {
            "gas": 2.61,
            "miles": 9596,
            "side": "left",
            "year": 2010
           }
          ]
         },
         "encoding": {
          "order": {
           "field": "year",
           "type": "temporal"
          },
          "x": {
           "field": "miles",
           "scale": {
            "zero": false
           },
           "type": "quantitative"
          },
          "y": {
           "field": "gas",
           "scale": {
            "zero": false
           },
           "type": "quantitative"
          }
         },
         "mark": "line"
        },
        {
         "data": {
          "values": [
           {
            "gas": 2.38,
            "miles": 3675,
            "side": "left",
            "year": 1956
           },
           {
            "gas": 2.4,
            "miles": 3706,
            "side": "right",
            "year": 1957
           },
           {
            "gas": 2.26,
            "miles": 3766,
            "side": "bottom",
            "year": 1958
           },
           {
            "gas": 2.31,
            "miles": 3905,
            "side": "top",
            "year": 1959
           },
           {
            "gas": 2.27,
            "miles": 3935,
            "side": "right",
            "year": 1960
           },
           {
            "gas": 2.25,
            "miles": 3977,
            "side": "bottom",
            "year": 1961
           },
           {
            "gas": 2.22,
            "miles": 4085,
            "side": "right",
            "year": 1962
           },
           {
            "gas": 2.12,
            "miles": 4218,
            "side": "bottom",
            "year": 1963
           },
           {
            "gas": 2.11,
            "miles": 4369,
            "side": "bottom",
            "year": 1964
           },
           {
            "gas": 2.14,
            "miles": 4538,
            "side": "bottom",
            "year": 1965
           },
           {
            "gas": 2.14,
            "miles": 4676,
            "side": "top",
            "year": 1966
           },
           {
            "gas": 2.14,
            "miles": 4827,
            "side": "bottom",
            "year": 1967
           },
           {
            "gas": 2.13,
            "miles": 5038,
            "side": "right",
            "year": 1968
           },
           {
            "gas": 2.07,
            "miles": 5207,
            "side": "right",
            "year": 1969
           },
           {
            "gas": 2.01,
            "miles": 5376,
            "side": "right",
            "year": 1970
           },
           {
            "gas": 1.9300000000000002,
            "miles": 5617,
            "side": "bottom",
            "year": 1971
           },
           {
            "gas": 1.87,
            "miles": 5973,
            "side": "bottom",
            "year": 1972
           },
           {
            "gas": 1.9,
            "miles": 6154,
            "side": "right",
            "year": 1973
           },
           {
            "gas": 2.34,
            "miles": 5943,
            "side": "left",
            "year": 1974
           },
           {
            "gas": 2.31,
            "miles": 6111,
            "side": "bottom",
            "year": 1975
           },
           {
            "gas": 2.32,
            "miles": 6389,
            "side": "bottom",
            "year": 1976
           },
           {
            "gas": 2.36,
            "miles": 6630,
            "side": "top",
            "year": 1977
           },
           {
            "gas": 2.23,
            "miles": 6883,
            "side": "bottom",
            "year": 1978
           },
           {
            "gas": 2.68,
            "miles": 6744,
            "side": "left",
            "year": 1979
           },
           {
            "gas": 3.3,
            "miles": 6672,
            "side": "left",
            "year": 1980
           },
           {
            "gas": 3.3,
            "miles": 6732,
            "side": "right",
            "year": 1981
           },
           {
            "gas": 2.92,
            "miles": 6835,
            "side": "right",
            "year": 1982
           },
           {
            "gas": 2.66,
            "miles": 6943,
            "side": "right",
            "year": 1983
           },
           {
            "gas": 2.48,
            "miles": 7130,
            "side": "right",
            "year": 1984
           },
           {
            "gas": 2.36,
            "miles": 7323,
            "side": "right",
            "year": 1985
           },
           {
            "gas": 1.76,
            "miles": 7558,
            "side": "left",
            "year": 1986
           },
           {
            "gas": 1.76,
            "miles": 7770,
            "side": "top",
            "year": 1987
           },
           {
            "gas": 1.6800000000000002,
            "miles": 8089,
            "side": "bottom",
            "year": 1988
           },
           {
            "gas": 1.75,
            "miles": 8397,
            "side": "left",
            "year": 1989
           },
           {
            "gas": 1.88,
            "miles": 8529,
            "side": "top",
            "year": 1990
           },
           {
            "gas": 1.78,
            "miles": 8535,
            "side": "right",
            "year": 1991
           },
           {
            "gas": 1.69,
            "miles": 8662,
            "side": "right",
            "year": 1992
           },
           {
            "gas": 1.6,
            "miles": 8855,
            "side": "left",
            "year": 1993
           },
           {
            "gas": 1.5899999999999999,
            "miles": 8909,
            "side": "bottom",
            "year": 1994
           },
           {
            "gas": 1.6,
            "miles": 9150,
            "side": "bottom",
            "year": 1995
           },
           {
            "gas": 1.67,
            "miles": 9192,
            "side": "top",
            "year": 1996
           },
           {
            "gas": 1.65,
            "miles": 9416,
            "side": "right",
            "year": 1997
           },
           {
            "gas": 1.3900000000000001,
            "miles": 9590,
            "side": "bottom",
            "year": 1998
           },
           {
            "gas": 1.5,
            "miles": 9687,
            "side": "right",
            "year": 1999
           },
           {
            "gas": 1.8900000000000001,
            "miles": 9717,
            "side": "top",
            "year": 2000
           },
           {
            "gas": 1.77,
            "miles": 9699,
            "side": "left",
            "year": 2001
           },
           {
            "gas": 1.6400000000000001,
            "miles": 9814,
            "side": "bottom",
            "year": 2002
           },
           {
            "gas": 1.8599999999999999,
            "miles": 9868,
            "side": "right",
            "year": 2003
           },
           {
            "gas": 2.14,
            "miles": 9994,
            "side": "left",
            "year": 2004
           },
           {
            "gas": 2.5300000000000002,
            "miles": 10067,
            "side": "left",
            "year": 2005
           },
           {
            "gas": 2.79,
            "miles": 10037,
            "side": "right",
            "year": 2006
           },
           {
            "gas": 2.95,
            "miles": 10025,
            "side": "right",
            "year": 2007
           },
           {
            "gas": 3.31,
            "miles": 9880,
            "side": "left",
            "year": 2008
           },
           {
            "gas": 2.38,
            "miles": 9657,
            "side": "bottom",
            "year": 2009
           },
           {
            "gas": 2.61,
            "miles": 9596,
            "side": "left",
            "year": 2010
           }
          ]
         },
         "encoding": {
          "order": {
           "field": "year",
           "type": "temporal"
          },
          "x": {
           "field": "miles",
           "scale": {
            "zero": false
           },
           "type": "quantitative"
          },
          "y": {
           "field": "gas",
           "scale": {
            "zero": false
           },
           "type": "quantitative"
          }
         },
         "mark": "point"
        }
       ]
      },
      "text/plain": [
       "<VegaLite 2 object>"
      ]
     },
     "execution_count": 9,
     "metadata": {},
     "output_type": "execute_result"
    }
   ],
   "source": [
    "base = alt.Chart(driving).encode(\n",
    "    alt.X('miles', scale=alt.Scale(zero=False)),\n",
    "    alt.Y('gas', scale=alt.Scale(zero=False)),\n",
    "    order='year:T',\n",
    ")\n",
    "\n",
    "base.mark_line() + base.mark_point()"
   ]
  }
 ],
 "metadata": {
  "anaconda-cloud": {},
  "kernelspec": {
   "display_name": "Python 3",
   "language": "python",
   "name": "python3"
  },
  "language_info": {
   "codemirror_mode": {
    "name": "ipython",
    "version": 3
   },
   "file_extension": ".py",
   "mimetype": "text/x-python",
   "name": "python",
   "nbconvert_exporter": "python",
   "pygments_lexer": "ipython3",
   "version": "3.6.2"
  }
 },
 "nbformat": 4,
 "nbformat_minor": 2
}
