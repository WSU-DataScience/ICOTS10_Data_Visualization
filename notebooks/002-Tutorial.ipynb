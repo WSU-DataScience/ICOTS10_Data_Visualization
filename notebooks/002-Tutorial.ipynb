{
 "cells": [
  {
   "cell_type": "markdown",
   "metadata": {},
   "source": [
    "# Tutorial: Introduction to Altair"
   ]
  },
  {
   "cell_type": "markdown",
   "metadata": {},
   "source": [
    "This tutorial will guide you through the process of creating visualizations in Altair. For details on installing Altair or its underlying philosophy, please see the [Altair Documentation](http://altair-viz.github.io/)\n",
    "\n",
    "Outline:\n",
    "\n",
    "- [The data](#The-data)\n",
    "- [The `Chart` object](#The-Chart-object)\n",
    "- [Data encodings and marks](#Data-encodings-and-marks)\n",
    "- [Data transformation: Aggregation](#Data-transformation:-Aggregation)\n",
    "- [Customizing your visualization](#Customizing-your-visualization)\n",
    "- [Publishing a visualization online](#Publishing-a-visualization-online)\n",
    "\n",
    "This tutorial is written in the form of a Jupyter Notebook; we suggest downloading the notebook and following along, executing the code yourself as we go. For creating Altair visualizations in the notebook, all that is required is to [install the package and its dependencies](https://altair-viz.github.io/installation.html) and import the Altair namespace:"
   ]
  },
  {
   "cell_type": "markdown",
   "metadata": {},
   "source": [
    "## Review - The Grammar of Graphics\n",
    "\n",
    "*The Grammar of Graphics*, Wilkinson (2005) uses the followind specification:\n",
    "\n",
    "1. Data/Variables\n",
    "2. Variable transformation\n",
    "3. Scale tranformation\n",
    "4. Coordinate system\n",
    "5. Geometry and Aesthetics\n",
    "6. Guide"
   ]
  },
  {
   "cell_type": "markdown",
   "metadata": {},
   "source": [
    "## Translating to Altair/Vege-Lite\n",
    "\n",
    "Altair and Vega-Lite use the following\n",
    "\n",
    "* *Coordinate system* $\\rightarrow$ limited to rectagular \n",
    "* Geometry $\\rightarrow$ **mark**\n",
    "* *Data/Variables* and *Aethetics* $\\rightarrow$ **encoding**\n",
    "* *Variable transformation* $\\rightarrow$ **string expressions**\n",
    "* *Scale tranformation* $\\rightarrow$ `alt.Scale`\n"
   ]
  },
  {
   "cell_type": "markdown",
   "metadata": {},
   "source": [
    "## Importing `altair`"
   ]
  },
  {
   "cell_type": "code",
   "execution_count": 16,
   "metadata": {},
   "outputs": [],
   "source": [
    "import altair as alt"
   ]
  },
  {
   "cell_type": "code",
   "execution_count": 17,
   "metadata": {},
   "outputs": [
    {
     "data": {
      "text/plain": [
       "RendererRegistry.enable('notebook')"
      ]
     },
     "execution_count": 17,
     "metadata": {},
     "output_type": "execute_result"
    }
   ],
   "source": [
    "# Uncomment/run this line to enable Altair in the notebook (not JupyterLab):\n",
    "alt.renderers.enable('notebook')"
   ]
  },
  {
   "cell_type": "markdown",
   "metadata": {},
   "source": [
    "## The data"
   ]
  },
  {
   "cell_type": "markdown",
   "metadata": {},
   "source": [
    "Data is specified in two ways.\n",
    "\n",
    "* A `pandas` data frame\n",
    "    * Interactive\n",
    "* A string of a `url` to a csv/JSON data set \n",
    "    * Best for posting to the web\n",
    "    * see [Defining Data](https://altair-viz.github.io/user_guide/data.html)."
   ]
  },
  {
   "cell_type": "markdown",
   "metadata": {},
   "source": [
    "## Small `pandas` Data Set"
   ]
  },
  {
   "cell_type": "code",
   "execution_count": 18,
   "metadata": {},
   "outputs": [
    {
     "data": {
      "text/html": [
       "<div>\n",
       "<style scoped>\n",
       "    .dataframe tbody tr th:only-of-type {\n",
       "        vertical-align: middle;\n",
       "    }\n",
       "\n",
       "    .dataframe tbody tr th {\n",
       "        vertical-align: top;\n",
       "    }\n",
       "\n",
       "    .dataframe thead th {\n",
       "        text-align: right;\n",
       "    }\n",
       "</style>\n",
       "<table border=\"1\" class=\"dataframe\">\n",
       "  <thead>\n",
       "    <tr style=\"text-align: right;\">\n",
       "      <th></th>\n",
       "      <th>a</th>\n",
       "      <th>b</th>\n",
       "    </tr>\n",
       "  </thead>\n",
       "  <tbody>\n",
       "    <tr>\n",
       "      <th>0</th>\n",
       "      <td>C</td>\n",
       "      <td>2</td>\n",
       "    </tr>\n",
       "    <tr>\n",
       "      <th>1</th>\n",
       "      <td>C</td>\n",
       "      <td>7</td>\n",
       "    </tr>\n",
       "    <tr>\n",
       "      <th>2</th>\n",
       "      <td>C</td>\n",
       "      <td>4</td>\n",
       "    </tr>\n",
       "    <tr>\n",
       "      <th>3</th>\n",
       "      <td>D</td>\n",
       "      <td>1</td>\n",
       "    </tr>\n",
       "    <tr>\n",
       "      <th>4</th>\n",
       "      <td>D</td>\n",
       "      <td>2</td>\n",
       "    </tr>\n",
       "    <tr>\n",
       "      <th>5</th>\n",
       "      <td>D</td>\n",
       "      <td>6</td>\n",
       "    </tr>\n",
       "    <tr>\n",
       "      <th>6</th>\n",
       "      <td>E</td>\n",
       "      <td>8</td>\n",
       "    </tr>\n",
       "    <tr>\n",
       "      <th>7</th>\n",
       "      <td>E</td>\n",
       "      <td>4</td>\n",
       "    </tr>\n",
       "    <tr>\n",
       "      <th>8</th>\n",
       "      <td>E</td>\n",
       "      <td>7</td>\n",
       "    </tr>\n",
       "  </tbody>\n",
       "</table>\n",
       "</div>"
      ],
      "text/plain": [
       "   a  b\n",
       "0  C  2\n",
       "1  C  7\n",
       "2  C  4\n",
       "3  D  1\n",
       "4  D  2\n",
       "5  D  6\n",
       "6  E  8\n",
       "7  E  4\n",
       "8  E  7"
      ]
     },
     "execution_count": 18,
     "metadata": {},
     "output_type": "execute_result"
    }
   ],
   "source": [
    "import pandas as pd\n",
    "data = pd.DataFrame({'a': ['C', 'C', 'C', 'D', 'D', 'D', 'E', 'E', 'E'],\n",
    "                     'b': [2, 7, 4, 1, 2, 6, 8, 4, 7]})\n",
    "data"
   ]
  },
  {
   "cell_type": "markdown",
   "metadata": {},
   "source": []
  },
  {
   "cell_type": "markdown",
   "metadata": {},
   "source": [
    "## The `Chart` object\n",
    "\n",
    "* The fundamental object\n",
    "* Takes a dataframe as an argument"
   ]
  },
  {
   "cell_type": "code",
   "execution_count": 10,
   "metadata": {},
   "outputs": [],
   "source": [
    "chart = alt.Chart(data)"
   ]
  },
  {
   "cell_type": "markdown",
   "metadata": {},
   "source": [
    "At this point the specification contains only the data, and no visualization specification."
   ]
  },
  {
   "cell_type": "markdown",
   "metadata": {},
   "source": [
    "## Specifying the Geometry - Chart Marks\n",
    "\n",
    "* Use a `mark` method to specify a geometry\n",
    "* **Example** We can map to points using `mark_point`"
   ]
  },
  {
   "cell_type": "code",
   "execution_count": 19,
   "metadata": {},
   "outputs": [
    {
     "data": {
      "text/html": [
       "<div class=\"vega-embed\" id=\"e903cc31-1464-41c4-bc09-2a96d7e597d6\"></div>\n",
       "\n",
       "<style>\n",
       ".vega-embed .error p {\n",
       "    color: firebrick;\n",
       "    font-size: 14px;\n",
       "}\n",
       "</style>\n"
      ]
     },
     "metadata": {
      "jupyter-vega": "#e903cc31-1464-41c4-bc09-2a96d7e597d6"
     },
     "output_type": "display_data"
    },
    {
     "data": {
      "application/javascript": [
       "var spec = {\"config\": {\"view\": {\"width\": 400, \"height\": 300}}, \"data\": {\"values\": [{\"a\": \"C\", \"b\": 2}, {\"a\": \"C\", \"b\": 7}, {\"a\": \"C\", \"b\": 4}, {\"a\": \"D\", \"b\": 1}, {\"a\": \"D\", \"b\": 2}, {\"a\": \"D\", \"b\": 6}, {\"a\": \"E\", \"b\": 8}, {\"a\": \"E\", \"b\": 4}, {\"a\": \"E\", \"b\": 7}]}, \"mark\": \"point\", \"$schema\": \"https://vega.github.io/schema/vega-lite/v2.4.3.json\"};\n",
       "var opt = {};\n",
       "var selector = \"#e903cc31-1464-41c4-bc09-2a96d7e597d6\";\n",
       "var type = \"vega-lite\";\n",
       "\n",
       "var output_area = this;\n",
       "\n",
       "require(['nbextensions/jupyter-vega/index'], function(vega) {\n",
       "  vega.render(selector, spec, type, opt, output_area);\n",
       "}, function (err) {\n",
       "  if (err.requireType !== 'scripterror') {\n",
       "    throw(err);\n",
       "  }\n",
       "});\n"
      ]
     },
     "metadata": {
      "jupyter-vega": "#e903cc31-1464-41c4-bc09-2a96d7e597d6"
     },
     "output_type": "display_data"
    },
    {
     "data": {
      "text/plain": []
     },
     "execution_count": 19,
     "metadata": {},
     "output_type": "execute_result"
    },
    {
     "data": {
      "image/png": "[encoded data removed]"
     },
     "metadata": {
      "jupyter-vega": "#e903cc31-1464-41c4-bc09-2a96d7e597d6"
     },
     "output_type": "display_data"
    }
   ],
   "source": [
    "chart = alt.Chart(data).mark_point()\n",
    "chart"
   ]
  },
  {
   "cell_type": "markdown",
   "metadata": {},
   "source": [
    "**Question:** Why do we get exactly one point?"
   ]
  },
  {
   "cell_type": "markdown",
   "metadata": {},
   "source": [
    "## Other Mark Types\n",
    "\n",
    "Here are some commonly used `mark_*()` methods; see [Markings](https://altair-viz.github.io/documentation/marks.html) in the Altair documentation:\n",
    "\n",
    "<table>\n",
    "  <tr>\n",
    "    <th>Method</th>\n",
    "  </tr>\n",
    "  <tr>\n",
    "    <td><code>mark_area()</code></td>\n",
    "  </tr>\n",
    "  <tr>\n",
    "    <td><code>mark_bar()</code></td>\n",
    "  </tr>\n",
    "  <tr>\n",
    "    <td><code>mark_circle()</code></td>\n",
    "  </tr>\n",
    "  <tr>\n",
    "    <td><code>mark_line()</code></td>\n",
    "  </tr>\n",
    "  <tr>\n",
    "    <td><code>mark_point()</code></td>\n",
    "  </tr>\n",
    "  <tr>\n",
    "    <td><code>mark_rule()</code></td>\n",
    "  </tr>\n",
    "  <tr>\n",
    "    <td><code>mark_square()</code></td>\n",
    "  </tr>\n",
    "  <tr>\n",
    "    <td><code>mark_text()</code></td>\n",
    "  </tr>\n",
    "  <tr>\n",
    "    <td><code>mark_tick()</code></td>\n",
    "  </tr>\n",
    "</table>\n",
    "\n"
   ]
  },
  {
   "cell_type": "markdown",
   "metadata": {},
   "source": [
    "## Data encodings"
   ]
  },
  {
   "cell_type": "markdown",
   "metadata": {},
   "source": [
    "To assign information to a mark, we use an **encoding**.  A visual encoding specifies \n",
    "\n",
    "* how data should be mapped onto the visual properties.\n",
    "* Can include\n",
    "    * Binning\n",
    "    * Aggregation\n",
    "    * Scaling"
   ]
  },
  {
   "cell_type": "markdown",
   "metadata": {},
   "source": [
    "## Common encodings\n",
    "Some of the more frequenty used visual encodings are listed here:\n",
    "\n",
    "* **X**: x-axis value\n",
    "* **Y**: y-axis value\n",
    "* **Color**: color of the mark\n",
    "* **Opacity**: transparency/opacity of the mark\n",
    "* **Shape**: shape of the mark\n",
    "* **Size**: size of the mark\n",
    "* **Row**: row within a grid of facet plots\n",
    "* **Column**: column within a grid of facet plots\n",
    "\n",
    "For a complete list of these encodings, see the [Encodings](https://altair-viz.github.io/documentation/encoding.html) ."
   ]
  },
  {
   "cell_type": "markdown",
   "metadata": {},
   "source": [
    "## Adding an Encoding to a Chart Object\n",
    "\n",
    "Use the `encode()` method of the `Chart` object. "
   ]
  },
  {
   "cell_type": "code",
   "execution_count": 15,
   "metadata": {},
   "outputs": [
    {
     "data": {
      "text/html": [
       "<div class=\"vega-embed\" id=\"bb37500e-6678-4c23-9b1c-d0ef4176c357\"></div>\n",
       "\n",
       "<style>\n",
       ".vega-embed .error p {\n",
       "    color: firebrick;\n",
       "    font-size: 14px;\n",
       "}\n",
       "</style>\n"
      ]
     },
     "metadata": {
      "jupyter-vega": "#bb37500e-6678-4c23-9b1c-d0ef4176c357"
     },
     "output_type": "display_data"
    },
    {
     "data": {
      "application/javascript": [
       "var spec = {\"config\": {\"view\": {\"width\": 400, \"height\": 300}}, \"data\": {\"values\": [{\"a\": \"C\", \"b\": 2}, {\"a\": \"C\", \"b\": 7}, {\"a\": \"C\", \"b\": 4}, {\"a\": \"D\", \"b\": 1}, {\"a\": \"D\", \"b\": 2}, {\"a\": \"D\", \"b\": 6}, {\"a\": \"E\", \"b\": 8}, {\"a\": \"E\", \"b\": 4}, {\"a\": \"E\", \"b\": 7}]}, \"mark\": \"point\", \"encoding\": {\"y\": {\"type\": \"nominal\", \"field\": \"a\"}}, \"$schema\": \"https://vega.github.io/schema/vega-lite/v2.4.3.json\"};\n",
       "var opt = {};\n",
       "var selector = \"#bb37500e-6678-4c23-9b1c-d0ef4176c357\";\n",
       "var type = \"vega-lite\";\n",
       "\n",
       "var output_area = this;\n",
       "\n",
       "require(['nbextensions/jupyter-vega/index'], function(vega) {\n",
       "  vega.render(selector, spec, type, opt, output_area);\n",
       "}, function (err) {\n",
       "  if (err.requireType !== 'scripterror') {\n",
       "    throw(err);\n",
       "  }\n",
       "});\n"
      ]
     },
     "metadata": {
      "jupyter-vega": "#bb37500e-6678-4c23-9b1c-d0ef4176c357"
     },
     "output_type": "display_data"
    },
    {
     "data": {
      "text/plain": []
     },
     "execution_count": 15,
     "metadata": {},
     "output_type": "execute_result"
    },
    {
     "data": {
      "image/png": "[encoded data removed]"
     },
     "metadata": {
      "jupyter-vega": "#bb37500e-6678-4c23-9b1c-d0ef4176c357"
     },
     "output_type": "display_data"
    }
   ],
   "source": [
    "chart = alt.Chart(data).mark_point().encode(y='a')\n",
    "chart"
   ]
  },
  {
   "cell_type": "markdown",
   "metadata": {},
   "source": [
    "The result is the same as above with the addition of the `'encoding'` key, which specifies the visualization channel (`y`), the name of the field (`a`), and the type of the variable (`nominal`)."
   ]
  },
  {
   "cell_type": "markdown",
   "metadata": {},
   "source": [
    "## Explicit Variable Types\n",
    "\n",
    "* Altair guessed the data type (nominal).\n",
    "* Explicitly specify with a colon"
   ]
  },
  {
   "cell_type": "code",
   "execution_count": 20,
   "metadata": {},
   "outputs": [
    {
     "data": {
      "text/html": [
       "<div class=\"vega-embed\" id=\"45aa68a0-05af-4726-aeea-24cd17335645\"></div>\n",
       "\n",
       "<style>\n",
       ".vega-embed .error p {\n",
       "    color: firebrick;\n",
       "    font-size: 14px;\n",
       "}\n",
       "</style>\n"
      ]
     },
     "metadata": {
      "jupyter-vega": "#45aa68a0-05af-4726-aeea-24cd17335645"
     },
     "output_type": "display_data"
    },
    {
     "data": {
      "application/javascript": [
       "var spec = {\"config\": {\"view\": {\"width\": 400, \"height\": 300}}, \"data\": {\"values\": [{\"a\": \"C\", \"b\": 2}, {\"a\": \"C\", \"b\": 7}, {\"a\": \"C\", \"b\": 4}, {\"a\": \"D\", \"b\": 1}, {\"a\": \"D\", \"b\": 2}, {\"a\": \"D\", \"b\": 6}, {\"a\": \"E\", \"b\": 8}, {\"a\": \"E\", \"b\": 4}, {\"a\": \"E\", \"b\": 7}]}, \"mark\": \"point\", \"encoding\": {\"y\": {\"type\": \"nominal\", \"field\": \"a\"}}, \"$schema\": \"https://vega.github.io/schema/vega-lite/v2.4.3.json\"};\n",
       "var opt = {};\n",
       "var selector = \"#45aa68a0-05af-4726-aeea-24cd17335645\";\n",
       "var type = \"vega-lite\";\n",
       "\n",
       "var output_area = this;\n",
       "\n",
       "require(['nbextensions/jupyter-vega/index'], function(vega) {\n",
       "  vega.render(selector, spec, type, opt, output_area);\n",
       "}, function (err) {\n",
       "  if (err.requireType !== 'scripterror') {\n",
       "    throw(err);\n",
       "  }\n",
       "});\n"
      ]
     },
     "metadata": {
      "jupyter-vega": "#45aa68a0-05af-4726-aeea-24cd17335645"
     },
     "output_type": "display_data"
    },
    {
     "data": {
      "text/plain": []
     },
     "execution_count": 20,
     "metadata": {},
     "output_type": "execute_result"
    },
    {
     "data": {
      "image/png": "[encoded data removed]"
     },
     "metadata": {
      "jupyter-vega": "#45aa68a0-05af-4726-aeea-24cd17335645"
     },
     "output_type": "display_data"
    }
   ],
   "source": [
    "chart = alt.Chart(data).mark_point().encode(y='a:N')\n",
    "chart"
   ]
  },
  {
   "cell_type": "markdown",
   "metadata": {},
   "source": [
    "## Available data types\n",
    "\n",
    "Altair supports four primitive data types:\n",
    "\n",
    "<table>\n",
    "  <tr>\n",
    "    <th>Data Type</th>\n",
    "    <th>Code</th>\n",
    "    <th>Description</th>\n",
    "  </tr>\n",
    "  <tr>\n",
    "    <td>quantitative</td>\n",
    "    <td>Q</td>\n",
    "    <td>Numerical quantity (real-valued)</td>\n",
    "  </tr>\n",
    "  <tr>\n",
    "    <td>nominal</td>\n",
    "    <td>N</td>\n",
    "    <td>Name / Unordered categorical</td>\n",
    "  </tr>\n",
    "  <tr>\n",
    "    <td>ordinal</td>\n",
    "    <td>O</td>\n",
    "    <td>Ordered categorial</td>\n",
    "  </tr>\n",
    "  <tr>\n",
    "    <td>temporal</td>\n",
    "    <td>T</td>\n",
    "    <td>Date/time</td>\n",
    "  </tr>\n",
    "</table>"
   ]
  },
  {
   "cell_type": "markdown",
   "metadata": {},
   "source": [
    "## Mapping 2 Dimension\n",
    "\n",
    "Let's encode column `b` as the `x` position:"
   ]
  },
  {
   "cell_type": "code",
   "execution_count": 21,
   "metadata": {},
   "outputs": [
    {
     "data": {
      "text/html": [
       "<div class=\"vega-embed\" id=\"56f3ce47-98ff-4c0b-a93a-0236c26364e4\"></div>\n",
       "\n",
       "<style>\n",
       ".vega-embed .error p {\n",
       "    color: firebrick;\n",
       "    font-size: 14px;\n",
       "}\n",
       "</style>\n"
      ]
     },
     "metadata": {
      "jupyter-vega": "#56f3ce47-98ff-4c0b-a93a-0236c26364e4"
     },
     "output_type": "display_data"
    },
    {
     "data": {
      "application/javascript": [
       "var spec = {\"config\": {\"view\": {\"width\": 400, \"height\": 300}}, \"data\": {\"values\": [{\"a\": \"C\", \"b\": 2}, {\"a\": \"C\", \"b\": 7}, {\"a\": \"C\", \"b\": 4}, {\"a\": \"D\", \"b\": 1}, {\"a\": \"D\", \"b\": 2}, {\"a\": \"D\", \"b\": 6}, {\"a\": \"E\", \"b\": 8}, {\"a\": \"E\", \"b\": 4}, {\"a\": \"E\", \"b\": 7}]}, \"mark\": \"point\", \"encoding\": {\"x\": {\"type\": \"quantitative\", \"field\": \"b\"}, \"y\": {\"type\": \"nominal\", \"field\": \"a\"}}, \"$schema\": \"https://vega.github.io/schema/vega-lite/v2.4.3.json\"};\n",
       "var opt = {};\n",
       "var selector = \"#56f3ce47-98ff-4c0b-a93a-0236c26364e4\";\n",
       "var type = \"vega-lite\";\n",
       "\n",
       "var output_area = this;\n",
       "\n",
       "require(['nbextensions/jupyter-vega/index'], function(vega) {\n",
       "  vega.render(selector, spec, type, opt, output_area);\n",
       "}, function (err) {\n",
       "  if (err.requireType !== 'scripterror') {\n",
       "    throw(err);\n",
       "  }\n",
       "});\n"
      ]
     },
     "metadata": {
      "jupyter-vega": "#56f3ce47-98ff-4c0b-a93a-0236c26364e4"
     },
     "output_type": "display_data"
    },
    {
     "data": {
      "text/plain": []
     },
     "execution_count": 21,
     "metadata": {},
     "output_type": "execute_result"
    },
    {
     "data": {
      "image/png": "[encoded data removed]"
     },
     "metadata": {
      "jupyter-vega": "#56f3ce47-98ff-4c0b-a93a-0236c26364e4"
     },
     "output_type": "display_data"
    }
   ],
   "source": [
    "alt.Chart(data).mark_point().encode(\n",
    "    y='a',\n",
    "    x='b'\n",
    ")"
   ]
  },
  {
   "cell_type": "markdown",
   "metadata": {},
   "source": [
    "## Changing the mark type\n",
    "\n",
    "A different mark type can be chosen using a different `mark_*()` method, such as `mark_bar()`:"
   ]
  },
  {
   "cell_type": "code",
   "execution_count": 36,
   "metadata": {},
   "outputs": [
    {
     "data": {
      "text/html": [
       "<div class=\"vega-embed\" id=\"104b6afc-a72d-46ab-9b44-b1e86d8f5eeb\"></div>\n",
       "\n",
       "<style>\n",
       ".vega-embed .error p {\n",
       "    color: firebrick;\n",
       "    font-size: 14px;\n",
       "}\n",
       "</style>\n"
      ]
     },
     "metadata": {
      "jupyter-vega": "#104b6afc-a72d-46ab-9b44-b1e86d8f5eeb"
     },
     "output_type": "display_data"
    },
    {
     "data": {
      "application/javascript": [
       "var spec = {\"config\": {\"view\": {\"width\": 400, \"height\": 300}}, \"data\": {\"values\": [{\"a\": \"C\", \"b\": 2}, {\"a\": \"C\", \"b\": 7}, {\"a\": \"C\", \"b\": 4}, {\"a\": \"D\", \"b\": 1}, {\"a\": \"D\", \"b\": 2}, {\"a\": \"D\", \"b\": 6}, {\"a\": \"E\", \"b\": 8}, {\"a\": \"E\", \"b\": 4}, {\"a\": \"E\", \"b\": 7}]}, \"mark\": \"bar\", \"encoding\": {\"x\": {\"type\": \"quantitative\", \"field\": \"b\"}, \"y\": {\"type\": \"nominal\", \"field\": \"a\"}}, \"$schema\": \"https://vega.github.io/schema/vega-lite/v2.4.3.json\"};\n",
       "var opt = {};\n",
       "var selector = \"#104b6afc-a72d-46ab-9b44-b1e86d8f5eeb\";\n",
       "var type = \"vega-lite\";\n",
       "\n",
       "var output_area = this;\n",
       "\n",
       "require(['nbextensions/jupyter-vega/index'], function(vega) {\n",
       "  vega.render(selector, spec, type, opt, output_area);\n",
       "}, function (err) {\n",
       "  if (err.requireType !== 'scripterror') {\n",
       "    throw(err);\n",
       "  }\n",
       "});\n"
      ]
     },
     "metadata": {
      "jupyter-vega": "#104b6afc-a72d-46ab-9b44-b1e86d8f5eeb"
     },
     "output_type": "display_data"
    },
    {
     "data": {
      "text/plain": []
     },
     "execution_count": 36,
     "metadata": {},
     "output_type": "execute_result"
    },
    {
     "data": {
      "image/png": "[encoded data removed]"
     },
     "metadata": {
      "jupyter-vega": "#104b6afc-a72d-46ab-9b44-b1e86d8f5eeb"
     },
     "output_type": "display_data"
    }
   ],
   "source": [
    "alt.Chart(data).mark_bar().encode(\n",
    "    alt.Y('a'),\n",
    "    alt.X('b')\n",
    ")"
   ]
  },
  {
   "cell_type": "markdown",
   "metadata": {},
   "source": [
    "## Two Ways to Specify Variables\n",
    "\n",
    "* First method: `y = 'a'`\n",
    "    * Short and easy to read\n",
    "* Second method: `alt.Y('a')`\n",
    "    * Allows extra features.\n",
    "    \n",
    "You will see many example in the next slides."
   ]
  },
  {
   "cell_type": "markdown",
   "metadata": {},
   "source": [
    "## Data transformation: Aggregation\n",
    "\n",
    "* Altair supports many built-in data transformations, such as \n",
    "    * i.e. aggregation. The easiest way to \n",
    "* Specify through a string-expression syntax.\n",
    "* **Example** Plot a single point representing the mean of the x-values for a given y-value:"
   ]
  },
  {
   "cell_type": "code",
   "execution_count": 30,
   "metadata": {},
   "outputs": [
    {
     "data": {
      "text/html": [
       "<div class=\"vega-embed\" id=\"bbe57e10-f62d-4c53-b141-a880009673d9\"></div>\n",
       "\n",
       "<style>\n",
       ".vega-embed .error p {\n",
       "    color: firebrick;\n",
       "    font-size: 14px;\n",
       "}\n",
       "</style>\n"
      ]
     },
     "metadata": {
      "jupyter-vega": "#bbe57e10-f62d-4c53-b141-a880009673d9"
     },
     "output_type": "display_data"
    },
    {
     "data": {
      "application/javascript": [
       "var spec = {\"config\": {\"view\": {\"width\": 400, \"height\": 300}}, \"data\": {\"values\": [{\"a\": \"C\", \"b\": 2}, {\"a\": \"C\", \"b\": 7}, {\"a\": \"C\", \"b\": 4}, {\"a\": \"D\", \"b\": 1}, {\"a\": \"D\", \"b\": 2}, {\"a\": \"D\", \"b\": 6}, {\"a\": \"E\", \"b\": 8}, {\"a\": \"E\", \"b\": 4}, {\"a\": \"E\", \"b\": 7}]}, \"mark\": \"bar\", \"encoding\": {\"x\": {\"type\": \"quantitative\", \"aggregate\": \"mean\", \"field\": \"b\"}, \"y\": {\"type\": \"nominal\", \"field\": \"a\"}}, \"$schema\": \"https://vega.github.io/schema/vega-lite/v2.4.3.json\"};\n",
       "var opt = {};\n",
       "var selector = \"#bbe57e10-f62d-4c53-b141-a880009673d9\";\n",
       "var type = \"vega-lite\";\n",
       "\n",
       "var output_area = this;\n",
       "\n",
       "require(['nbextensions/jupyter-vega/index'], function(vega) {\n",
       "  vega.render(selector, spec, type, opt, output_area);\n",
       "}, function (err) {\n",
       "  if (err.requireType !== 'scripterror') {\n",
       "    throw(err);\n",
       "  }\n",
       "});\n"
      ]
     },
     "metadata": {
      "jupyter-vega": "#bbe57e10-f62d-4c53-b141-a880009673d9"
     },
     "output_type": "display_data"
    },
    {
     "data": {
      "text/plain": []
     },
     "execution_count": 30,
     "metadata": {},
     "output_type": "execute_result"
    },
    {
     "data": {
      "image/png": "[encoded data removed]"
     },
     "metadata": {
      "jupyter-vega": "#bbe57e10-f62d-4c53-b141-a880009673d9"
     },
     "output_type": "display_data"
    }
   ],
   "source": [
    "alt.Chart(data).mark_bar().encode(\n",
    "    y='a',\n",
    "    x='mean(b)'\n",
    ")"
   ]
  },
  {
   "cell_type": "markdown",
   "metadata": {},
   "source": [
    "## Customizing your visualization"
   ]
  },
  {
   "cell_type": "markdown",
   "metadata": {},
   "source": [
    "To speed the process of data exploration, Altair (via Vega-Lite) makes some choices about default properties of the visualization.\n",
    "Altair also provides an API to customize the look of the visualization. For example, we can use the `X` object we saw above to override the default x-axis title:"
   ]
  },
  {
   "cell_type": "code",
   "execution_count": 19,
   "metadata": {},
   "outputs": [
    {
     "data": {
      "application/vnd.vegalite.v2+json": {
       "$schema": "https://vega.github.io/schema/vega-lite/v2.json",
       "config": {
        "view": {
         "height": 300,
         "width": 400
        }
       },
       "data": {
        "values": [
         {
          "a": "C",
          "b": 2
         },
         {
          "a": "C",
          "b": 7
         },
         {
          "a": "C",
          "b": 4
         },
         {
          "a": "D",
          "b": 1
         },
         {
          "a": "D",
          "b": 2
         },
         {
          "a": "D",
          "b": 6
         },
         {
          "a": "E",
          "b": 8
         },
         {
          "a": "E",
          "b": 4
         },
         {
          "a": "E",
          "b": 7
         }
        ]
       },
       "encoding": {
        "x": {
         "aggregate": "mean",
         "axis": {
          "title": "Mean of quantity b"
         },
         "field": "b",
         "type": "quantitative"
        },
        "y": {
         "field": "a",
         "type": "nominal"
        }
       },
       "mark": "bar"
      },
      "text/plain": [
       "<VegaLite 2 object>"
      ]
     },
     "execution_count": 19,
     "metadata": {},
     "output_type": "execute_result"
    }
   ],
   "source": [
    "alt.Chart(data).mark_bar().encode(\n",
    "    y='a',\n",
    "    x=alt.X('mean(b)', axis=alt.Axis(title='Mean of quantity b'))\n",
    ")"
   ]
  },
  {
   "cell_type": "markdown",
   "metadata": {},
   "source": [
    "The properties of marks can be configured by passing keyword arguments to the `mark_*()` methods; for example, any named HTML color is supported:"
   ]
  },
  {
   "cell_type": "code",
   "execution_count": 34,
   "metadata": {},
   "outputs": [
    {
     "data": {
      "text/html": [
       "<div class=\"vega-embed\" id=\"374a126f-f132-4509-aa46-22131e994991\"></div>\n",
       "\n",
       "<style>\n",
       ".vega-embed .error p {\n",
       "    color: firebrick;\n",
       "    font-size: 14px;\n",
       "}\n",
       "</style>\n"
      ]
     },
     "metadata": {
      "jupyter-vega": "#374a126f-f132-4509-aa46-22131e994991"
     },
     "output_type": "display_data"
    },
    {
     "data": {
      "application/javascript": [
       "var spec = {\"config\": {\"view\": {\"width\": 400, \"height\": 300}}, \"data\": {\"values\": [{\"a\": \"C\", \"b\": 2}, {\"a\": \"C\", \"b\": 7}, {\"a\": \"C\", \"b\": 4}, {\"a\": \"D\", \"b\": 1}, {\"a\": \"D\", \"b\": 2}, {\"a\": \"D\", \"b\": 6}, {\"a\": \"E\", \"b\": 8}, {\"a\": \"E\", \"b\": 4}, {\"a\": \"E\", \"b\": 7}]}, \"mark\": {\"type\": \"bar\", \"color\": \"firebrick\"}, \"encoding\": {\"x\": {\"type\": \"quantitative\", \"aggregate\": \"mean\", \"axis\": {\"title\": \"Mean of quantity b\"}, \"field\": \"b\"}, \"y\": {\"type\": \"nominal\", \"field\": \"a\"}}, \"$schema\": \"https://vega.github.io/schema/vega-lite/v2.4.3.json\"};\n",
       "var opt = {};\n",
       "var selector = \"#374a126f-f132-4509-aa46-22131e994991\";\n",
       "var type = \"vega-lite\";\n",
       "\n",
       "var output_area = this;\n",
       "\n",
       "require(['nbextensions/jupyter-vega/index'], function(vega) {\n",
       "  vega.render(selector, spec, type, opt, output_area);\n",
       "}, function (err) {\n",
       "  if (err.requireType !== 'scripterror') {\n",
       "    throw(err);\n",
       "  }\n",
       "});\n"
      ]
     },
     "metadata": {
      "jupyter-vega": "#374a126f-f132-4509-aa46-22131e994991"
     },
     "output_type": "display_data"
    },
    {
     "data": {
      "text/plain": []
     },
     "execution_count": 34,
     "metadata": {},
     "output_type": "execute_result"
    },
    {
     "data": {
      "image/png": "[encoded data removed]"
     },
     "metadata": {
      "jupyter-vega": "#374a126f-f132-4509-aa46-22131e994991"
     },
     "output_type": "display_data"
    }
   ],
   "source": [
    "alt.Chart(data).mark_bar(color='firebrick').encode(\n",
    "    y='a',\n",
    "    x=alt.X('mean(b)', axis=alt.Axis(title='Mean of quantity b'))\n",
    ")"
   ]
  },
  {
   "cell_type": "markdown",
   "metadata": {},
   "source": [
    "Similarly, we can set properties of the chart such as width and height using the ``properties()`` method:"
   ]
  },
  {
   "cell_type": "code",
   "execution_count": 35,
   "metadata": {},
   "outputs": [
    {
     "data": {
      "text/html": [
       "<div class=\"vega-embed\" id=\"2cdc6bea-3030-4d83-b998-df11cbb5ddb4\"></div>\n",
       "\n",
       "<style>\n",
       ".vega-embed .error p {\n",
       "    color: firebrick;\n",
       "    font-size: 14px;\n",
       "}\n",
       "</style>\n"
      ]
     },
     "metadata": {
      "jupyter-vega": "#2cdc6bea-3030-4d83-b998-df11cbb5ddb4"
     },
     "output_type": "display_data"
    },
    {
     "data": {
      "application/javascript": [
       "var spec = {\"config\": {\"view\": {\"width\": 400, \"height\": 300}}, \"data\": {\"values\": [{\"a\": \"C\", \"b\": 2}, {\"a\": \"C\", \"b\": 7}, {\"a\": \"C\", \"b\": 4}, {\"a\": \"D\", \"b\": 1}, {\"a\": \"D\", \"b\": 2}, {\"a\": \"D\", \"b\": 6}, {\"a\": \"E\", \"b\": 8}, {\"a\": \"E\", \"b\": 4}, {\"a\": \"E\", \"b\": 7}]}, \"mark\": \"bar\", \"encoding\": {\"x\": {\"type\": \"quantitative\", \"aggregate\": \"average\", \"axis\": {\"title\": \"Average of b\"}, \"field\": \"b\"}, \"y\": {\"type\": \"nominal\", \"field\": \"a\"}}, \"height\": 300, \"width\": 400, \"$schema\": \"https://vega.github.io/schema/vega-lite/v2.4.3.json\"};\n",
       "var opt = {};\n",
       "var selector = \"#2cdc6bea-3030-4d83-b998-df11cbb5ddb4\";\n",
       "var type = \"vega-lite\";\n",
       "\n",
       "var output_area = this;\n",
       "\n",
       "require(['nbextensions/jupyter-vega/index'], function(vega) {\n",
       "  vega.render(selector, spec, type, opt, output_area);\n",
       "}, function (err) {\n",
       "  if (err.requireType !== 'scripterror') {\n",
       "    throw(err);\n",
       "  }\n",
       "});\n"
      ]
     },
     "metadata": {
      "jupyter-vega": "#2cdc6bea-3030-4d83-b998-df11cbb5ddb4"
     },
     "output_type": "display_data"
    },
    {
     "data": {
      "text/plain": []
     },
     "execution_count": 35,
     "metadata": {},
     "output_type": "execute_result"
    },
    {
     "data": {
      "image/png": "[encoded data removed]"
     },
     "metadata": {
      "jupyter-vega": "#2cdc6bea-3030-4d83-b998-df11cbb5ddb4"
     },
     "output_type": "display_data"
    }
   ],
   "source": [
    "chart = alt.Chart(data).mark_bar().encode(\n",
    "    y='a',\n",
    "    x=alt.X('average(b)', axis=alt.Axis(title='Average of b'))\n",
    ").properties(\n",
    "    width=400,\n",
    "    height=300\n",
    ")\n",
    "\n",
    "chart"
   ]
  },
  {
   "cell_type": "markdown",
   "metadata": {},
   "source": [
    "As above, we can inspect how these configuration options affect the resulting Vega-lite specification:"
   ]
  },
  {
   "cell_type": "code",
   "execution_count": 22,
   "metadata": {},
   "outputs": [
    {
     "data": {
      "text/plain": [
       "{'$schema': 'https://vega.github.io/schema/vega-lite/v2.json',\n",
       " 'config': {'view': {'height': 300, 'width': 400}},\n",
       " 'data': {'values': [{'a': 'C', 'b': 2},\n",
       "   {'a': 'C', 'b': 7},\n",
       "   {'a': 'C', 'b': 4},\n",
       "   {'a': 'D', 'b': 1},\n",
       "   {'a': 'D', 'b': 2},\n",
       "   {'a': 'D', 'b': 6},\n",
       "   {'a': 'E', 'b': 8},\n",
       "   {'a': 'E', 'b': 4},\n",
       "   {'a': 'E', 'b': 7}]},\n",
       " 'encoding': {'x': {'aggregate': 'average',\n",
       "   'axis': {'title': 'Average of b'},\n",
       "   'field': 'b',\n",
       "   'type': 'quantitative'},\n",
       "  'y': {'field': 'a', 'type': 'nominal'}},\n",
       " 'height': 300,\n",
       " 'mark': 'bar',\n",
       " 'width': 400}"
      ]
     },
     "execution_count": 22,
     "metadata": {},
     "output_type": "execute_result"
    }
   ],
   "source": [
    "chart.to_dict()"
   ]
  },
  {
   "cell_type": "markdown",
   "metadata": {},
   "source": [
    "To learn more about the various properties of chart objects, you can use Jupyter's help syntax:"
   ]
  },
  {
   "cell_type": "code",
   "execution_count": 23,
   "metadata": {},
   "outputs": [
    {
     "data": {
      "text/plain": [
       "\u001b[0;31mInit signature:\u001b[0m \u001b[0malt\u001b[0m\u001b[0;34m.\u001b[0m\u001b[0mChart\u001b[0m\u001b[0;34m(\u001b[0m\u001b[0mdata\u001b[0m\u001b[0;34m=\u001b[0m\u001b[0mUndefined\u001b[0m\u001b[0;34m,\u001b[0m \u001b[0mencoding\u001b[0m\u001b[0;34m=\u001b[0m\u001b[0mUndefined\u001b[0m\u001b[0;34m,\u001b[0m \u001b[0mmark\u001b[0m\u001b[0;34m=\u001b[0m\u001b[0mUndefined\u001b[0m\u001b[0;34m,\u001b[0m \u001b[0mwidth\u001b[0m\u001b[0;34m=\u001b[0m\u001b[0mUndefined\u001b[0m\u001b[0;34m,\u001b[0m \u001b[0mheight\u001b[0m\u001b[0;34m=\u001b[0m\u001b[0mUndefined\u001b[0m\u001b[0;34m,\u001b[0m \u001b[0;34m**\u001b[0m\u001b[0mkwargs\u001b[0m\u001b[0;34m)\u001b[0m\u001b[0;34m\u001b[0m\u001b[0m\n",
       "\u001b[0;31mDocstring:\u001b[0m     \n",
       "Create a basic Altair/Vega-Lite chart.\n",
       "\n",
       "Although it is possible to set all Chart properties as constructor attributes,\n",
       "it is more idiomatic to use methods such as ``mark_point()``, ``encode()``,\n",
       "``transform_filter()``, ``properties()``, etc. See Altair's documentation\n",
       "for details and examples: http://altair-viz.github.io/.\n",
       "\n",
       "Attributes\n",
       "----------\n",
       "data : Data\n",
       "    An object describing the data source\n",
       "mark : AnyMark\n",
       "    A string describing the mark type (one of `\"bar\"`, `\"circle\"`, `\"square\"`, `\"tick\"`,\n",
       "     `\"line\"`, * `\"area\"`, `\"point\"`, `\"rule\"`, `\"geoshape\"`, and `\"text\"`) or a\n",
       "     MarkDef object.\n",
       "encoding : EncodingWithFacet\n",
       "    A key-value mapping between encoding channels and definition of fields.\n",
       "autosize : anyOf(AutosizeType, AutoSizeParams)\n",
       "    Sets how the visualization size should be determined. If a string, should be one of\n",
       "    `\"pad\"`, `\"fit\"` or `\"none\"`. Object values can additionally specify parameters for\n",
       "    content sizing and automatic resizing. `\"fit\"` is only supported for single and\n",
       "    layered views that don't use `rangeStep`.  __Default value__: `pad`\n",
       "background : string\n",
       "    CSS color property to use as the background of visualization.  __Default value:__\n",
       "    none (transparent)\n",
       "config : Config\n",
       "    Vega-Lite configuration object.  This property can only be defined at the top-level\n",
       "    of a specification.\n",
       "description : string\n",
       "    Description of this mark for commenting purpose.\n",
       "height : float\n",
       "    The height of a visualization.\n",
       "name : string\n",
       "    Name of the visualization for later reference.\n",
       "padding : Padding\n",
       "    The default visualization padding, in pixels, from the edge of the visualization\n",
       "    canvas to the data rectangle.  If a number, specifies padding for all sides. If an\n",
       "    object, the value should have the format `{\"left\": 5, \"top\": 5, \"right\": 5,\n",
       "    \"bottom\": 5}` to specify padding for each side of the visualization.  __Default\n",
       "    value__: `5`\n",
       "projection : Projection\n",
       "    An object defining properties of geographic projection.  Works with `\"geoshape\"`\n",
       "    marks and `\"point\"` or `\"line\"` marks that have a channel (one or more of `\"X\"`,\n",
       "    `\"X2\"`, `\"Y\"`, `\"Y2\"`) with type `\"latitude\"`, or `\"longitude\"`.\n",
       "selection : Mapping(required=[])\n",
       "    A key-value mapping between selection names and definitions.\n",
       "title : anyOf(string, TitleParams)\n",
       "    Title for the plot.\n",
       "transform : List(Transform)\n",
       "    An array of data transformations such as filter and new field calculation.\n",
       "width : float\n",
       "    The width of a visualization.\n",
       "\u001b[0;31mFile:\u001b[0m           ~/anaconda/envs/altair-dev/lib/python3.6/site-packages/altair/vegalite/v2/api.py\n",
       "\u001b[0;31mType:\u001b[0m           type\n"
      ]
     },
     "metadata": {},
     "output_type": "display_data"
    }
   ],
   "source": [
    "alt.Chart?"
   ]
  },
  {
   "cell_type": "markdown",
   "metadata": {},
   "source": [
    "You can also read more in Altair's [Configuration](https://altair-viz.github.io/documentation/config.html) documentation."
   ]
  },
  {
   "cell_type": "markdown",
   "metadata": {},
   "source": [
    "## Under-the-hood Detail\n",
    "\n",
    "To make a visualization\n",
    "\n",
    "* Altair creates a JSON specification\n",
    "* Vega-lite renders this in the browser"
   ]
  },
  {
   "cell_type": "code",
   "execution_count": 42,
   "metadata": {},
   "outputs": [
    {
     "data": {
      "text/plain": [
       "{'config': {'view': {'width': 400, 'height': 300}},\n",
       " 'data': {'values': [{'a': 'C', 'b': 2},\n",
       "   {'a': 'C', 'b': 7},\n",
       "   {'a': 'C', 'b': 4},\n",
       "   {'a': 'D', 'b': 1},\n",
       "   {'a': 'D', 'b': 2},\n",
       "   {'a': 'D', 'b': 6},\n",
       "   {'a': 'E', 'b': 8},\n",
       "   {'a': 'E', 'b': 4},\n",
       "   {'a': 'E', 'b': 7}]},\n",
       " 'mark': 'point',\n",
       " 'encoding': {'x': {'type': 'quantitative', 'field': 'b'},\n",
       "  'y': {'type': 'nominal', 'field': 'a'}},\n",
       " '$schema': 'https://vega.github.io/schema/vega-lite/v2.4.3.json'}"
      ]
     },
     "execution_count": 42,
     "metadata": {},
     "output_type": "execute_result"
    }
   ],
   "source": [
    "chart = alt.Chart(data).mark_point().encode(y='a', x='b')\n",
    "chart.to_dict()"
   ]
  },
  {
   "cell_type": "markdown",
   "metadata": {},
   "source": [
    "## Publishing a visualization online"
   ]
  },
  {
   "cell_type": "markdown",
   "metadata": {},
   "source": [
    "Because Altair produces Vega-Lite specifications, it is easy to export and post charts on the web.\n",
    "\n",
    "* Light-weight specification.\n",
    "* Vega-lite does all the work (in JavaScript).\n",
    "* No server needed.\n",
    "\n",
    "Use the ``savechart()`` method to save any chart to HTML."
   ]
  },
  {
   "cell_type": "code",
   "execution_count": 43,
   "metadata": {},
   "outputs": [],
   "source": [
    "chart.savechart('chart.html')"
   ]
  },
  {
   "cell_type": "code",
   "execution_count": 40,
   "metadata": {},
   "outputs": [
    {
     "name": "stdout",
     "output_type": "stream",
     "text": [
      "\r\n",
      "<!DOCTYPE html>\r\n",
      "<html>\r\n",
      "<head>\r\n",
      "  <style>\r\n",
      "    .vega-actions a {\r\n",
      "        margin-right: 12px;\r\n",
      "        color: #757575;\r\n",
      "        font-weight: normal;\r\n",
      "        font-size: 13px;\r\n",
      "    }\r\n",
      "    .error {\r\n",
      "        color: red;\r\n",
      "    }\r\n",
      "  </style>\r\n",
      "\r\n",
      "<script src=\"https://cdn.jsdelivr.net/npm//vega@3.3.1\"></script>\r\n",
      "<script src=\"https://cdn.jsdelivr.net/npm//vega-lite@2.4.3\"></script>\r\n",
      "<script src=\"https://cdn.jsdelivr.net/npm//vega-embed@3.11\"></script>\r\n",
      "\r\n",
      "</head>\r\n",
      "<body>\r\n",
      "  <div id=\"vis\"></div>\r\n",
      "  <script type=\"text/javascript\">\r\n",
      "    var spec = {\"config\": {\"view\": {\"width\": 400, \"height\": 300}}, \"data\": {\"values\": [{\"a\": \"C\", \"b\": 2}, {\"a\": \"C\", \"b\": 7}, {\"a\": \"C\", \"b\": 4}, {\"a\": \"D\", \"b\": 1}, {\"a\": \"D\", \"b\": 2}, {\"a\": \"D\", \"b\": 6}, {\"a\": \"E\", \"b\": 8}, {\"a\": \"E\", \"b\": 4}, {\"a\": \"E\", \"b\": 7}]}, \"mark\": \"point\", \"encoding\": {\"x\": {\"type\": \"quantitative\", \"field\": \"b\"}, \"y\": {\"type\": \"nominal\", \"field\": \"a\"}}, \"$schema\": \"https://vega.github.io/schema/vega-lite/v2.4.3.json\"};\r\n",
      "    var embed_opt = {\"mode\": \"vega-lite\"};\r",
      "\r\n",
      "\r\n",
      "    function showError(el, error){\r\n",
      "        el.innerHTML = ('<div class=\"error\">'\r\n",
      "                        + '<p>JavaScript Error: ' + error.message + '</p>'\r\n",
      "                        + \"<p>This usually means there's a typo in your chart specification. \"\r\n",
      "                        + \"See the javascript console for the full traceback.</p>\"\r\n",
      "                        + '</div>');\r\n",
      "        throw error;\r\n",
      "    }\r\n",
      "    const el = document.getElementById('vis');\r\n",
      "    vegaEmbed(\"#vis\", spec, embed_opt)\r\n",
      "      .catch(error => showError(el, error));\r\n",
      "  </script>\r\n",
      "</body>\r\n",
      "</html>\r\n"
     ]
    }
   ],
   "source": [
    "!cat chart.html"
   ]
  },
  {
   "cell_type": "markdown",
   "metadata": {},
   "source": [
    "## View the Resulting Page in a Notebook"
   ]
  },
  {
   "cell_type": "code",
   "execution_count": 44,
   "metadata": {},
   "outputs": [
    {
     "data": {
      "text/html": [
       "\n",
       "        <iframe\n",
       "            width=\"400\"\n",
       "            height=\"200\"\n",
       "            src=\"chart.html\"\n",
       "            frameborder=\"0\"\n",
       "            allowfullscreen\n",
       "        ></iframe>\n",
       "        "
      ],
      "text/plain": [
       "<IPython.lib.display.IFrame at 0x10c90eeb8>"
      ]
     },
     "execution_count": 44,
     "metadata": {},
     "output_type": "execute_result"
    }
   ],
   "source": [
    "# Display IFrame in IPython\n",
    "from IPython.display import IFrame\n",
    "IFrame('chart.html', width=400, height=200)"
   ]
  },
  {
   "cell_type": "markdown",
   "metadata": {},
   "source": [
    "Alternatively, you can use your web browser to open the file manually to confirm that it works: [chart.html](chart.html)."
   ]
  },
  {
   "cell_type": "markdown",
   "metadata": {},
   "source": [
    "## Learning More\n",
    "\n",
    "For more information on Altair, please refer to Altair's online documentation: http://altair-viz.github.io/\n",
    "\n",
    "You can also see some of the example plots listed in the [accompanying notebooks](01-Index.ipynb)."
   ]
  }
 ],
 "metadata": {
  "anaconda-cloud": {},
  "kernelspec": {
   "display_name": "Python 3",
   "language": "python",
   "name": "python3"
  },
  "language_info": {
   "codemirror_mode": {
    "name": "ipython",
    "version": 3
   },
   "file_extension": ".py",
   "mimetype": "text/x-python",
   "name": "python",
   "nbconvert_exporter": "python",
   "pygments_lexer": "ipython3",
   "version": "3.6.2"
  }
 },
 "nbformat": 4,
 "nbformat_minor": 2
}
